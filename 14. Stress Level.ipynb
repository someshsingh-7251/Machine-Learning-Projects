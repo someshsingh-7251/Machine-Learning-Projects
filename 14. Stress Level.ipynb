{
 "cells": [
  {
   "cell_type": "markdown",
   "id": "bb71223f",
   "metadata": {
    "papermill": {
     "duration": 0.00543,
     "end_time": "2025-02-09T16:53:38.586749",
     "exception": false,
     "start_time": "2025-02-09T16:53:38.581319",
     "status": "completed"
    },
    "tags": []
   },
   "source": [
    "**Import all important Libraries**"
   ]
  },
  {
   "cell_type": "code",
   "execution_count": 1,
   "id": "337d320f",
   "metadata": {
    "execution": {
     "iopub.execute_input": "2025-02-09T16:53:38.597920Z",
     "iopub.status.busy": "2025-02-09T16:53:38.597389Z",
     "iopub.status.idle": "2025-02-09T16:53:42.136325Z",
     "shell.execute_reply": "2025-02-09T16:53:42.135043Z"
    },
    "papermill": {
     "duration": 3.54677,
     "end_time": "2025-02-09T16:53:42.138373",
     "exception": false,
     "start_time": "2025-02-09T16:53:38.591603",
     "status": "completed"
    },
    "tags": []
   },
   "outputs": [],
   "source": [
    "import pandas as pd\n",
    "import numpy as np\n",
    "from sklearn.model_selection import train_test_split\n",
    "from sklearn.preprocessing import LabelEncoder, StandardScaler\n",
    "from xgboost import XGBClassifier\n",
    "from sklearn.metrics import accuracy_score\n",
    "import joblib\n",
    "from imblearn.over_sampling import SMOTE"
   ]
  },
  {
   "cell_type": "markdown",
   "id": "026b298d",
   "metadata": {
    "papermill": {
     "duration": 0.004391,
     "end_time": "2025-02-09T16:53:42.147766",
     "exception": false,
     "start_time": "2025-02-09T16:53:42.143375",
     "status": "completed"
    },
    "tags": []
   },
   "source": [
    "**Load the dataset**"
   ]
  },
  {
   "cell_type": "code",
   "execution_count": 2,
   "id": "992e617c",
   "metadata": {
    "_cell_guid": "b1076dfc-b9ad-4769-8c92-a6c4dae69d19",
    "_uuid": "8f2839f25d086af736a60e9eeb907d3b93b6e0e5",
    "execution": {
     "iopub.execute_input": "2025-02-09T16:53:42.160072Z",
     "iopub.status.busy": "2025-02-09T16:53:42.159497Z",
     "iopub.status.idle": "2025-02-09T16:53:42.484935Z",
     "shell.execute_reply": "2025-02-09T16:53:42.483726Z"
    },
    "papermill": {
     "duration": 0.334396,
     "end_time": "2025-02-09T16:53:42.486918",
     "exception": false,
     "start_time": "2025-02-09T16:53:42.152522",
     "status": "completed"
    },
    "tags": []
   },
   "outputs": [],
   "source": [
    "file_path ='/kaggle/input/stress-level-dataset/Stress Dataset _ Tutorial-1.csv'\n",
    "df = pd.read_csv(file_path)"
   ]
  },
  {
   "cell_type": "code",
   "execution_count": 3,
   "id": "e52234a0",
   "metadata": {
    "execution": {
     "iopub.execute_input": "2025-02-09T16:53:42.497670Z",
     "iopub.status.busy": "2025-02-09T16:53:42.497317Z",
     "iopub.status.idle": "2025-02-09T16:53:42.502760Z",
     "shell.execute_reply": "2025-02-09T16:53:42.501549Z"
    },
    "papermill": {
     "duration": 0.013186,
     "end_time": "2025-02-09T16:53:42.504919",
     "exception": false,
     "start_time": "2025-02-09T16:53:42.491733",
     "status": "completed"
    },
    "tags": []
   },
   "outputs": [
    {
     "name": "stdout",
     "output_type": "stream",
     "text": [
      "Dataset Loaded Successfully\n"
     ]
    }
   ],
   "source": [
    "print(\"Dataset Loaded Successfully\")"
   ]
  },
  {
   "cell_type": "code",
   "execution_count": 4,
   "id": "cced4a19",
   "metadata": {
    "execution": {
     "iopub.execute_input": "2025-02-09T16:53:42.516147Z",
     "iopub.status.busy": "2025-02-09T16:53:42.515723Z",
     "iopub.status.idle": "2025-02-09T16:53:42.550608Z",
     "shell.execute_reply": "2025-02-09T16:53:42.549114Z"
    },
    "papermill": {
     "duration": 0.042426,
     "end_time": "2025-02-09T16:53:42.552369",
     "exception": false,
     "start_time": "2025-02-09T16:53:42.509943",
     "status": "completed"
    },
    "tags": []
   },
   "outputs": [
    {
     "name": "stdout",
     "output_type": "stream",
     "text": [
      "   Age      Gender Marital_Status   Job_Role  Experience_Years  \\\n",
      "0   56  Non-Binary        Widowed  Developer                 5   \n",
      "1   46      Female         Single    Analyst                20   \n",
      "2   32      Female         Single  Developer                10   \n",
      "3   60      Female       Divorced    Analyst                26   \n",
      "4   25        Male        Married      Sales                29   \n",
      "\n",
      "   Monthly_Salary_INR  Working_Hours_per_Week  Commute_Time_Hours  \\\n",
      "0           102703.08                      44                1.72   \n",
      "1           165583.91                      54                0.62   \n",
      "2            38005.39                      81                1.22   \n",
      "3            51127.36                      79                2.03   \n",
      "4           174597.45                      63                1.45   \n",
      "\n",
      "   Remote_Work Health_Issues  ... Family_Support_Level Job_Satisfaction  \\\n",
      "0         True           NaN  ...                    2                5   \n",
      "1         True           NaN  ...                    1               10   \n",
      "2        False      Physical  ...                    1                1   \n",
      "3        False        Mental  ...                   10                5   \n",
      "4         True          Both  ...                    1                9   \n",
      "\n",
      "   Performance_Rating  Team_Size  Training_Opportunities  \\\n",
      "0                  10         38                   False   \n",
      "1                   9         72                    True   \n",
      "2                   1         67                   False   \n",
      "3                  10         98                    True   \n",
      "4                   2         85                    True   \n",
      "\n",
      "   Gender_Bias_Experienced  Discrimination_Experienced  Burnout_Symptoms  \\\n",
      "0                     True                        True                No   \n",
      "1                     True                        True                No   \n",
      "2                    False                       False               Yes   \n",
      "3                     True                       False               Yes   \n",
      "4                    False                       False                No   \n",
      "\n",
      "   Location  Stress_Level  \n",
      "0    Tier-3             0  \n",
      "1    Tier-3             7  \n",
      "2     Metro             7  \n",
      "3     Metro             6  \n",
      "4    Tier-1             8  \n",
      "\n",
      "[5 rows x 29 columns]\n"
     ]
    }
   ],
   "source": [
    "print(df.head())"
   ]
  },
  {
   "cell_type": "markdown",
   "id": "9dbfaced",
   "metadata": {
    "papermill": {
     "duration": 0.004887,
     "end_time": "2025-02-09T16:53:42.562644",
     "exception": false,
     "start_time": "2025-02-09T16:53:42.557757",
     "status": "completed"
    },
    "tags": []
   },
   "source": [
    "**Preprocessing**"
   ]
  },
  {
   "cell_type": "code",
   "execution_count": 5,
   "id": "32c5e36e",
   "metadata": {
    "execution": {
     "iopub.execute_input": "2025-02-09T16:53:42.574721Z",
     "iopub.status.busy": "2025-02-09T16:53:42.574247Z",
     "iopub.status.idle": "2025-02-09T16:53:42.607010Z",
     "shell.execute_reply": "2025-02-09T16:53:42.605566Z"
    },
    "papermill": {
     "duration": 0.041184,
     "end_time": "2025-02-09T16:53:42.608886",
     "exception": false,
     "start_time": "2025-02-09T16:53:42.567702",
     "status": "completed"
    },
    "tags": []
   },
   "outputs": [
    {
     "name": "stdout",
     "output_type": "stream",
     "text": [
      "Missing values dropped\n"
     ]
    }
   ],
   "source": [
    "# Checking for missing values\n",
    "df.dropna(inplace=True)\n",
    "print(\"Missing values dropped\")"
   ]
  },
  {
   "cell_type": "markdown",
   "id": "9401fa73",
   "metadata": {
    "papermill": {
     "duration": 0.004578,
     "end_time": "2025-02-09T16:53:42.618719",
     "exception": false,
     "start_time": "2025-02-09T16:53:42.614141",
     "status": "completed"
    },
    "tags": []
   },
   "source": [
    "**Encoding categorical columns (if any)**"
   ]
  },
  {
   "cell_type": "code",
   "execution_count": 6,
   "id": "b27b533a",
   "metadata": {
    "execution": {
     "iopub.execute_input": "2025-02-09T16:53:42.629920Z",
     "iopub.status.busy": "2025-02-09T16:53:42.629438Z",
     "iopub.status.idle": "2025-02-09T16:53:42.701418Z",
     "shell.execute_reply": "2025-02-09T16:53:42.700149Z"
    },
    "papermill": {
     "duration": 0.079778,
     "end_time": "2025-02-09T16:53:42.703273",
     "exception": false,
     "start_time": "2025-02-09T16:53:42.623495",
     "status": "completed"
    },
    "tags": []
   },
   "outputs": [
    {
     "name": "stdout",
     "output_type": "stream",
     "text": [
      "Categorical features encoded\n"
     ]
    }
   ],
   "source": [
    "label_encoders = {}\n",
    "for column in df.select_dtypes(include=['object']).columns:\n",
    "    le = LabelEncoder()\n",
    "    df[column] = le.fit_transform(df[column])\n",
    "    label_encoders[column] = le\n",
    "print(\"Categorical features encoded\")"
   ]
  },
  {
   "cell_type": "markdown",
   "id": "283ea0aa",
   "metadata": {
    "papermill": {
     "duration": 0.005281,
     "end_time": "2025-02-09T16:53:42.714203",
     "exception": false,
     "start_time": "2025-02-09T16:53:42.708922",
     "status": "completed"
    },
    "tags": []
   },
   "source": [
    "**Splitting features and target**"
   ]
  },
  {
   "cell_type": "code",
   "execution_count": 7,
   "id": "8a694340",
   "metadata": {
    "execution": {
     "iopub.execute_input": "2025-02-09T16:53:42.725607Z",
     "iopub.status.busy": "2025-02-09T16:53:42.725170Z",
     "iopub.status.idle": "2025-02-09T16:53:42.732634Z",
     "shell.execute_reply": "2025-02-09T16:53:42.731568Z"
    },
    "papermill": {
     "duration": 0.015214,
     "end_time": "2025-02-09T16:53:42.734483",
     "exception": false,
     "start_time": "2025-02-09T16:53:42.719269",
     "status": "completed"
    },
    "tags": []
   },
   "outputs": [],
   "source": [
    "X = df.iloc[:, :-1]  # Assuming last column is target\n",
    "y = df.iloc[:, -1]"
   ]
  },
  {
   "cell_type": "markdown",
   "id": "b2328541",
   "metadata": {
    "papermill": {
     "duration": 0.004583,
     "end_time": "2025-02-09T16:53:42.744464",
     "exception": false,
     "start_time": "2025-02-09T16:53:42.739881",
     "status": "completed"
    },
    "tags": []
   },
   "source": [
    "**Normalizing data**"
   ]
  },
  {
   "cell_type": "code",
   "execution_count": 8,
   "id": "b2b72874",
   "metadata": {
    "execution": {
     "iopub.execute_input": "2025-02-09T16:53:42.755841Z",
     "iopub.status.busy": "2025-02-09T16:53:42.755344Z",
     "iopub.status.idle": "2025-02-09T16:53:42.856945Z",
     "shell.execute_reply": "2025-02-09T16:53:42.855777Z"
    },
    "papermill": {
     "duration": 0.109541,
     "end_time": "2025-02-09T16:53:42.858964",
     "exception": false,
     "start_time": "2025-02-09T16:53:42.749423",
     "status": "completed"
    },
    "tags": []
   },
   "outputs": [
    {
     "name": "stdout",
     "output_type": "stream",
     "text": [
      "Feature scaling applied\n"
     ]
    }
   ],
   "source": [
    "scaler = StandardScaler()\n",
    "X_scaled = scaler.fit_transform(X)\n",
    "print(\"Feature scaling applied\")"
   ]
  },
  {
   "cell_type": "markdown",
   "id": "adf37049",
   "metadata": {
    "papermill": {
     "duration": 0.004545,
     "end_time": "2025-02-09T16:53:42.868807",
     "exception": false,
     "start_time": "2025-02-09T16:53:42.864262",
     "status": "completed"
    },
    "tags": []
   },
   "source": [
    "**Handling Class Imbalance**"
   ]
  },
  {
   "cell_type": "code",
   "execution_count": 9,
   "id": "4e1b2083",
   "metadata": {
    "execution": {
     "iopub.execute_input": "2025-02-09T16:53:42.880426Z",
     "iopub.status.busy": "2025-02-09T16:53:42.880061Z",
     "iopub.status.idle": "2025-02-09T16:53:43.407048Z",
     "shell.execute_reply": "2025-02-09T16:53:43.406073Z"
    },
    "papermill": {
     "duration": 0.535272,
     "end_time": "2025-02-09T16:53:43.409108",
     "exception": false,
     "start_time": "2025-02-09T16:53:42.873836",
     "status": "completed"
    },
    "tags": []
   },
   "outputs": [
    {
     "name": "stdout",
     "output_type": "stream",
     "text": [
      "Class imbalance handled with SMOTE\n"
     ]
    }
   ],
   "source": [
    "smote = SMOTE(random_state=42)\n",
    "X_resampled, y_resampled = smote.fit_resample(X_scaled, y)\n",
    "print(\"Class imbalance handled with SMOTE\")"
   ]
  },
  {
   "cell_type": "markdown",
   "id": "04b16766",
   "metadata": {
    "papermill": {
     "duration": 0.004844,
     "end_time": "2025-02-09T16:53:43.420115",
     "exception": false,
     "start_time": "2025-02-09T16:53:43.415271",
     "status": "completed"
    },
    "tags": []
   },
   "source": [
    "**Train-Test Split**"
   ]
  },
  {
   "cell_type": "code",
   "execution_count": 10,
   "id": "38679a41",
   "metadata": {
    "execution": {
     "iopub.execute_input": "2025-02-09T16:53:43.431504Z",
     "iopub.status.busy": "2025-02-09T16:53:43.431125Z",
     "iopub.status.idle": "2025-02-09T16:53:43.452480Z",
     "shell.execute_reply": "2025-02-09T16:53:43.451213Z"
    },
    "papermill": {
     "duration": 0.029458,
     "end_time": "2025-02-09T16:53:43.454501",
     "exception": false,
     "start_time": "2025-02-09T16:53:43.425043",
     "status": "completed"
    },
    "tags": []
   },
   "outputs": [
    {
     "name": "stdout",
     "output_type": "stream",
     "text": [
      "Data split into training and testing sets\n"
     ]
    }
   ],
   "source": [
    "X_train, X_test, y_train, y_test = train_test_split(X_scaled, y, test_size=0.1, random_state=42)\n",
    "print(\"Data split into training and testing sets\")"
   ]
  },
  {
   "cell_type": "markdown",
   "id": "00341ba3",
   "metadata": {
    "papermill": {
     "duration": 0.004697,
     "end_time": "2025-02-09T16:53:43.464472",
     "exception": false,
     "start_time": "2025-02-09T16:53:43.459775",
     "status": "completed"
    },
    "tags": []
   },
   "source": [
    "**Train Model with Hyperparameter Tuning**"
   ]
  },
  {
   "cell_type": "code",
   "execution_count": 11,
   "id": "19e06fbf",
   "metadata": {
    "execution": {
     "iopub.execute_input": "2025-02-09T16:53:43.477325Z",
     "iopub.status.busy": "2025-02-09T16:53:43.476915Z",
     "iopub.status.idle": "2025-02-09T16:53:49.710330Z",
     "shell.execute_reply": "2025-02-09T16:53:49.709263Z"
    },
    "papermill": {
     "duration": 6.242056,
     "end_time": "2025-02-09T16:53:49.712020",
     "exception": false,
     "start_time": "2025-02-09T16:53:43.469964",
     "status": "completed"
    },
    "tags": []
   },
   "outputs": [
    {
     "name": "stdout",
     "output_type": "stream",
     "text": [
      "Model training complete with XGBoost\n"
     ]
    }
   ],
   "source": [
    "model = XGBClassifier(n_estimators=200, max_depth=5, learning_rate=0.1, random_state=42)\n",
    "model.fit(X_train, y_train)\n",
    "print(\"Model training complete with XGBoost\")"
   ]
  },
  {
   "cell_type": "markdown",
   "id": "d295f00b",
   "metadata": {
    "papermill": {
     "duration": 0.004765,
     "end_time": "2025-02-09T16:53:49.722069",
     "exception": false,
     "start_time": "2025-02-09T16:53:49.717304",
     "status": "completed"
    },
    "tags": []
   },
   "source": [
    "**Evaluate Model**"
   ]
  },
  {
   "cell_type": "code",
   "execution_count": 12,
   "id": "440baa81",
   "metadata": {
    "execution": {
     "iopub.execute_input": "2025-02-09T16:53:49.733359Z",
     "iopub.status.busy": "2025-02-09T16:53:49.733028Z",
     "iopub.status.idle": "2025-02-09T16:53:49.812691Z",
     "shell.execute_reply": "2025-02-09T16:53:49.810437Z"
    },
    "papermill": {
     "duration": 0.087576,
     "end_time": "2025-02-09T16:53:49.814706",
     "exception": false,
     "start_time": "2025-02-09T16:53:49.727130",
     "status": "completed"
    },
    "tags": []
   },
   "outputs": [
    {
     "name": "stdout",
     "output_type": "stream",
     "text": [
      "Test Accuracy: 8.33%\n"
     ]
    }
   ],
   "source": [
    "y_pred = model.predict(X_test)\n",
    "accuracy = accuracy_score(y_test, y_pred)\n",
    "print(f'Test Accuracy: {accuracy * 100:.2f}%')"
   ]
  },
  {
   "cell_type": "markdown",
   "id": "6e3acad9",
   "metadata": {
    "papermill": {
     "duration": 0.005419,
     "end_time": "2025-02-09T16:53:49.826630",
     "exception": false,
     "start_time": "2025-02-09T16:53:49.821211",
     "status": "completed"
    },
    "tags": []
   },
   "source": [
    "**Save Model**"
   ]
  },
  {
   "cell_type": "code",
   "execution_count": 13,
   "id": "a3a4aeae",
   "metadata": {
    "execution": {
     "iopub.execute_input": "2025-02-09T16:53:49.838061Z",
     "iopub.status.busy": "2025-02-09T16:53:49.837698Z",
     "iopub.status.idle": "2025-02-09T16:53:49.885627Z",
     "shell.execute_reply": "2025-02-09T16:53:49.884354Z"
    },
    "papermill": {
     "duration": 0.055588,
     "end_time": "2025-02-09T16:53:49.887241",
     "exception": false,
     "start_time": "2025-02-09T16:53:49.831653",
     "status": "completed"
    },
    "tags": []
   },
   "outputs": [
    {
     "name": "stdout",
     "output_type": "stream",
     "text": [
      "Model saved successfully\n"
     ]
    }
   ],
   "source": [
    "joblib.dump(model, 'stress_model.pkl')\n",
    "print(\"Model saved successfully\")"
   ]
  }
 ],
 "metadata": {
  "kaggle": {
   "accelerator": "none",
   "dataSources": [
    {
     "datasetId": 6633284,
     "sourceId": 10703413,
     "sourceType": "datasetVersion"
    }
   ],
   "dockerImageVersionId": 30886,
   "isGpuEnabled": false,
   "isInternetEnabled": true,
   "language": "python",
   "sourceType": "notebook"
  },
  "kernelspec": {
   "display_name": "Python 3",
   "language": "python",
   "name": "python3"
  },
  "language_info": {
   "codemirror_mode": {
    "name": "ipython",
    "version": 3
   },
   "file_extension": ".py",
   "mimetype": "text/x-python",
   "name": "python",
   "nbconvert_exporter": "python",
   "pygments_lexer": "ipython3",
   "version": "3.10.12"
  },
  "papermill": {
   "default_parameters": {},
   "duration": 15.069393,
   "end_time": "2025-02-09T16:53:50.712808",
   "environment_variables": {},
   "exception": null,
   "input_path": "__notebook__.ipynb",
   "output_path": "__notebook__.ipynb",
   "parameters": {},
   "start_time": "2025-02-09T16:53:35.643415",
   "version": "2.6.0"
  }
 },
 "nbformat": 4,
 "nbformat_minor": 5
}
