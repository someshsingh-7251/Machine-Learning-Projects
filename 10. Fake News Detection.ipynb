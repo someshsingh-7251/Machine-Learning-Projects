{
 "cells": [
  {
   "cell_type": "markdown",
   "id": "4f1b9c41",
   "metadata": {
    "papermill": {
     "duration": 0.008534,
     "end_time": "2025-01-08T18:16:34.386639",
     "exception": false,
     "start_time": "2025-01-08T18:16:34.378105",
     "status": "completed"
    },
    "tags": []
   },
   "source": [
    "# Fake News Detection"
   ]
  },
  {
   "cell_type": "markdown",
   "id": "9c1b1f05",
   "metadata": {
    "papermill": {
     "duration": 0.007525,
     "end_time": "2025-01-08T18:16:34.403386",
     "exception": false,
     "start_time": "2025-01-08T18:16:34.395861",
     "status": "completed"
    },
    "tags": []
   },
   "source": [
    "## Install necessary libraries"
   ]
  },
  {
   "cell_type": "code",
   "execution_count": 1,
   "id": "e8bc8a5b",
   "metadata": {
    "execution": {
     "iopub.execute_input": "2025-01-08T18:16:34.421445Z",
     "iopub.status.busy": "2025-01-08T18:16:34.420450Z",
     "iopub.status.idle": "2025-01-08T18:16:37.845121Z",
     "shell.execute_reply": "2025-01-08T18:16:37.843243Z"
    },
    "papermill": {
     "duration": 3.437464,
     "end_time": "2025-01-08T18:16:37.848723",
     "exception": false,
     "start_time": "2025-01-08T18:16:34.411259",
     "status": "completed"
    },
    "tags": []
   },
   "outputs": [],
   "source": [
    "import pandas as pd\n",
    "import matplotlib.pyplot as plt\n",
    "import numpy as np\n",
    "import seaborn as sns\n",
    "import string\n",
    "import re\n",
    "from sklearn.model_selection import train_test_split\n",
    "from sklearn.metrics import accuracy_score\n",
    "from sklearn.metrics import classification_report"
   ]
  },
  {
   "cell_type": "markdown",
   "id": "3480a256",
   "metadata": {
    "papermill": {
     "duration": 0.007745,
     "end_time": "2025-01-08T18:16:37.870136",
     "exception": false,
     "start_time": "2025-01-08T18:16:37.862391",
     "status": "completed"
    },
    "tags": []
   },
   "source": [
    "## Loading the data"
   ]
  },
  {
   "cell_type": "code",
   "execution_count": 2,
   "id": "be2daf0d",
   "metadata": {
    "execution": {
     "iopub.execute_input": "2025-01-08T18:16:37.888284Z",
     "iopub.status.busy": "2025-01-08T18:16:37.887546Z",
     "iopub.status.idle": "2025-01-08T18:16:40.776291Z",
     "shell.execute_reply": "2025-01-08T18:16:40.775165Z"
    },
    "papermill": {
     "duration": 2.900682,
     "end_time": "2025-01-08T18:16:40.778800",
     "exception": false,
     "start_time": "2025-01-08T18:16:37.878118",
     "status": "completed"
    },
    "tags": []
   },
   "outputs": [],
   "source": [
    "data_fake=pd.read_csv('/kaggle/input/fake-and-true-data-set/Fake.csv/Fake.csv')\n",
    "data_true=pd.read_csv('/kaggle/input/fake-and-true-data-set/True.csv/True.csv')"
   ]
  },
  {
   "cell_type": "markdown",
   "id": "7c6ce734",
   "metadata": {
    "papermill": {
     "duration": 0.007581,
     "end_time": "2025-01-08T18:16:40.794891",
     "exception": false,
     "start_time": "2025-01-08T18:16:40.787310",
     "status": "completed"
    },
    "tags": []
   },
   "source": [
    "## Data Preview"
   ]
  },
  {
   "cell_type": "code",
   "execution_count": 3,
   "id": "ebe6f68e",
   "metadata": {
    "execution": {
     "iopub.execute_input": "2025-01-08T18:16:40.811771Z",
     "iopub.status.busy": "2025-01-08T18:16:40.811383Z",
     "iopub.status.idle": "2025-01-08T18:16:40.831837Z",
     "shell.execute_reply": "2025-01-08T18:16:40.830684Z"
    },
    "papermill": {
     "duration": 0.031542,
     "end_time": "2025-01-08T18:16:40.833947",
     "exception": false,
     "start_time": "2025-01-08T18:16:40.802405",
     "status": "completed"
    },
    "tags": []
   },
   "outputs": [
    {
     "data": {
      "text/html": [
       "<div>\n",
       "<style scoped>\n",
       "    .dataframe tbody tr th:only-of-type {\n",
       "        vertical-align: middle;\n",
       "    }\n",
       "\n",
       "    .dataframe tbody tr th {\n",
       "        vertical-align: top;\n",
       "    }\n",
       "\n",
       "    .dataframe thead th {\n",
       "        text-align: right;\n",
       "    }\n",
       "</style>\n",
       "<table border=\"1\" class=\"dataframe\">\n",
       "  <thead>\n",
       "    <tr style=\"text-align: right;\">\n",
       "      <th></th>\n",
       "      <th>title</th>\n",
       "      <th>text</th>\n",
       "      <th>subject</th>\n",
       "      <th>date</th>\n",
       "    </tr>\n",
       "  </thead>\n",
       "  <tbody>\n",
       "    <tr>\n",
       "      <th>0</th>\n",
       "      <td>Donald Trump Sends Out Embarrassing New Year’...</td>\n",
       "      <td>Donald Trump just couldn t wish all Americans ...</td>\n",
       "      <td>News</td>\n",
       "      <td>December 31, 2017</td>\n",
       "    </tr>\n",
       "    <tr>\n",
       "      <th>1</th>\n",
       "      <td>Drunk Bragging Trump Staffer Started Russian ...</td>\n",
       "      <td>House Intelligence Committee Chairman Devin Nu...</td>\n",
       "      <td>News</td>\n",
       "      <td>December 31, 2017</td>\n",
       "    </tr>\n",
       "    <tr>\n",
       "      <th>2</th>\n",
       "      <td>Sheriff David Clarke Becomes An Internet Joke...</td>\n",
       "      <td>On Friday, it was revealed that former Milwauk...</td>\n",
       "      <td>News</td>\n",
       "      <td>December 30, 2017</td>\n",
       "    </tr>\n",
       "    <tr>\n",
       "      <th>3</th>\n",
       "      <td>Trump Is So Obsessed He Even Has Obama’s Name...</td>\n",
       "      <td>On Christmas day, Donald Trump announced that ...</td>\n",
       "      <td>News</td>\n",
       "      <td>December 29, 2017</td>\n",
       "    </tr>\n",
       "    <tr>\n",
       "      <th>4</th>\n",
       "      <td>Pope Francis Just Called Out Donald Trump Dur...</td>\n",
       "      <td>Pope Francis used his annual Christmas Day mes...</td>\n",
       "      <td>News</td>\n",
       "      <td>December 25, 2017</td>\n",
       "    </tr>\n",
       "  </tbody>\n",
       "</table>\n",
       "</div>"
      ],
      "text/plain": [
       "                                               title  \\\n",
       "0   Donald Trump Sends Out Embarrassing New Year’...   \n",
       "1   Drunk Bragging Trump Staffer Started Russian ...   \n",
       "2   Sheriff David Clarke Becomes An Internet Joke...   \n",
       "3   Trump Is So Obsessed He Even Has Obama’s Name...   \n",
       "4   Pope Francis Just Called Out Donald Trump Dur...   \n",
       "\n",
       "                                                text subject  \\\n",
       "0  Donald Trump just couldn t wish all Americans ...    News   \n",
       "1  House Intelligence Committee Chairman Devin Nu...    News   \n",
       "2  On Friday, it was revealed that former Milwauk...    News   \n",
       "3  On Christmas day, Donald Trump announced that ...    News   \n",
       "4  Pope Francis used his annual Christmas Day mes...    News   \n",
       "\n",
       "                date  \n",
       "0  December 31, 2017  \n",
       "1  December 31, 2017  \n",
       "2  December 30, 2017  \n",
       "3  December 29, 2017  \n",
       "4  December 25, 2017  "
      ]
     },
     "execution_count": 3,
     "metadata": {},
     "output_type": "execute_result"
    }
   ],
   "source": [
    "data_fake.head()"
   ]
  },
  {
   "cell_type": "code",
   "execution_count": 4,
   "id": "55c5a8b3",
   "metadata": {
    "execution": {
     "iopub.execute_input": "2025-01-08T18:16:40.851828Z",
     "iopub.status.busy": "2025-01-08T18:16:40.851468Z",
     "iopub.status.idle": "2025-01-08T18:16:40.862619Z",
     "shell.execute_reply": "2025-01-08T18:16:40.861209Z"
    },
    "papermill": {
     "duration": 0.022362,
     "end_time": "2025-01-08T18:16:40.864644",
     "exception": false,
     "start_time": "2025-01-08T18:16:40.842282",
     "status": "completed"
    },
    "tags": []
   },
   "outputs": [
    {
     "data": {
      "text/html": [
       "<div>\n",
       "<style scoped>\n",
       "    .dataframe tbody tr th:only-of-type {\n",
       "        vertical-align: middle;\n",
       "    }\n",
       "\n",
       "    .dataframe tbody tr th {\n",
       "        vertical-align: top;\n",
       "    }\n",
       "\n",
       "    .dataframe thead th {\n",
       "        text-align: right;\n",
       "    }\n",
       "</style>\n",
       "<table border=\"1\" class=\"dataframe\">\n",
       "  <thead>\n",
       "    <tr style=\"text-align: right;\">\n",
       "      <th></th>\n",
       "      <th>title</th>\n",
       "      <th>text</th>\n",
       "      <th>subject</th>\n",
       "      <th>date</th>\n",
       "    </tr>\n",
       "  </thead>\n",
       "  <tbody>\n",
       "    <tr>\n",
       "      <th>21412</th>\n",
       "      <td>'Fully committed' NATO backs new U.S. approach...</td>\n",
       "      <td>BRUSSELS (Reuters) - NATO allies on Tuesday we...</td>\n",
       "      <td>worldnews</td>\n",
       "      <td>August 22, 2017</td>\n",
       "    </tr>\n",
       "    <tr>\n",
       "      <th>21413</th>\n",
       "      <td>LexisNexis withdrew two products from Chinese ...</td>\n",
       "      <td>LONDON (Reuters) - LexisNexis, a provider of l...</td>\n",
       "      <td>worldnews</td>\n",
       "      <td>August 22, 2017</td>\n",
       "    </tr>\n",
       "    <tr>\n",
       "      <th>21414</th>\n",
       "      <td>Minsk cultural hub becomes haven from authorities</td>\n",
       "      <td>MINSK (Reuters) - In the shadow of disused Sov...</td>\n",
       "      <td>worldnews</td>\n",
       "      <td>August 22, 2017</td>\n",
       "    </tr>\n",
       "    <tr>\n",
       "      <th>21415</th>\n",
       "      <td>Vatican upbeat on possibility of Pope Francis ...</td>\n",
       "      <td>MOSCOW (Reuters) - Vatican Secretary of State ...</td>\n",
       "      <td>worldnews</td>\n",
       "      <td>August 22, 2017</td>\n",
       "    </tr>\n",
       "    <tr>\n",
       "      <th>21416</th>\n",
       "      <td>Indonesia to buy $1.14 billion worth of Russia...</td>\n",
       "      <td>JAKARTA (Reuters) - Indonesia will buy 11 Sukh...</td>\n",
       "      <td>worldnews</td>\n",
       "      <td>August 22, 2017</td>\n",
       "    </tr>\n",
       "  </tbody>\n",
       "</table>\n",
       "</div>"
      ],
      "text/plain": [
       "                                                   title  \\\n",
       "21412  'Fully committed' NATO backs new U.S. approach...   \n",
       "21413  LexisNexis withdrew two products from Chinese ...   \n",
       "21414  Minsk cultural hub becomes haven from authorities   \n",
       "21415  Vatican upbeat on possibility of Pope Francis ...   \n",
       "21416  Indonesia to buy $1.14 billion worth of Russia...   \n",
       "\n",
       "                                                    text    subject  \\\n",
       "21412  BRUSSELS (Reuters) - NATO allies on Tuesday we...  worldnews   \n",
       "21413  LONDON (Reuters) - LexisNexis, a provider of l...  worldnews   \n",
       "21414  MINSK (Reuters) - In the shadow of disused Sov...  worldnews   \n",
       "21415  MOSCOW (Reuters) - Vatican Secretary of State ...  worldnews   \n",
       "21416  JAKARTA (Reuters) - Indonesia will buy 11 Sukh...  worldnews   \n",
       "\n",
       "                   date  \n",
       "21412  August 22, 2017   \n",
       "21413  August 22, 2017   \n",
       "21414  August 22, 2017   \n",
       "21415  August 22, 2017   \n",
       "21416  August 22, 2017   "
      ]
     },
     "execution_count": 4,
     "metadata": {},
     "output_type": "execute_result"
    }
   ],
   "source": [
    "data_true.tail()"
   ]
  },
  {
   "cell_type": "code",
   "execution_count": 5,
   "id": "bd41a9dd",
   "metadata": {
    "execution": {
     "iopub.execute_input": "2025-01-08T18:16:40.882884Z",
     "iopub.status.busy": "2025-01-08T18:16:40.882537Z",
     "iopub.status.idle": "2025-01-08T18:16:40.888804Z",
     "shell.execute_reply": "2025-01-08T18:16:40.887829Z"
    },
    "papermill": {
     "duration": 0.017701,
     "end_time": "2025-01-08T18:16:40.890853",
     "exception": false,
     "start_time": "2025-01-08T18:16:40.873152",
     "status": "completed"
    },
    "tags": []
   },
   "outputs": [],
   "source": [
    "data_fake[\"class\"]=0\n",
    "data_true['class']=1"
   ]
  },
  {
   "cell_type": "code",
   "execution_count": 6,
   "id": "8dd20279",
   "metadata": {
    "execution": {
     "iopub.execute_input": "2025-01-08T18:16:40.909267Z",
     "iopub.status.busy": "2025-01-08T18:16:40.908663Z",
     "iopub.status.idle": "2025-01-08T18:16:40.915470Z",
     "shell.execute_reply": "2025-01-08T18:16:40.914520Z"
    },
    "papermill": {
     "duration": 0.018186,
     "end_time": "2025-01-08T18:16:40.917411",
     "exception": false,
     "start_time": "2025-01-08T18:16:40.899225",
     "status": "completed"
    },
    "tags": []
   },
   "outputs": [
    {
     "data": {
      "text/plain": [
       "((23481, 5), (21417, 5))"
      ]
     },
     "execution_count": 6,
     "metadata": {},
     "output_type": "execute_result"
    }
   ],
   "source": [
    "data_fake.shape, data_true.shape"
   ]
  },
  {
   "cell_type": "code",
   "execution_count": 7,
   "id": "1324f7d4",
   "metadata": {
    "execution": {
     "iopub.execute_input": "2025-01-08T18:16:40.936282Z",
     "iopub.status.busy": "2025-01-08T18:16:40.935513Z",
     "iopub.status.idle": "2025-01-08T18:16:40.994147Z",
     "shell.execute_reply": "2025-01-08T18:16:40.992878Z"
    },
    "papermill": {
     "duration": 0.070907,
     "end_time": "2025-01-08T18:16:40.996787",
     "exception": false,
     "start_time": "2025-01-08T18:16:40.925880",
     "status": "completed"
    },
    "tags": []
   },
   "outputs": [],
   "source": [
    "data_fake_manual_testing = data_fake.tail(10)\n",
    "for i in range(23480,23470,-1):\n",
    "    data_fake.drop([i],axis = 0, inplace = True)\n",
    "\n",
    "    \n",
    "data_true_manual_testing = data_true.tail(10)\n",
    "for i in range(21416,21406,-1):\n",
    "    data_true.drop([i],axis = 0, inplace = True)"
   ]
  },
  {
   "cell_type": "code",
   "execution_count": 8,
   "id": "9bd2e779",
   "metadata": {
    "execution": {
     "iopub.execute_input": "2025-01-08T18:16:41.015411Z",
     "iopub.status.busy": "2025-01-08T18:16:41.015010Z",
     "iopub.status.idle": "2025-01-08T18:16:41.021535Z",
     "shell.execute_reply": "2025-01-08T18:16:41.020542Z"
    },
    "papermill": {
     "duration": 0.019029,
     "end_time": "2025-01-08T18:16:41.024278",
     "exception": false,
     "start_time": "2025-01-08T18:16:41.005249",
     "status": "completed"
    },
    "tags": []
   },
   "outputs": [
    {
     "data": {
      "text/plain": [
       "((23471, 5), (21407, 5))"
      ]
     },
     "execution_count": 8,
     "metadata": {},
     "output_type": "execute_result"
    }
   ],
   "source": [
    "data_fake.shape, data_true.shape"
   ]
  },
  {
   "cell_type": "code",
   "execution_count": 9,
   "id": "9555c0a6",
   "metadata": {
    "execution": {
     "iopub.execute_input": "2025-01-08T18:16:41.043734Z",
     "iopub.status.busy": "2025-01-08T18:16:41.043000Z",
     "iopub.status.idle": "2025-01-08T18:16:41.048590Z",
     "shell.execute_reply": "2025-01-08T18:16:41.047501Z"
    },
    "papermill": {
     "duration": 0.018115,
     "end_time": "2025-01-08T18:16:41.051313",
     "exception": false,
     "start_time": "2025-01-08T18:16:41.033198",
     "status": "completed"
    },
    "tags": []
   },
   "outputs": [
    {
     "name": "stderr",
     "output_type": "stream",
     "text": [
      "/tmp/ipykernel_17/1676563180.py:1: SettingWithCopyWarning: \n",
      "A value is trying to be set on a copy of a slice from a DataFrame.\n",
      "Try using .loc[row_indexer,col_indexer] = value instead\n",
      "\n",
      "See the caveats in the documentation: https://pandas.pydata.org/pandas-docs/stable/user_guide/indexing.html#returning-a-view-versus-a-copy\n",
      "  data_fake_manual_testing['class']=0\n",
      "/tmp/ipykernel_17/1676563180.py:2: SettingWithCopyWarning: \n",
      "A value is trying to be set on a copy of a slice from a DataFrame.\n",
      "Try using .loc[row_indexer,col_indexer] = value instead\n",
      "\n",
      "See the caveats in the documentation: https://pandas.pydata.org/pandas-docs/stable/user_guide/indexing.html#returning-a-view-versus-a-copy\n",
      "  data_true_manual_testing['class']=1\n"
     ]
    }
   ],
   "source": [
    "data_fake_manual_testing['class']=0\n",
    "data_true_manual_testing['class']=1"
   ]
  },
  {
   "cell_type": "code",
   "execution_count": 10,
   "id": "10af9656",
   "metadata": {
    "execution": {
     "iopub.execute_input": "2025-01-08T18:16:41.071161Z",
     "iopub.status.busy": "2025-01-08T18:16:41.070775Z",
     "iopub.status.idle": "2025-01-08T18:16:41.082814Z",
     "shell.execute_reply": "2025-01-08T18:16:41.081755Z"
    },
    "papermill": {
     "duration": 0.024275,
     "end_time": "2025-01-08T18:16:41.084981",
     "exception": false,
     "start_time": "2025-01-08T18:16:41.060706",
     "status": "completed"
    },
    "tags": []
   },
   "outputs": [
    {
     "data": {
      "text/html": [
       "<div>\n",
       "<style scoped>\n",
       "    .dataframe tbody tr th:only-of-type {\n",
       "        vertical-align: middle;\n",
       "    }\n",
       "\n",
       "    .dataframe tbody tr th {\n",
       "        vertical-align: top;\n",
       "    }\n",
       "\n",
       "    .dataframe thead th {\n",
       "        text-align: right;\n",
       "    }\n",
       "</style>\n",
       "<table border=\"1\" class=\"dataframe\">\n",
       "  <thead>\n",
       "    <tr style=\"text-align: right;\">\n",
       "      <th></th>\n",
       "      <th>title</th>\n",
       "      <th>text</th>\n",
       "      <th>subject</th>\n",
       "      <th>date</th>\n",
       "      <th>class</th>\n",
       "    </tr>\n",
       "  </thead>\n",
       "  <tbody>\n",
       "    <tr>\n",
       "      <th>23471</th>\n",
       "      <td>Seven Iranians freed in the prisoner swap have...</td>\n",
       "      <td>21st Century Wire says This week, the historic...</td>\n",
       "      <td>Middle-east</td>\n",
       "      <td>January 20, 2016</td>\n",
       "      <td>0</td>\n",
       "    </tr>\n",
       "    <tr>\n",
       "      <th>23472</th>\n",
       "      <td>#Hashtag Hell &amp; The Fake Left</td>\n",
       "      <td>By Dady Chery and Gilbert MercierAll writers ...</td>\n",
       "      <td>Middle-east</td>\n",
       "      <td>January 19, 2016</td>\n",
       "      <td>0</td>\n",
       "    </tr>\n",
       "    <tr>\n",
       "      <th>23473</th>\n",
       "      <td>Astroturfing: Journalist Reveals Brainwashing ...</td>\n",
       "      <td>Vic Bishop Waking TimesOur reality is carefull...</td>\n",
       "      <td>Middle-east</td>\n",
       "      <td>January 19, 2016</td>\n",
       "      <td>0</td>\n",
       "    </tr>\n",
       "    <tr>\n",
       "      <th>23474</th>\n",
       "      <td>The New American Century: An Era of Fraud</td>\n",
       "      <td>Paul Craig RobertsIn the last years of the 20t...</td>\n",
       "      <td>Middle-east</td>\n",
       "      <td>January 19, 2016</td>\n",
       "      <td>0</td>\n",
       "    </tr>\n",
       "    <tr>\n",
       "      <th>23475</th>\n",
       "      <td>Hillary Clinton: ‘Israel First’ (and no peace ...</td>\n",
       "      <td>Robert Fantina CounterpunchAlthough the United...</td>\n",
       "      <td>Middle-east</td>\n",
       "      <td>January 18, 2016</td>\n",
       "      <td>0</td>\n",
       "    </tr>\n",
       "    <tr>\n",
       "      <th>23476</th>\n",
       "      <td>McPain: John McCain Furious That Iran Treated ...</td>\n",
       "      <td>21st Century Wire says As 21WIRE reported earl...</td>\n",
       "      <td>Middle-east</td>\n",
       "      <td>January 16, 2016</td>\n",
       "      <td>0</td>\n",
       "    </tr>\n",
       "    <tr>\n",
       "      <th>23477</th>\n",
       "      <td>JUSTICE? Yahoo Settles E-mail Privacy Class-ac...</td>\n",
       "      <td>21st Century Wire says It s a familiar theme. ...</td>\n",
       "      <td>Middle-east</td>\n",
       "      <td>January 16, 2016</td>\n",
       "      <td>0</td>\n",
       "    </tr>\n",
       "    <tr>\n",
       "      <th>23478</th>\n",
       "      <td>Sunnistan: US and Allied ‘Safe Zone’ Plan to T...</td>\n",
       "      <td>Patrick Henningsen  21st Century WireRemember ...</td>\n",
       "      <td>Middle-east</td>\n",
       "      <td>January 15, 2016</td>\n",
       "      <td>0</td>\n",
       "    </tr>\n",
       "    <tr>\n",
       "      <th>23479</th>\n",
       "      <td>How to Blow $700 Million: Al Jazeera America F...</td>\n",
       "      <td>21st Century Wire says Al Jazeera America will...</td>\n",
       "      <td>Middle-east</td>\n",
       "      <td>January 14, 2016</td>\n",
       "      <td>0</td>\n",
       "    </tr>\n",
       "    <tr>\n",
       "      <th>23480</th>\n",
       "      <td>10 U.S. Navy Sailors Held by Iranian Military ...</td>\n",
       "      <td>21st Century Wire says As 21WIRE predicted in ...</td>\n",
       "      <td>Middle-east</td>\n",
       "      <td>January 12, 2016</td>\n",
       "      <td>0</td>\n",
       "    </tr>\n",
       "  </tbody>\n",
       "</table>\n",
       "</div>"
      ],
      "text/plain": [
       "                                                   title  \\\n",
       "23471  Seven Iranians freed in the prisoner swap have...   \n",
       "23472                      #Hashtag Hell & The Fake Left   \n",
       "23473  Astroturfing: Journalist Reveals Brainwashing ...   \n",
       "23474          The New American Century: An Era of Fraud   \n",
       "23475  Hillary Clinton: ‘Israel First’ (and no peace ...   \n",
       "23476  McPain: John McCain Furious That Iran Treated ...   \n",
       "23477  JUSTICE? Yahoo Settles E-mail Privacy Class-ac...   \n",
       "23478  Sunnistan: US and Allied ‘Safe Zone’ Plan to T...   \n",
       "23479  How to Blow $700 Million: Al Jazeera America F...   \n",
       "23480  10 U.S. Navy Sailors Held by Iranian Military ...   \n",
       "\n",
       "                                                    text      subject  \\\n",
       "23471  21st Century Wire says This week, the historic...  Middle-east   \n",
       "23472   By Dady Chery and Gilbert MercierAll writers ...  Middle-east   \n",
       "23473  Vic Bishop Waking TimesOur reality is carefull...  Middle-east   \n",
       "23474  Paul Craig RobertsIn the last years of the 20t...  Middle-east   \n",
       "23475  Robert Fantina CounterpunchAlthough the United...  Middle-east   \n",
       "23476  21st Century Wire says As 21WIRE reported earl...  Middle-east   \n",
       "23477  21st Century Wire says It s a familiar theme. ...  Middle-east   \n",
       "23478  Patrick Henningsen  21st Century WireRemember ...  Middle-east   \n",
       "23479  21st Century Wire says Al Jazeera America will...  Middle-east   \n",
       "23480  21st Century Wire says As 21WIRE predicted in ...  Middle-east   \n",
       "\n",
       "                   date  class  \n",
       "23471  January 20, 2016      0  \n",
       "23472  January 19, 2016      0  \n",
       "23473  January 19, 2016      0  \n",
       "23474  January 19, 2016      0  \n",
       "23475  January 18, 2016      0  \n",
       "23476  January 16, 2016      0  \n",
       "23477  January 16, 2016      0  \n",
       "23478  January 15, 2016      0  \n",
       "23479  January 14, 2016      0  \n",
       "23480  January 12, 2016      0  "
      ]
     },
     "execution_count": 10,
     "metadata": {},
     "output_type": "execute_result"
    }
   ],
   "source": [
    "data_fake_manual_testing.head(10)"
   ]
  },
  {
   "cell_type": "code",
   "execution_count": 11,
   "id": "e8c814e4",
   "metadata": {
    "execution": {
     "iopub.execute_input": "2025-01-08T18:16:41.105451Z",
     "iopub.status.busy": "2025-01-08T18:16:41.104617Z",
     "iopub.status.idle": "2025-01-08T18:16:41.115862Z",
     "shell.execute_reply": "2025-01-08T18:16:41.114817Z"
    },
    "papermill": {
     "duration": 0.023482,
     "end_time": "2025-01-08T18:16:41.117840",
     "exception": false,
     "start_time": "2025-01-08T18:16:41.094358",
     "status": "completed"
    },
    "tags": []
   },
   "outputs": [
    {
     "data": {
      "text/html": [
       "<div>\n",
       "<style scoped>\n",
       "    .dataframe tbody tr th:only-of-type {\n",
       "        vertical-align: middle;\n",
       "    }\n",
       "\n",
       "    .dataframe tbody tr th {\n",
       "        vertical-align: top;\n",
       "    }\n",
       "\n",
       "    .dataframe thead th {\n",
       "        text-align: right;\n",
       "    }\n",
       "</style>\n",
       "<table border=\"1\" class=\"dataframe\">\n",
       "  <thead>\n",
       "    <tr style=\"text-align: right;\">\n",
       "      <th></th>\n",
       "      <th>title</th>\n",
       "      <th>text</th>\n",
       "      <th>subject</th>\n",
       "      <th>date</th>\n",
       "      <th>class</th>\n",
       "    </tr>\n",
       "  </thead>\n",
       "  <tbody>\n",
       "    <tr>\n",
       "      <th>21407</th>\n",
       "      <td>Mata Pires, owner of embattled Brazil builder ...</td>\n",
       "      <td>SAO PAULO (Reuters) - Cesar Mata Pires, the ow...</td>\n",
       "      <td>worldnews</td>\n",
       "      <td>August 22, 2017</td>\n",
       "      <td>1</td>\n",
       "    </tr>\n",
       "    <tr>\n",
       "      <th>21408</th>\n",
       "      <td>U.S., North Korea clash at U.N. forum over nuc...</td>\n",
       "      <td>GENEVA (Reuters) - North Korea and the United ...</td>\n",
       "      <td>worldnews</td>\n",
       "      <td>August 22, 2017</td>\n",
       "      <td>1</td>\n",
       "    </tr>\n",
       "    <tr>\n",
       "      <th>21409</th>\n",
       "      <td>U.S., North Korea clash at U.N. arms forum on ...</td>\n",
       "      <td>GENEVA (Reuters) - North Korea and the United ...</td>\n",
       "      <td>worldnews</td>\n",
       "      <td>August 22, 2017</td>\n",
       "      <td>1</td>\n",
       "    </tr>\n",
       "    <tr>\n",
       "      <th>21410</th>\n",
       "      <td>Headless torso could belong to submarine journ...</td>\n",
       "      <td>COPENHAGEN (Reuters) - Danish police said on T...</td>\n",
       "      <td>worldnews</td>\n",
       "      <td>August 22, 2017</td>\n",
       "      <td>1</td>\n",
       "    </tr>\n",
       "    <tr>\n",
       "      <th>21411</th>\n",
       "      <td>North Korea shipments to Syria chemical arms a...</td>\n",
       "      <td>UNITED NATIONS (Reuters) - Two North Korean sh...</td>\n",
       "      <td>worldnews</td>\n",
       "      <td>August 21, 2017</td>\n",
       "      <td>1</td>\n",
       "    </tr>\n",
       "    <tr>\n",
       "      <th>21412</th>\n",
       "      <td>'Fully committed' NATO backs new U.S. approach...</td>\n",
       "      <td>BRUSSELS (Reuters) - NATO allies on Tuesday we...</td>\n",
       "      <td>worldnews</td>\n",
       "      <td>August 22, 2017</td>\n",
       "      <td>1</td>\n",
       "    </tr>\n",
       "    <tr>\n",
       "      <th>21413</th>\n",
       "      <td>LexisNexis withdrew two products from Chinese ...</td>\n",
       "      <td>LONDON (Reuters) - LexisNexis, a provider of l...</td>\n",
       "      <td>worldnews</td>\n",
       "      <td>August 22, 2017</td>\n",
       "      <td>1</td>\n",
       "    </tr>\n",
       "    <tr>\n",
       "      <th>21414</th>\n",
       "      <td>Minsk cultural hub becomes haven from authorities</td>\n",
       "      <td>MINSK (Reuters) - In the shadow of disused Sov...</td>\n",
       "      <td>worldnews</td>\n",
       "      <td>August 22, 2017</td>\n",
       "      <td>1</td>\n",
       "    </tr>\n",
       "    <tr>\n",
       "      <th>21415</th>\n",
       "      <td>Vatican upbeat on possibility of Pope Francis ...</td>\n",
       "      <td>MOSCOW (Reuters) - Vatican Secretary of State ...</td>\n",
       "      <td>worldnews</td>\n",
       "      <td>August 22, 2017</td>\n",
       "      <td>1</td>\n",
       "    </tr>\n",
       "    <tr>\n",
       "      <th>21416</th>\n",
       "      <td>Indonesia to buy $1.14 billion worth of Russia...</td>\n",
       "      <td>JAKARTA (Reuters) - Indonesia will buy 11 Sukh...</td>\n",
       "      <td>worldnews</td>\n",
       "      <td>August 22, 2017</td>\n",
       "      <td>1</td>\n",
       "    </tr>\n",
       "  </tbody>\n",
       "</table>\n",
       "</div>"
      ],
      "text/plain": [
       "                                                   title  \\\n",
       "21407  Mata Pires, owner of embattled Brazil builder ...   \n",
       "21408  U.S., North Korea clash at U.N. forum over nuc...   \n",
       "21409  U.S., North Korea clash at U.N. arms forum on ...   \n",
       "21410  Headless torso could belong to submarine journ...   \n",
       "21411  North Korea shipments to Syria chemical arms a...   \n",
       "21412  'Fully committed' NATO backs new U.S. approach...   \n",
       "21413  LexisNexis withdrew two products from Chinese ...   \n",
       "21414  Minsk cultural hub becomes haven from authorities   \n",
       "21415  Vatican upbeat on possibility of Pope Francis ...   \n",
       "21416  Indonesia to buy $1.14 billion worth of Russia...   \n",
       "\n",
       "                                                    text    subject  \\\n",
       "21407  SAO PAULO (Reuters) - Cesar Mata Pires, the ow...  worldnews   \n",
       "21408  GENEVA (Reuters) - North Korea and the United ...  worldnews   \n",
       "21409  GENEVA (Reuters) - North Korea and the United ...  worldnews   \n",
       "21410  COPENHAGEN (Reuters) - Danish police said on T...  worldnews   \n",
       "21411  UNITED NATIONS (Reuters) - Two North Korean sh...  worldnews   \n",
       "21412  BRUSSELS (Reuters) - NATO allies on Tuesday we...  worldnews   \n",
       "21413  LONDON (Reuters) - LexisNexis, a provider of l...  worldnews   \n",
       "21414  MINSK (Reuters) - In the shadow of disused Sov...  worldnews   \n",
       "21415  MOSCOW (Reuters) - Vatican Secretary of State ...  worldnews   \n",
       "21416  JAKARTA (Reuters) - Indonesia will buy 11 Sukh...  worldnews   \n",
       "\n",
       "                   date  class  \n",
       "21407  August 22, 2017       1  \n",
       "21408  August 22, 2017       1  \n",
       "21409  August 22, 2017       1  \n",
       "21410  August 22, 2017       1  \n",
       "21411  August 21, 2017       1  \n",
       "21412  August 22, 2017       1  \n",
       "21413  August 22, 2017       1  \n",
       "21414  August 22, 2017       1  \n",
       "21415  August 22, 2017       1  \n",
       "21416  August 22, 2017       1  "
      ]
     },
     "execution_count": 11,
     "metadata": {},
     "output_type": "execute_result"
    }
   ],
   "source": [
    "data_true_manual_testing.head(10)"
   ]
  },
  {
   "cell_type": "code",
   "execution_count": 12,
   "id": "ea5fcd13",
   "metadata": {
    "execution": {
     "iopub.execute_input": "2025-01-08T18:16:41.138921Z",
     "iopub.status.busy": "2025-01-08T18:16:41.138558Z",
     "iopub.status.idle": "2025-01-08T18:16:41.155581Z",
     "shell.execute_reply": "2025-01-08T18:16:41.154438Z"
    },
    "papermill": {
     "duration": 0.030052,
     "end_time": "2025-01-08T18:16:41.157665",
     "exception": false,
     "start_time": "2025-01-08T18:16:41.127613",
     "status": "completed"
    },
    "tags": []
   },
   "outputs": [
    {
     "data": {
      "text/html": [
       "<div>\n",
       "<style scoped>\n",
       "    .dataframe tbody tr th:only-of-type {\n",
       "        vertical-align: middle;\n",
       "    }\n",
       "\n",
       "    .dataframe tbody tr th {\n",
       "        vertical-align: top;\n",
       "    }\n",
       "\n",
       "    .dataframe thead th {\n",
       "        text-align: right;\n",
       "    }\n",
       "</style>\n",
       "<table border=\"1\" class=\"dataframe\">\n",
       "  <thead>\n",
       "    <tr style=\"text-align: right;\">\n",
       "      <th></th>\n",
       "      <th>title</th>\n",
       "      <th>text</th>\n",
       "      <th>subject</th>\n",
       "      <th>date</th>\n",
       "      <th>class</th>\n",
       "    </tr>\n",
       "  </thead>\n",
       "  <tbody>\n",
       "    <tr>\n",
       "      <th>0</th>\n",
       "      <td>Donald Trump Sends Out Embarrassing New Year’...</td>\n",
       "      <td>Donald Trump just couldn t wish all Americans ...</td>\n",
       "      <td>News</td>\n",
       "      <td>December 31, 2017</td>\n",
       "      <td>0</td>\n",
       "    </tr>\n",
       "    <tr>\n",
       "      <th>1</th>\n",
       "      <td>Drunk Bragging Trump Staffer Started Russian ...</td>\n",
       "      <td>House Intelligence Committee Chairman Devin Nu...</td>\n",
       "      <td>News</td>\n",
       "      <td>December 31, 2017</td>\n",
       "      <td>0</td>\n",
       "    </tr>\n",
       "    <tr>\n",
       "      <th>2</th>\n",
       "      <td>Sheriff David Clarke Becomes An Internet Joke...</td>\n",
       "      <td>On Friday, it was revealed that former Milwauk...</td>\n",
       "      <td>News</td>\n",
       "      <td>December 30, 2017</td>\n",
       "      <td>0</td>\n",
       "    </tr>\n",
       "    <tr>\n",
       "      <th>3</th>\n",
       "      <td>Trump Is So Obsessed He Even Has Obama’s Name...</td>\n",
       "      <td>On Christmas day, Donald Trump announced that ...</td>\n",
       "      <td>News</td>\n",
       "      <td>December 29, 2017</td>\n",
       "      <td>0</td>\n",
       "    </tr>\n",
       "    <tr>\n",
       "      <th>4</th>\n",
       "      <td>Pope Francis Just Called Out Donald Trump Dur...</td>\n",
       "      <td>Pope Francis used his annual Christmas Day mes...</td>\n",
       "      <td>News</td>\n",
       "      <td>December 25, 2017</td>\n",
       "      <td>0</td>\n",
       "    </tr>\n",
       "    <tr>\n",
       "      <th>5</th>\n",
       "      <td>Racist Alabama Cops Brutalize Black Boy While...</td>\n",
       "      <td>The number of cases of cops brutalizing and ki...</td>\n",
       "      <td>News</td>\n",
       "      <td>December 25, 2017</td>\n",
       "      <td>0</td>\n",
       "    </tr>\n",
       "    <tr>\n",
       "      <th>6</th>\n",
       "      <td>Fresh Off The Golf Course, Trump Lashes Out A...</td>\n",
       "      <td>Donald Trump spent a good portion of his day a...</td>\n",
       "      <td>News</td>\n",
       "      <td>December 23, 2017</td>\n",
       "      <td>0</td>\n",
       "    </tr>\n",
       "    <tr>\n",
       "      <th>7</th>\n",
       "      <td>Trump Said Some INSANELY Racist Stuff Inside ...</td>\n",
       "      <td>In the wake of yet another court decision that...</td>\n",
       "      <td>News</td>\n",
       "      <td>December 23, 2017</td>\n",
       "      <td>0</td>\n",
       "    </tr>\n",
       "    <tr>\n",
       "      <th>8</th>\n",
       "      <td>Former CIA Director Slams Trump Over UN Bully...</td>\n",
       "      <td>Many people have raised the alarm regarding th...</td>\n",
       "      <td>News</td>\n",
       "      <td>December 22, 2017</td>\n",
       "      <td>0</td>\n",
       "    </tr>\n",
       "    <tr>\n",
       "      <th>9</th>\n",
       "      <td>WATCH: Brand-New Pro-Trump Ad Features So Muc...</td>\n",
       "      <td>Just when you might have thought we d get a br...</td>\n",
       "      <td>News</td>\n",
       "      <td>December 21, 2017</td>\n",
       "      <td>0</td>\n",
       "    </tr>\n",
       "  </tbody>\n",
       "</table>\n",
       "</div>"
      ],
      "text/plain": [
       "                                               title  \\\n",
       "0   Donald Trump Sends Out Embarrassing New Year’...   \n",
       "1   Drunk Bragging Trump Staffer Started Russian ...   \n",
       "2   Sheriff David Clarke Becomes An Internet Joke...   \n",
       "3   Trump Is So Obsessed He Even Has Obama’s Name...   \n",
       "4   Pope Francis Just Called Out Donald Trump Dur...   \n",
       "5   Racist Alabama Cops Brutalize Black Boy While...   \n",
       "6   Fresh Off The Golf Course, Trump Lashes Out A...   \n",
       "7   Trump Said Some INSANELY Racist Stuff Inside ...   \n",
       "8   Former CIA Director Slams Trump Over UN Bully...   \n",
       "9   WATCH: Brand-New Pro-Trump Ad Features So Muc...   \n",
       "\n",
       "                                                text subject  \\\n",
       "0  Donald Trump just couldn t wish all Americans ...    News   \n",
       "1  House Intelligence Committee Chairman Devin Nu...    News   \n",
       "2  On Friday, it was revealed that former Milwauk...    News   \n",
       "3  On Christmas day, Donald Trump announced that ...    News   \n",
       "4  Pope Francis used his annual Christmas Day mes...    News   \n",
       "5  The number of cases of cops brutalizing and ki...    News   \n",
       "6  Donald Trump spent a good portion of his day a...    News   \n",
       "7  In the wake of yet another court decision that...    News   \n",
       "8  Many people have raised the alarm regarding th...    News   \n",
       "9  Just when you might have thought we d get a br...    News   \n",
       "\n",
       "                date  class  \n",
       "0  December 31, 2017      0  \n",
       "1  December 31, 2017      0  \n",
       "2  December 30, 2017      0  \n",
       "3  December 29, 2017      0  \n",
       "4  December 25, 2017      0  \n",
       "5  December 25, 2017      0  \n",
       "6  December 23, 2017      0  \n",
       "7  December 23, 2017      0  \n",
       "8  December 22, 2017      0  \n",
       "9  December 21, 2017      0  "
      ]
     },
     "execution_count": 12,
     "metadata": {},
     "output_type": "execute_result"
    }
   ],
   "source": [
    "data_merge=pd.concat([data_fake, data_true], axis = 0)\n",
    "data_merge.head(10)"
   ]
  },
  {
   "cell_type": "markdown",
   "id": "baca8f19",
   "metadata": {
    "papermill": {
     "duration": 0.009017,
     "end_time": "2025-01-08T18:16:41.176257",
     "exception": false,
     "start_time": "2025-01-08T18:16:41.167240",
     "status": "completed"
    },
    "tags": []
   },
   "source": [
    "**\"title\", \"subject\" and \"date\" columns is not required for detecting the fake news, so I am going to drop the columns.**"
   ]
  },
  {
   "cell_type": "code",
   "execution_count": 13,
   "id": "ff89a1b9",
   "metadata": {
    "execution": {
     "iopub.execute_input": "2025-01-08T18:16:41.196790Z",
     "iopub.status.busy": "2025-01-08T18:16:41.196410Z",
     "iopub.status.idle": "2025-01-08T18:16:41.203634Z",
     "shell.execute_reply": "2025-01-08T18:16:41.202607Z"
    },
    "papermill": {
     "duration": 0.02009,
     "end_time": "2025-01-08T18:16:41.205725",
     "exception": false,
     "start_time": "2025-01-08T18:16:41.185635",
     "status": "completed"
    },
    "tags": []
   },
   "outputs": [
    {
     "data": {
      "text/plain": [
       "Index(['title', 'text', 'subject', 'date', 'class'], dtype='object')"
      ]
     },
     "execution_count": 13,
     "metadata": {},
     "output_type": "execute_result"
    }
   ],
   "source": [
    "data_merge.columns"
   ]
  },
  {
   "cell_type": "code",
   "execution_count": 14,
   "id": "d7a52b01",
   "metadata": {
    "execution": {
     "iopub.execute_input": "2025-01-08T18:16:41.227139Z",
     "iopub.status.busy": "2025-01-08T18:16:41.226722Z",
     "iopub.status.idle": "2025-01-08T18:16:41.237955Z",
     "shell.execute_reply": "2025-01-08T18:16:41.237035Z"
    },
    "papermill": {
     "duration": 0.024793,
     "end_time": "2025-01-08T18:16:41.240191",
     "exception": false,
     "start_time": "2025-01-08T18:16:41.215398",
     "status": "completed"
    },
    "tags": []
   },
   "outputs": [],
   "source": [
    "data=data_merge.drop(['title','subject','date'], axis = 1)"
   ]
  },
  {
   "cell_type": "code",
   "execution_count": 15,
   "id": "56db9fe8",
   "metadata": {
    "execution": {
     "iopub.execute_input": "2025-01-08T18:16:41.261080Z",
     "iopub.status.busy": "2025-01-08T18:16:41.260662Z",
     "iopub.status.idle": "2025-01-08T18:16:41.275771Z",
     "shell.execute_reply": "2025-01-08T18:16:41.274789Z"
    },
    "papermill": {
     "duration": 0.027853,
     "end_time": "2025-01-08T18:16:41.277724",
     "exception": false,
     "start_time": "2025-01-08T18:16:41.249871",
     "status": "completed"
    },
    "tags": []
   },
   "outputs": [
    {
     "data": {
      "text/plain": [
       "text     0\n",
       "class    0\n",
       "dtype: int64"
      ]
     },
     "execution_count": 15,
     "metadata": {},
     "output_type": "execute_result"
    }
   ],
   "source": [
    "#count of missing values\n",
    "data.isnull().sum()"
   ]
  },
  {
   "cell_type": "markdown",
   "id": "03b27feb",
   "metadata": {
    "papermill": {
     "duration": 0.009224,
     "end_time": "2025-01-08T18:16:41.296383",
     "exception": false,
     "start_time": "2025-01-08T18:16:41.287159",
     "status": "completed"
    },
    "tags": []
   },
   "source": [
    "**Randomly shuffling the dataframe**"
   ]
  },
  {
   "cell_type": "code",
   "execution_count": 16,
   "id": "7b3f8c92",
   "metadata": {
    "execution": {
     "iopub.execute_input": "2025-01-08T18:16:41.317097Z",
     "iopub.status.busy": "2025-01-08T18:16:41.316663Z",
     "iopub.status.idle": "2025-01-08T18:16:41.330129Z",
     "shell.execute_reply": "2025-01-08T18:16:41.329037Z"
    },
    "papermill": {
     "duration": 0.026594,
     "end_time": "2025-01-08T18:16:41.332471",
     "exception": false,
     "start_time": "2025-01-08T18:16:41.305877",
     "status": "completed"
    },
    "tags": []
   },
   "outputs": [],
   "source": [
    "data = data.sample(frac = 1)"
   ]
  },
  {
   "cell_type": "code",
   "execution_count": 17,
   "id": "88c3568f",
   "metadata": {
    "execution": {
     "iopub.execute_input": "2025-01-08T18:16:41.353639Z",
     "iopub.status.busy": "2025-01-08T18:16:41.353259Z",
     "iopub.status.idle": "2025-01-08T18:16:41.362942Z",
     "shell.execute_reply": "2025-01-08T18:16:41.361814Z"
    },
    "papermill": {
     "duration": 0.022759,
     "end_time": "2025-01-08T18:16:41.365202",
     "exception": false,
     "start_time": "2025-01-08T18:16:41.342443",
     "status": "completed"
    },
    "tags": []
   },
   "outputs": [
    {
     "data": {
      "text/html": [
       "<div>\n",
       "<style scoped>\n",
       "    .dataframe tbody tr th:only-of-type {\n",
       "        vertical-align: middle;\n",
       "    }\n",
       "\n",
       "    .dataframe tbody tr th {\n",
       "        vertical-align: top;\n",
       "    }\n",
       "\n",
       "    .dataframe thead th {\n",
       "        text-align: right;\n",
       "    }\n",
       "</style>\n",
       "<table border=\"1\" class=\"dataframe\">\n",
       "  <thead>\n",
       "    <tr style=\"text-align: right;\">\n",
       "      <th></th>\n",
       "      <th>text</th>\n",
       "      <th>class</th>\n",
       "    </tr>\n",
       "  </thead>\n",
       "  <tbody>\n",
       "    <tr>\n",
       "      <th>10061</th>\n",
       "      <td>SAN JUAN (Reuters) - Bondholders with nearly a...</td>\n",
       "      <td>1</td>\n",
       "    </tr>\n",
       "    <tr>\n",
       "      <th>18507</th>\n",
       "      <td>Protesters affiliated with the group No Justic...</td>\n",
       "      <td>0</td>\n",
       "    </tr>\n",
       "    <tr>\n",
       "      <th>15279</th>\n",
       "      <td>This is so typical of the Obama administration...</td>\n",
       "      <td>0</td>\n",
       "    </tr>\n",
       "    <tr>\n",
       "      <th>22502</th>\n",
       "      <td>Jay Dyer 21st Century WireSuicide squad is who...</td>\n",
       "      <td>0</td>\n",
       "    </tr>\n",
       "    <tr>\n",
       "      <th>6786</th>\n",
       "      <td>Ted Cruz paid dearly for insulting  New York v...</td>\n",
       "      <td>0</td>\n",
       "    </tr>\n",
       "  </tbody>\n",
       "</table>\n",
       "</div>"
      ],
      "text/plain": [
       "                                                    text  class\n",
       "10061  SAN JUAN (Reuters) - Bondholders with nearly a...      1\n",
       "18507  Protesters affiliated with the group No Justic...      0\n",
       "15279  This is so typical of the Obama administration...      0\n",
       "22502  Jay Dyer 21st Century WireSuicide squad is who...      0\n",
       "6786   Ted Cruz paid dearly for insulting  New York v...      0"
      ]
     },
     "execution_count": 17,
     "metadata": {},
     "output_type": "execute_result"
    }
   ],
   "source": [
    "data.head()"
   ]
  },
  {
   "cell_type": "code",
   "execution_count": 18,
   "id": "8878d113",
   "metadata": {
    "execution": {
     "iopub.execute_input": "2025-01-08T18:16:41.386651Z",
     "iopub.status.busy": "2025-01-08T18:16:41.386289Z",
     "iopub.status.idle": "2025-01-08T18:16:41.395375Z",
     "shell.execute_reply": "2025-01-08T18:16:41.394460Z"
    },
    "papermill": {
     "duration": 0.022416,
     "end_time": "2025-01-08T18:16:41.397427",
     "exception": false,
     "start_time": "2025-01-08T18:16:41.375011",
     "status": "completed"
    },
    "tags": []
   },
   "outputs": [],
   "source": [
    "data.reset_index(inplace = True)\n",
    "data.drop(['index'], axis = 1, inplace = True)"
   ]
  },
  {
   "cell_type": "code",
   "execution_count": 19,
   "id": "ffc52e92",
   "metadata": {
    "execution": {
     "iopub.execute_input": "2025-01-08T18:16:41.419068Z",
     "iopub.status.busy": "2025-01-08T18:16:41.418649Z",
     "iopub.status.idle": "2025-01-08T18:16:41.425396Z",
     "shell.execute_reply": "2025-01-08T18:16:41.424468Z"
    },
    "papermill": {
     "duration": 0.019917,
     "end_time": "2025-01-08T18:16:41.427599",
     "exception": false,
     "start_time": "2025-01-08T18:16:41.407682",
     "status": "completed"
    },
    "tags": []
   },
   "outputs": [
    {
     "data": {
      "text/plain": [
       "Index(['text', 'class'], dtype='object')"
      ]
     },
     "execution_count": 19,
     "metadata": {},
     "output_type": "execute_result"
    }
   ],
   "source": [
    "data.columns"
   ]
  },
  {
   "cell_type": "code",
   "execution_count": 20,
   "id": "466ab3c2",
   "metadata": {
    "execution": {
     "iopub.execute_input": "2025-01-08T18:16:41.449246Z",
     "iopub.status.busy": "2025-01-08T18:16:41.448849Z",
     "iopub.status.idle": "2025-01-08T18:16:41.458935Z",
     "shell.execute_reply": "2025-01-08T18:16:41.457776Z"
    },
    "papermill": {
     "duration": 0.023333,
     "end_time": "2025-01-08T18:16:41.461044",
     "exception": false,
     "start_time": "2025-01-08T18:16:41.437711",
     "status": "completed"
    },
    "tags": []
   },
   "outputs": [
    {
     "data": {
      "text/html": [
       "<div>\n",
       "<style scoped>\n",
       "    .dataframe tbody tr th:only-of-type {\n",
       "        vertical-align: middle;\n",
       "    }\n",
       "\n",
       "    .dataframe tbody tr th {\n",
       "        vertical-align: top;\n",
       "    }\n",
       "\n",
       "    .dataframe thead th {\n",
       "        text-align: right;\n",
       "    }\n",
       "</style>\n",
       "<table border=\"1\" class=\"dataframe\">\n",
       "  <thead>\n",
       "    <tr style=\"text-align: right;\">\n",
       "      <th></th>\n",
       "      <th>text</th>\n",
       "      <th>class</th>\n",
       "    </tr>\n",
       "  </thead>\n",
       "  <tbody>\n",
       "    <tr>\n",
       "      <th>0</th>\n",
       "      <td>SAN JUAN (Reuters) - Bondholders with nearly a...</td>\n",
       "      <td>1</td>\n",
       "    </tr>\n",
       "    <tr>\n",
       "      <th>1</th>\n",
       "      <td>Protesters affiliated with the group No Justic...</td>\n",
       "      <td>0</td>\n",
       "    </tr>\n",
       "    <tr>\n",
       "      <th>2</th>\n",
       "      <td>This is so typical of the Obama administration...</td>\n",
       "      <td>0</td>\n",
       "    </tr>\n",
       "    <tr>\n",
       "      <th>3</th>\n",
       "      <td>Jay Dyer 21st Century WireSuicide squad is who...</td>\n",
       "      <td>0</td>\n",
       "    </tr>\n",
       "    <tr>\n",
       "      <th>4</th>\n",
       "      <td>Ted Cruz paid dearly for insulting  New York v...</td>\n",
       "      <td>0</td>\n",
       "    </tr>\n",
       "  </tbody>\n",
       "</table>\n",
       "</div>"
      ],
      "text/plain": [
       "                                                text  class\n",
       "0  SAN JUAN (Reuters) - Bondholders with nearly a...      1\n",
       "1  Protesters affiliated with the group No Justic...      0\n",
       "2  This is so typical of the Obama administration...      0\n",
       "3  Jay Dyer 21st Century WireSuicide squad is who...      0\n",
       "4  Ted Cruz paid dearly for insulting  New York v...      0"
      ]
     },
     "execution_count": 20,
     "metadata": {},
     "output_type": "execute_result"
    }
   ],
   "source": [
    "data.head()"
   ]
  },
  {
   "cell_type": "markdown",
   "id": "bd429fbd",
   "metadata": {
    "papermill": {
     "duration": 0.009529,
     "end_time": "2025-01-08T18:16:41.480764",
     "exception": false,
     "start_time": "2025-01-08T18:16:41.471235",
     "status": "completed"
    },
    "tags": []
   },
   "source": [
    "## Preprocessing Text"
   ]
  },
  {
   "cell_type": "markdown",
   "id": "c61b728d",
   "metadata": {
    "papermill": {
     "duration": 0.009525,
     "end_time": "2025-01-08T18:16:41.500315",
     "exception": false,
     "start_time": "2025-01-08T18:16:41.490790",
     "status": "completed"
    },
    "tags": []
   },
   "source": [
    "**Creating a function to convert the text in lowercase, remove the extra space, special chr., ulr and links.**"
   ]
  },
  {
   "cell_type": "code",
   "execution_count": 21,
   "id": "e67bb5ab",
   "metadata": {
    "execution": {
     "iopub.execute_input": "2025-01-08T18:16:41.521835Z",
     "iopub.status.busy": "2025-01-08T18:16:41.521438Z",
     "iopub.status.idle": "2025-01-08T18:16:41.527492Z",
     "shell.execute_reply": "2025-01-08T18:16:41.526492Z"
    },
    "papermill": {
     "duration": 0.019345,
     "end_time": "2025-01-08T18:16:41.529558",
     "exception": false,
     "start_time": "2025-01-08T18:16:41.510213",
     "status": "completed"
    },
    "tags": []
   },
   "outputs": [],
   "source": [
    "def wordopt(text):\n",
    "    text = text.lower()\n",
    "    text = re.sub('\\[.*?\\]','',text)\n",
    "    text = re.sub(\"\\\\W\",\" \",text)\n",
    "    text = re.sub('https?://\\S+|www\\.\\S+','',text)\n",
    "    text = re.sub('<.*?>+',b'',text)\n",
    "    text = re.sub('[%s]' % re.escape(string.punctuation),'',text)\n",
    "    text = re.sub('\\w*\\d\\w*','',text)\n",
    "    return text"
   ]
  },
  {
   "cell_type": "code",
   "execution_count": 22,
   "id": "8e2456e1",
   "metadata": {
    "execution": {
     "iopub.execute_input": "2025-01-08T18:16:41.551164Z",
     "iopub.status.busy": "2025-01-08T18:16:41.550765Z",
     "iopub.status.idle": "2025-01-08T18:17:04.868991Z",
     "shell.execute_reply": "2025-01-08T18:17:04.867771Z"
    },
    "papermill": {
     "duration": 23.331944,
     "end_time": "2025-01-08T18:17:04.871548",
     "exception": false,
     "start_time": "2025-01-08T18:16:41.539604",
     "status": "completed"
    },
    "tags": []
   },
   "outputs": [],
   "source": [
    "data['text'] = data['text'].apply(wordopt)"
   ]
  },
  {
   "cell_type": "markdown",
   "id": "fe119632",
   "metadata": {
    "papermill": {
     "duration": 0.00969,
     "end_time": "2025-01-08T18:17:04.891499",
     "exception": false,
     "start_time": "2025-01-08T18:17:04.881809",
     "status": "completed"
    },
    "tags": []
   },
   "source": [
    "## Defining dependent and independent variable as x and y"
   ]
  },
  {
   "cell_type": "code",
   "execution_count": 23,
   "id": "1bee013c",
   "metadata": {
    "execution": {
     "iopub.execute_input": "2025-01-08T18:17:04.913458Z",
     "iopub.status.busy": "2025-01-08T18:17:04.913056Z",
     "iopub.status.idle": "2025-01-08T18:17:04.917881Z",
     "shell.execute_reply": "2025-01-08T18:17:04.917023Z"
    },
    "papermill": {
     "duration": 0.018312,
     "end_time": "2025-01-08T18:17:04.919780",
     "exception": false,
     "start_time": "2025-01-08T18:17:04.901468",
     "status": "completed"
    },
    "tags": []
   },
   "outputs": [],
   "source": [
    "x = data['text']\n",
    "y = data['class']"
   ]
  },
  {
   "cell_type": "markdown",
   "id": "f65f4764",
   "metadata": {
    "papermill": {
     "duration": 0.00956,
     "end_time": "2025-01-08T18:17:04.939492",
     "exception": false,
     "start_time": "2025-01-08T18:17:04.929932",
     "status": "completed"
    },
    "tags": []
   },
   "source": [
    "# Training the model\n",
    "\n",
    "**Splitting the dataset into training set and testing set.**"
   ]
  },
  {
   "cell_type": "code",
   "execution_count": 24,
   "id": "6be90ee7",
   "metadata": {
    "execution": {
     "iopub.execute_input": "2025-01-08T18:17:04.960771Z",
     "iopub.status.busy": "2025-01-08T18:17:04.960392Z",
     "iopub.status.idle": "2025-01-08T18:17:04.974478Z",
     "shell.execute_reply": "2025-01-08T18:17:04.973541Z"
    },
    "papermill": {
     "duration": 0.027416,
     "end_time": "2025-01-08T18:17:04.976815",
     "exception": false,
     "start_time": "2025-01-08T18:17:04.949399",
     "status": "completed"
    },
    "tags": []
   },
   "outputs": [],
   "source": [
    "x_train, x_test, y_train, y_test = train_test_split(x,y,test_size = 0.25)"
   ]
  },
  {
   "cell_type": "markdown",
   "id": "0badf7be",
   "metadata": {
    "papermill": {
     "duration": 0.009685,
     "end_time": "2025-01-08T18:17:04.997047",
     "exception": false,
     "start_time": "2025-01-08T18:17:04.987362",
     "status": "completed"
    },
    "tags": []
   },
   "source": [
    "## Extracting Features from the Text\n",
    "\n",
    "**Convert text to vectors**"
   ]
  },
  {
   "cell_type": "code",
   "execution_count": 25,
   "id": "dd622784",
   "metadata": {
    "execution": {
     "iopub.execute_input": "2025-01-08T18:17:05.018546Z",
     "iopub.status.busy": "2025-01-08T18:17:05.018175Z",
     "iopub.status.idle": "2025-01-08T18:17:18.756242Z",
     "shell.execute_reply": "2025-01-08T18:17:18.755156Z"
    },
    "papermill": {
     "duration": 13.752135,
     "end_time": "2025-01-08T18:17:18.758984",
     "exception": false,
     "start_time": "2025-01-08T18:17:05.006849",
     "status": "completed"
    },
    "tags": []
   },
   "outputs": [],
   "source": [
    "from sklearn.feature_extraction.text import TfidfVectorizer\n",
    "\n",
    "vectorization = TfidfVectorizer()\n",
    "xv_train = vectorization.fit_transform(x_train)\n",
    "xv_test = vectorization.transform(x_test)"
   ]
  },
  {
   "cell_type": "markdown",
   "id": "0fd92bdf",
   "metadata": {
    "papermill": {
     "duration": 0.009657,
     "end_time": "2025-01-08T18:17:18.779226",
     "exception": false,
     "start_time": "2025-01-08T18:17:18.769569",
     "status": "completed"
    },
    "tags": []
   },
   "source": [
    "# Logistic Regression"
   ]
  },
  {
   "cell_type": "code",
   "execution_count": 26,
   "id": "307484b0",
   "metadata": {
    "execution": {
     "iopub.execute_input": "2025-01-08T18:17:18.800346Z",
     "iopub.status.busy": "2025-01-08T18:17:18.799935Z",
     "iopub.status.idle": "2025-01-08T18:17:18.916539Z",
     "shell.execute_reply": "2025-01-08T18:17:18.915409Z"
    },
    "papermill": {
     "duration": 0.129897,
     "end_time": "2025-01-08T18:17:18.918918",
     "exception": false,
     "start_time": "2025-01-08T18:17:18.789021",
     "status": "completed"
    },
    "tags": []
   },
   "outputs": [],
   "source": [
    "from sklearn.linear_model import LogisticRegression"
   ]
  },
  {
   "cell_type": "code",
   "execution_count": 27,
   "id": "5203c145",
   "metadata": {
    "execution": {
     "iopub.execute_input": "2025-01-08T18:17:18.941655Z",
     "iopub.status.busy": "2025-01-08T18:17:18.941250Z",
     "iopub.status.idle": "2025-01-08T18:17:22.576486Z",
     "shell.execute_reply": "2025-01-08T18:17:22.572993Z"
    },
    "papermill": {
     "duration": 3.65327,
     "end_time": "2025-01-08T18:17:22.582813",
     "exception": false,
     "start_time": "2025-01-08T18:17:18.929543",
     "status": "completed"
    },
    "tags": []
   },
   "outputs": [
    {
     "data": {
      "text/html": [
       "<style>#sk-container-id-1 {color: black;background-color: white;}#sk-container-id-1 pre{padding: 0;}#sk-container-id-1 div.sk-toggleable {background-color: white;}#sk-container-id-1 label.sk-toggleable__label {cursor: pointer;display: block;width: 100%;margin-bottom: 0;padding: 0.3em;box-sizing: border-box;text-align: center;}#sk-container-id-1 label.sk-toggleable__label-arrow:before {content: \"▸\";float: left;margin-right: 0.25em;color: #696969;}#sk-container-id-1 label.sk-toggleable__label-arrow:hover:before {color: black;}#sk-container-id-1 div.sk-estimator:hover label.sk-toggleable__label-arrow:before {color: black;}#sk-container-id-1 div.sk-toggleable__content {max-height: 0;max-width: 0;overflow: hidden;text-align: left;background-color: #f0f8ff;}#sk-container-id-1 div.sk-toggleable__content pre {margin: 0.2em;color: black;border-radius: 0.25em;background-color: #f0f8ff;}#sk-container-id-1 input.sk-toggleable__control:checked~div.sk-toggleable__content {max-height: 200px;max-width: 100%;overflow: auto;}#sk-container-id-1 input.sk-toggleable__control:checked~label.sk-toggleable__label-arrow:before {content: \"▾\";}#sk-container-id-1 div.sk-estimator input.sk-toggleable__control:checked~label.sk-toggleable__label {background-color: #d4ebff;}#sk-container-id-1 div.sk-label input.sk-toggleable__control:checked~label.sk-toggleable__label {background-color: #d4ebff;}#sk-container-id-1 input.sk-hidden--visually {border: 0;clip: rect(1px 1px 1px 1px);clip: rect(1px, 1px, 1px, 1px);height: 1px;margin: -1px;overflow: hidden;padding: 0;position: absolute;width: 1px;}#sk-container-id-1 div.sk-estimator {font-family: monospace;background-color: #f0f8ff;border: 1px dotted black;border-radius: 0.25em;box-sizing: border-box;margin-bottom: 0.5em;}#sk-container-id-1 div.sk-estimator:hover {background-color: #d4ebff;}#sk-container-id-1 div.sk-parallel-item::after {content: \"\";width: 100%;border-bottom: 1px solid gray;flex-grow: 1;}#sk-container-id-1 div.sk-label:hover label.sk-toggleable__label {background-color: #d4ebff;}#sk-container-id-1 div.sk-serial::before {content: \"\";position: absolute;border-left: 1px solid gray;box-sizing: border-box;top: 0;bottom: 0;left: 50%;z-index: 0;}#sk-container-id-1 div.sk-serial {display: flex;flex-direction: column;align-items: center;background-color: white;padding-right: 0.2em;padding-left: 0.2em;position: relative;}#sk-container-id-1 div.sk-item {position: relative;z-index: 1;}#sk-container-id-1 div.sk-parallel {display: flex;align-items: stretch;justify-content: center;background-color: white;position: relative;}#sk-container-id-1 div.sk-item::before, #sk-container-id-1 div.sk-parallel-item::before {content: \"\";position: absolute;border-left: 1px solid gray;box-sizing: border-box;top: 0;bottom: 0;left: 50%;z-index: -1;}#sk-container-id-1 div.sk-parallel-item {display: flex;flex-direction: column;z-index: 1;position: relative;background-color: white;}#sk-container-id-1 div.sk-parallel-item:first-child::after {align-self: flex-end;width: 50%;}#sk-container-id-1 div.sk-parallel-item:last-child::after {align-self: flex-start;width: 50%;}#sk-container-id-1 div.sk-parallel-item:only-child::after {width: 0;}#sk-container-id-1 div.sk-dashed-wrapped {border: 1px dashed gray;margin: 0 0.4em 0.5em 0.4em;box-sizing: border-box;padding-bottom: 0.4em;background-color: white;}#sk-container-id-1 div.sk-label label {font-family: monospace;font-weight: bold;display: inline-block;line-height: 1.2em;}#sk-container-id-1 div.sk-label-container {text-align: center;}#sk-container-id-1 div.sk-container {/* jupyter's `normalize.less` sets `[hidden] { display: none; }` but bootstrap.min.css set `[hidden] { display: none !important; }` so we also need the `!important` here to be able to override the default hidden behavior on the sphinx rendered scikit-learn.org. See: https://github.com/scikit-learn/scikit-learn/issues/21755 */display: inline-block !important;position: relative;}#sk-container-id-1 div.sk-text-repr-fallback {display: none;}</style><div id=\"sk-container-id-1\" class=\"sk-top-container\"><div class=\"sk-text-repr-fallback\"><pre>LogisticRegression()</pre><b>In a Jupyter environment, please rerun this cell to show the HTML representation or trust the notebook. <br />On GitHub, the HTML representation is unable to render, please try loading this page with nbviewer.org.</b></div><div class=\"sk-container\" hidden><div class=\"sk-item\"><div class=\"sk-estimator sk-toggleable\"><input class=\"sk-toggleable__control sk-hidden--visually\" id=\"sk-estimator-id-1\" type=\"checkbox\" checked><label for=\"sk-estimator-id-1\" class=\"sk-toggleable__label sk-toggleable__label-arrow\">LogisticRegression</label><div class=\"sk-toggleable__content\"><pre>LogisticRegression()</pre></div></div></div></div></div>"
      ],
      "text/plain": [
       "LogisticRegression()"
      ]
     },
     "execution_count": 27,
     "metadata": {},
     "output_type": "execute_result"
    }
   ],
   "source": [
    "LR = LogisticRegression()\n",
    "LR.fit(xv_train, y_train)"
   ]
  },
  {
   "cell_type": "code",
   "execution_count": 28,
   "id": "ea6b1d23",
   "metadata": {
    "execution": {
     "iopub.execute_input": "2025-01-08T18:17:22.665782Z",
     "iopub.status.busy": "2025-01-08T18:17:22.665307Z",
     "iopub.status.idle": "2025-01-08T18:17:22.679853Z",
     "shell.execute_reply": "2025-01-08T18:17:22.679038Z"
    },
    "papermill": {
     "duration": 0.036515,
     "end_time": "2025-01-08T18:17:22.682121",
     "exception": false,
     "start_time": "2025-01-08T18:17:22.645606",
     "status": "completed"
    },
    "tags": []
   },
   "outputs": [],
   "source": [
    "pred_lr = LR.predict(xv_test)"
   ]
  },
  {
   "cell_type": "code",
   "execution_count": 29,
   "id": "ff341800",
   "metadata": {
    "execution": {
     "iopub.execute_input": "2025-01-08T18:17:22.704705Z",
     "iopub.status.busy": "2025-01-08T18:17:22.703788Z",
     "iopub.status.idle": "2025-01-08T18:17:22.720253Z",
     "shell.execute_reply": "2025-01-08T18:17:22.719249Z"
    },
    "papermill": {
     "duration": 0.029795,
     "end_time": "2025-01-08T18:17:22.722409",
     "exception": false,
     "start_time": "2025-01-08T18:17:22.692614",
     "status": "completed"
    },
    "tags": []
   },
   "outputs": [
    {
     "data": {
      "text/plain": [
       "0.9859180035650624"
      ]
     },
     "execution_count": 29,
     "metadata": {},
     "output_type": "execute_result"
    }
   ],
   "source": [
    "LR.score(xv_test, y_test)"
   ]
  },
  {
   "cell_type": "code",
   "execution_count": 30,
   "id": "1dfed9f7",
   "metadata": {
    "execution": {
     "iopub.execute_input": "2025-01-08T18:17:22.744962Z",
     "iopub.status.busy": "2025-01-08T18:17:22.744121Z",
     "iopub.status.idle": "2025-01-08T18:17:22.775240Z",
     "shell.execute_reply": "2025-01-08T18:17:22.773998Z"
    },
    "papermill": {
     "duration": 0.044847,
     "end_time": "2025-01-08T18:17:22.777542",
     "exception": false,
     "start_time": "2025-01-08T18:17:22.732695",
     "status": "completed"
    },
    "tags": []
   },
   "outputs": [
    {
     "name": "stdout",
     "output_type": "stream",
     "text": [
      "              precision    recall  f1-score   support\n",
      "\n",
      "           0       0.99      0.98      0.99      5852\n",
      "           1       0.98      0.99      0.99      5368\n",
      "\n",
      "    accuracy                           0.99     11220\n",
      "   macro avg       0.99      0.99      0.99     11220\n",
      "weighted avg       0.99      0.99      0.99     11220\n",
      "\n"
     ]
    }
   ],
   "source": [
    "print (classification_report(y_test, pred_lr))"
   ]
  },
  {
   "cell_type": "markdown",
   "id": "dc808ded",
   "metadata": {
    "papermill": {
     "duration": 0.0105,
     "end_time": "2025-01-08T18:17:22.798717",
     "exception": false,
     "start_time": "2025-01-08T18:17:22.788217",
     "status": "completed"
    },
    "tags": []
   },
   "source": [
    "# Decision Tree Classifier"
   ]
  },
  {
   "cell_type": "code",
   "execution_count": 31,
   "id": "433f07c2",
   "metadata": {
    "execution": {
     "iopub.execute_input": "2025-01-08T18:17:22.822108Z",
     "iopub.status.busy": "2025-01-08T18:17:22.821238Z",
     "iopub.status.idle": "2025-01-08T18:17:56.726061Z",
     "shell.execute_reply": "2025-01-08T18:17:56.724850Z"
    },
    "papermill": {
     "duration": 33.929244,
     "end_time": "2025-01-08T18:17:56.738543",
     "exception": false,
     "start_time": "2025-01-08T18:17:22.809299",
     "status": "completed"
    },
    "tags": []
   },
   "outputs": [
    {
     "data": {
      "text/html": [
       "<style>#sk-container-id-2 {color: black;background-color: white;}#sk-container-id-2 pre{padding: 0;}#sk-container-id-2 div.sk-toggleable {background-color: white;}#sk-container-id-2 label.sk-toggleable__label {cursor: pointer;display: block;width: 100%;margin-bottom: 0;padding: 0.3em;box-sizing: border-box;text-align: center;}#sk-container-id-2 label.sk-toggleable__label-arrow:before {content: \"▸\";float: left;margin-right: 0.25em;color: #696969;}#sk-container-id-2 label.sk-toggleable__label-arrow:hover:before {color: black;}#sk-container-id-2 div.sk-estimator:hover label.sk-toggleable__label-arrow:before {color: black;}#sk-container-id-2 div.sk-toggleable__content {max-height: 0;max-width: 0;overflow: hidden;text-align: left;background-color: #f0f8ff;}#sk-container-id-2 div.sk-toggleable__content pre {margin: 0.2em;color: black;border-radius: 0.25em;background-color: #f0f8ff;}#sk-container-id-2 input.sk-toggleable__control:checked~div.sk-toggleable__content {max-height: 200px;max-width: 100%;overflow: auto;}#sk-container-id-2 input.sk-toggleable__control:checked~label.sk-toggleable__label-arrow:before {content: \"▾\";}#sk-container-id-2 div.sk-estimator input.sk-toggleable__control:checked~label.sk-toggleable__label {background-color: #d4ebff;}#sk-container-id-2 div.sk-label input.sk-toggleable__control:checked~label.sk-toggleable__label {background-color: #d4ebff;}#sk-container-id-2 input.sk-hidden--visually {border: 0;clip: rect(1px 1px 1px 1px);clip: rect(1px, 1px, 1px, 1px);height: 1px;margin: -1px;overflow: hidden;padding: 0;position: absolute;width: 1px;}#sk-container-id-2 div.sk-estimator {font-family: monospace;background-color: #f0f8ff;border: 1px dotted black;border-radius: 0.25em;box-sizing: border-box;margin-bottom: 0.5em;}#sk-container-id-2 div.sk-estimator:hover {background-color: #d4ebff;}#sk-container-id-2 div.sk-parallel-item::after {content: \"\";width: 100%;border-bottom: 1px solid gray;flex-grow: 1;}#sk-container-id-2 div.sk-label:hover label.sk-toggleable__label {background-color: #d4ebff;}#sk-container-id-2 div.sk-serial::before {content: \"\";position: absolute;border-left: 1px solid gray;box-sizing: border-box;top: 0;bottom: 0;left: 50%;z-index: 0;}#sk-container-id-2 div.sk-serial {display: flex;flex-direction: column;align-items: center;background-color: white;padding-right: 0.2em;padding-left: 0.2em;position: relative;}#sk-container-id-2 div.sk-item {position: relative;z-index: 1;}#sk-container-id-2 div.sk-parallel {display: flex;align-items: stretch;justify-content: center;background-color: white;position: relative;}#sk-container-id-2 div.sk-item::before, #sk-container-id-2 div.sk-parallel-item::before {content: \"\";position: absolute;border-left: 1px solid gray;box-sizing: border-box;top: 0;bottom: 0;left: 50%;z-index: -1;}#sk-container-id-2 div.sk-parallel-item {display: flex;flex-direction: column;z-index: 1;position: relative;background-color: white;}#sk-container-id-2 div.sk-parallel-item:first-child::after {align-self: flex-end;width: 50%;}#sk-container-id-2 div.sk-parallel-item:last-child::after {align-self: flex-start;width: 50%;}#sk-container-id-2 div.sk-parallel-item:only-child::after {width: 0;}#sk-container-id-2 div.sk-dashed-wrapped {border: 1px dashed gray;margin: 0 0.4em 0.5em 0.4em;box-sizing: border-box;padding-bottom: 0.4em;background-color: white;}#sk-container-id-2 div.sk-label label {font-family: monospace;font-weight: bold;display: inline-block;line-height: 1.2em;}#sk-container-id-2 div.sk-label-container {text-align: center;}#sk-container-id-2 div.sk-container {/* jupyter's `normalize.less` sets `[hidden] { display: none; }` but bootstrap.min.css set `[hidden] { display: none !important; }` so we also need the `!important` here to be able to override the default hidden behavior on the sphinx rendered scikit-learn.org. See: https://github.com/scikit-learn/scikit-learn/issues/21755 */display: inline-block !important;position: relative;}#sk-container-id-2 div.sk-text-repr-fallback {display: none;}</style><div id=\"sk-container-id-2\" class=\"sk-top-container\"><div class=\"sk-text-repr-fallback\"><pre>DecisionTreeClassifier()</pre><b>In a Jupyter environment, please rerun this cell to show the HTML representation or trust the notebook. <br />On GitHub, the HTML representation is unable to render, please try loading this page with nbviewer.org.</b></div><div class=\"sk-container\" hidden><div class=\"sk-item\"><div class=\"sk-estimator sk-toggleable\"><input class=\"sk-toggleable__control sk-hidden--visually\" id=\"sk-estimator-id-2\" type=\"checkbox\" checked><label for=\"sk-estimator-id-2\" class=\"sk-toggleable__label sk-toggleable__label-arrow\">DecisionTreeClassifier</label><div class=\"sk-toggleable__content\"><pre>DecisionTreeClassifier()</pre></div></div></div></div></div>"
      ],
      "text/plain": [
       "DecisionTreeClassifier()"
      ]
     },
     "execution_count": 31,
     "metadata": {},
     "output_type": "execute_result"
    }
   ],
   "source": [
    "from sklearn.tree import DecisionTreeClassifier\n",
    "\n",
    "DT = DecisionTreeClassifier()\n",
    "DT.fit(xv_train, y_train)"
   ]
  },
  {
   "cell_type": "code",
   "execution_count": 32,
   "id": "bd59d1d4",
   "metadata": {
    "execution": {
     "iopub.execute_input": "2025-01-08T18:17:56.761705Z",
     "iopub.status.busy": "2025-01-08T18:17:56.760790Z",
     "iopub.status.idle": "2025-01-08T18:17:56.808619Z",
     "shell.execute_reply": "2025-01-08T18:17:56.807725Z"
    },
    "papermill": {
     "duration": 0.061992,
     "end_time": "2025-01-08T18:17:56.811002",
     "exception": false,
     "start_time": "2025-01-08T18:17:56.749010",
     "status": "completed"
    },
    "tags": []
   },
   "outputs": [],
   "source": [
    "pred_dt = DT.predict(xv_test)"
   ]
  },
  {
   "cell_type": "code",
   "execution_count": 33,
   "id": "007018c1",
   "metadata": {
    "execution": {
     "iopub.execute_input": "2025-01-08T18:17:56.835046Z",
     "iopub.status.busy": "2025-01-08T18:17:56.833994Z",
     "iopub.status.idle": "2025-01-08T18:17:56.885145Z",
     "shell.execute_reply": "2025-01-08T18:17:56.884103Z"
    },
    "papermill": {
     "duration": 0.065678,
     "end_time": "2025-01-08T18:17:56.887249",
     "exception": false,
     "start_time": "2025-01-08T18:17:56.821571",
     "status": "completed"
    },
    "tags": []
   },
   "outputs": [
    {
     "data": {
      "text/plain": [
       "0.9954545454545455"
      ]
     },
     "execution_count": 33,
     "metadata": {},
     "output_type": "execute_result"
    }
   ],
   "source": [
    "DT.score(xv_test, y_test)"
   ]
  },
  {
   "cell_type": "code",
   "execution_count": 34,
   "id": "8b09fb7a",
   "metadata": {
    "execution": {
     "iopub.execute_input": "2025-01-08T18:17:56.910641Z",
     "iopub.status.busy": "2025-01-08T18:17:56.910250Z",
     "iopub.status.idle": "2025-01-08T18:17:56.941321Z",
     "shell.execute_reply": "2025-01-08T18:17:56.940292Z"
    },
    "papermill": {
     "duration": 0.045236,
     "end_time": "2025-01-08T18:17:56.943616",
     "exception": false,
     "start_time": "2025-01-08T18:17:56.898380",
     "status": "completed"
    },
    "tags": []
   },
   "outputs": [
    {
     "name": "stdout",
     "output_type": "stream",
     "text": [
      "              precision    recall  f1-score   support\n",
      "\n",
      "           0       0.99      0.98      0.99      5852\n",
      "           1       0.98      0.99      0.99      5368\n",
      "\n",
      "    accuracy                           0.99     11220\n",
      "   macro avg       0.99      0.99      0.99     11220\n",
      "weighted avg       0.99      0.99      0.99     11220\n",
      "\n"
     ]
    }
   ],
   "source": [
    "print (classification_report(y_test, pred_lr))"
   ]
  },
  {
   "cell_type": "code",
   "execution_count": null,
   "id": "e97ea7d5",
   "metadata": {
    "papermill": {
     "duration": 0.010256,
     "end_time": "2025-01-08T18:17:56.964664",
     "exception": false,
     "start_time": "2025-01-08T18:17:56.954408",
     "status": "completed"
    },
    "tags": []
   },
   "outputs": [],
   "source": []
  }
 ],
 "metadata": {
  "kaggle": {
   "accelerator": "none",
   "dataSources": [
    {
     "datasetId": 6323227,
     "sourceId": 10227448,
     "sourceType": "datasetVersion"
    }
   ],
   "dockerImageVersionId": 30804,
   "isGpuEnabled": false,
   "isInternetEnabled": true,
   "language": "python",
   "sourceType": "notebook"
  },
  "kernelspec": {
   "display_name": "Python 3",
   "language": "python",
   "name": "python3"
  },
  "language_info": {
   "codemirror_mode": {
    "name": "ipython",
    "version": 3
   },
   "file_extension": ".py",
   "mimetype": "text/x-python",
   "name": "python",
   "nbconvert_exporter": "python",
   "pygments_lexer": "ipython3",
   "version": "3.10.14"
  },
  "papermill": {
   "default_parameters": {},
   "duration": 86.676989,
   "end_time": "2025-01-08T18:17:57.697372",
   "environment_variables": {},
   "exception": null,
   "input_path": "__notebook__.ipynb",
   "output_path": "__notebook__.ipynb",
   "parameters": {},
   "start_time": "2025-01-08T18:16:31.020383",
   "version": "2.6.0"
  }
 },
 "nbformat": 4,
 "nbformat_minor": 5
}
