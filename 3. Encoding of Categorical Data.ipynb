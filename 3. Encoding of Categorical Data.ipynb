{
 "cells": [
  {
   "cell_type": "markdown",
   "id": "e93499d4",
   "metadata": {
    "papermill": {
     "duration": 0.004018,
     "end_time": "2024-10-17T04:40:50.308773",
     "exception": false,
     "start_time": "2024-10-17T04:40:50.304755",
     "status": "completed"
    },
    "tags": []
   },
   "source": [
    "# Lab Sheet 3"
   ]
  },
  {
   "cell_type": "markdown",
   "id": "0622481b",
   "metadata": {
    "papermill": {
     "duration": 0.00297,
     "end_time": "2024-10-17T04:40:50.315167",
     "exception": false,
     "start_time": "2024-10-17T04:40:50.312197",
     "status": "completed"
    },
    "tags": []
   },
   "source": [
    "**For a given set of training data examples stored in a .CSV file, implement and demonstrate the conversion of categorical data to numeric of Tips.csv file using python libraries.**\n",
    "\n",
    "**Dataset: https://www.kaggle.com/datasets/hnazari8665/tipscsv** "
   ]
  },
  {
   "cell_type": "code",
   "execution_count": 1,
   "id": "27329156",
   "metadata": {
    "execution": {
     "iopub.execute_input": "2024-10-17T04:40:50.323470Z",
     "iopub.status.busy": "2024-10-17T04:40:50.323050Z",
     "iopub.status.idle": "2024-10-17T04:40:52.528435Z",
     "shell.execute_reply": "2024-10-17T04:40:52.527350Z"
    },
    "papermill": {
     "duration": 2.212633,
     "end_time": "2024-10-17T04:40:52.531026",
     "exception": false,
     "start_time": "2024-10-17T04:40:50.318393",
     "status": "completed"
    },
    "tags": []
   },
   "outputs": [],
   "source": [
    "import pandas as pd\n",
    "import numpy as np\n",
    "from sklearn.preprocessing import LabelEncoder , OneHotEncoder\n"
   ]
  },
  {
   "cell_type": "code",
   "execution_count": 2,
   "id": "418a9fd0",
   "metadata": {
    "execution": {
     "iopub.execute_input": "2024-10-17T04:40:52.541123Z",
     "iopub.status.busy": "2024-10-17T04:40:52.540498Z",
     "iopub.status.idle": "2024-10-17T04:40:52.577292Z",
     "shell.execute_reply": "2024-10-17T04:40:52.576161Z"
    },
    "papermill": {
     "duration": 0.044109,
     "end_time": "2024-10-17T04:40:52.579862",
     "exception": false,
     "start_time": "2024-10-17T04:40:52.535753",
     "status": "completed"
    },
    "tags": []
   },
   "outputs": [
    {
     "name": "stdout",
     "output_type": "stream",
     "text": [
      "   total_bill   tip     sex smoker  day    time  size  price_per_person  \\\n",
      "0       16.99  1.01  Female     No  Sun  Dinner     2              8.49   \n",
      "1       10.34  1.66    Male     No  Sun  Dinner     3              3.45   \n",
      "2       21.01  3.50    Male     No  Sun  Dinner     3              7.00   \n",
      "3       23.68  3.31    Male     No  Sun  Dinner     2             11.84   \n",
      "4       24.59  3.61  Female     No  Sun  Dinner     4              6.15   \n",
      "\n",
      "           Payer Name         CC Number Payment ID  \n",
      "0  Christy Cunningham  3560325168603410    Sun2959  \n",
      "1      Douglas Tucker  4478071379779230    Sun4608  \n",
      "2      Travis Walters  6011812112971322    Sun4458  \n",
      "3    Nathaniel Harris  4676137647685994    Sun5260  \n",
      "4        Tonya Carter  4832732618637221    Sun2251  \n"
     ]
    }
   ],
   "source": [
    "# Load the dataset\n",
    "df = pd.read_csv('/kaggle/input/categorical-data/tips.csv')\n",
    "\n",
    "#Display the first few rows of the dataframe to understand ther structure\n",
    "print(df.head())"
   ]
  },
  {
   "cell_type": "markdown",
   "id": "985eff24",
   "metadata": {
    "papermill": {
     "duration": 0.003031,
     "end_time": "2024-10-17T04:40:52.586348",
     "exception": false,
     "start_time": "2024-10-17T04:40:52.583317",
     "status": "completed"
    },
    "tags": []
   },
   "source": [
    "# Identify Catagorical Columns\n",
    "\n",
    "**To proceed, you need to identify which columns are catagorical. Usually, catagorical data can be strings or objects in a dataframe**"
   ]
  },
  {
   "cell_type": "code",
   "execution_count": 3,
   "id": "718f9ebe",
   "metadata": {
    "execution": {
     "iopub.execute_input": "2024-10-17T04:40:52.594553Z",
     "iopub.status.busy": "2024-10-17T04:40:52.594142Z",
     "iopub.status.idle": "2024-10-17T04:40:52.601290Z",
     "shell.execute_reply": "2024-10-17T04:40:52.600197Z"
    },
    "papermill": {
     "duration": 0.014111,
     "end_time": "2024-10-17T04:40:52.603719",
     "exception": false,
     "start_time": "2024-10-17T04:40:52.589608",
     "status": "completed"
    },
    "tags": []
   },
   "outputs": [
    {
     "name": "stdout",
     "output_type": "stream",
     "text": [
      "total_bill          float64\n",
      "tip                 float64\n",
      "sex                  object\n",
      "smoker               object\n",
      "day                  object\n",
      "time                 object\n",
      "size                  int64\n",
      "price_per_person    float64\n",
      "Payer Name           object\n",
      "CC Number             int64\n",
      "Payment ID           object\n",
      "dtype: object\n"
     ]
    }
   ],
   "source": [
    "# Display column types to find which ones are catagorical\n",
    "print(df.dtypes)\n",
    "\n",
    "# Alternatively, you can manually list the columns\n",
    "catagorical_columns = ['sex', 'smoker', 'day', 'time'] #Example of tips dataset"
   ]
  },
  {
   "cell_type": "markdown",
   "id": "5d9c4ee3",
   "metadata": {
    "papermill": {
     "duration": 0.003156,
     "end_time": "2024-10-17T04:40:52.610454",
     "exception": false,
     "start_time": "2024-10-17T04:40:52.607298",
     "status": "completed"
    },
    "tags": []
   },
   "source": [
    "# Convert Catagorical Data to Numeric"
   ]
  },
  {
   "cell_type": "markdown",
   "id": "2027902d",
   "metadata": {
    "papermill": {
     "duration": 0.003146,
     "end_time": "2024-10-17T04:40:52.617067",
     "exception": false,
     "start_time": "2024-10-17T04:40:52.613921",
     "status": "completed"
    },
    "tags": []
   },
   "source": [
    "**There are two common methods for converting data to numeric:**\n",
    "\n",
    "**Label Encoding: Converts categories into integers (useful for ordinary categories). One Hot Encoding: Converts "
   ]
  },
  {
   "cell_type": "markdown",
   "id": "261d32d5",
   "metadata": {
    "papermill": {
     "duration": 0.00312,
     "end_time": "2024-10-17T04:40:52.623767",
     "exception": false,
     "start_time": "2024-10-17T04:40:52.620647",
     "status": "completed"
    },
    "tags": []
   },
   "source": [
    "# Label Encoding for Ordinal Catagories\n",
    "\n",
    "**Label Encoding is useful when the categoeical values have a natural order(for example, low, medium, high)**"
   ]
  },
  {
   "cell_type": "code",
   "execution_count": 4,
   "id": "6a12fbd7",
   "metadata": {
    "execution": {
     "iopub.execute_input": "2024-10-17T04:40:52.632945Z",
     "iopub.status.busy": "2024-10-17T04:40:52.631855Z",
     "iopub.status.idle": "2024-10-17T04:40:52.645792Z",
     "shell.execute_reply": "2024-10-17T04:40:52.644724Z"
    },
    "papermill": {
     "duration": 0.021113,
     "end_time": "2024-10-17T04:40:52.648276",
     "exception": false,
     "start_time": "2024-10-17T04:40:52.627163",
     "status": "completed"
    },
    "tags": []
   },
   "outputs": [
    {
     "name": "stdout",
     "output_type": "stream",
     "text": [
      "   total_bill   tip  sex  smoker  day  time  size  price_per_person  \\\n",
      "0       16.99  1.01    0       0    2     0     2              8.49   \n",
      "1       10.34  1.66    1       0    2     0     3              3.45   \n",
      "2       21.01  3.50    1       0    2     0     3              7.00   \n",
      "3       23.68  3.31    1       0    2     0     2             11.84   \n",
      "4       24.59  3.61    0       0    2     0     4              6.15   \n",
      "\n",
      "           Payer Name         CC Number Payment ID  \n",
      "0  Christy Cunningham  3560325168603410    Sun2959  \n",
      "1      Douglas Tucker  4478071379779230    Sun4608  \n",
      "2      Travis Walters  6011812112971322    Sun4458  \n",
      "3    Nathaniel Harris  4676137647685994    Sun5260  \n",
      "4        Tonya Carter  4832732618637221    Sun2251  \n"
     ]
    }
   ],
   "source": [
    "# Apply Label Encoding\n",
    "label_encoder = LabelEncoder()\n",
    "\n",
    "df['sex'] = label_encoder.fit_transform(df['sex'])\n",
    "df['smoker'] = label_encoder.fit_transform(df['smoker'])\n",
    "df['day'] = label_encoder.fit_transform(df['day'])\n",
    "df['time'] = label_encoder.fit_transform(df['time'])\n",
    "\n",
    "# Display the transformed dataframe\n",
    "print(df.head())\n"
   ]
  },
  {
   "cell_type": "markdown",
   "id": "0c230392",
   "metadata": {
    "papermill": {
     "duration": 0.003277,
     "end_time": "2024-10-17T04:40:52.655247",
     "exception": false,
     "start_time": "2024-10-17T04:40:52.651970",
     "status": "completed"
    },
    "tags": []
   },
   "source": [
    "# One-Hot Encoding for Nominal Categories\n",
    "\n",
    "**One-Hot Encoding is useful when the cateforical values don't have any natural order (for example, 'male', 'female').**"
   ]
  },
  {
   "cell_type": "code",
   "execution_count": 5,
   "id": "ff33d6bd",
   "metadata": {
    "execution": {
     "iopub.execute_input": "2024-10-17T04:40:52.664486Z",
     "iopub.status.busy": "2024-10-17T04:40:52.663477Z",
     "iopub.status.idle": "2024-10-17T04:40:52.688383Z",
     "shell.execute_reply": "2024-10-17T04:40:52.687224Z"
    },
    "papermill": {
     "duration": 0.031944,
     "end_time": "2024-10-17T04:40:52.690813",
     "exception": false,
     "start_time": "2024-10-17T04:40:52.658869",
     "status": "completed"
    },
    "tags": []
   },
   "outputs": [
    {
     "name": "stdout",
     "output_type": "stream",
     "text": [
      "   total_bill   tip  size  price_per_person          Payer Name  \\\n",
      "0       16.99  1.01     2              8.49  Christy Cunningham   \n",
      "1       10.34  1.66     3              3.45      Douglas Tucker   \n",
      "2       21.01  3.50     3              7.00      Travis Walters   \n",
      "3       23.68  3.31     2             11.84    Nathaniel Harris   \n",
      "4       24.59  3.61     4              6.15        Tonya Carter   \n",
      "\n",
      "          CC Number Payment ID  sex_1  smoker_1  day_1  day_2  day_3  time_1  \n",
      "0  3560325168603410    Sun2959  False     False  False   True  False   False  \n",
      "1  4478071379779230    Sun4608   True     False  False   True  False   False  \n",
      "2  6011812112971322    Sun4458   True     False  False   True  False   False  \n",
      "3  4676137647685994    Sun5260   True     False  False   True  False   False  \n",
      "4  4832732618637221    Sun2251  False     False  False   True  False   False  \n"
     ]
    }
   ],
   "source": [
    "# Apply One-Hot Encoding\n",
    "df_encoded  = pd.get_dummies(df,columns=['sex', 'smoker', 'day', 'time'], drop_first=True)\n",
    "\n",
    "#display the transformed dataframe\n",
    "print(df_encoded.head())"
   ]
  }
 ],
 "metadata": {
  "kaggle": {
   "accelerator": "none",
   "dataSources": [
    {
     "datasetId": 5683715,
     "sourceId": 9371441,
     "sourceType": "datasetVersion"
    }
   ],
   "dockerImageVersionId": 30761,
   "isGpuEnabled": false,
   "isInternetEnabled": true,
   "language": "python",
   "sourceType": "notebook"
  },
  "kernelspec": {
   "display_name": "Python 3",
   "language": "python",
   "name": "python3"
  },
  "language_info": {
   "codemirror_mode": {
    "name": "ipython",
    "version": 3
   },
   "file_extension": ".py",
   "mimetype": "text/x-python",
   "name": "python",
   "nbconvert_exporter": "python",
   "pygments_lexer": "ipython3",
   "version": "3.10.14"
  },
  "papermill": {
   "default_parameters": {},
   "duration": 5.80121,
   "end_time": "2024-10-17T04:40:53.316572",
   "environment_variables": {},
   "exception": null,
   "input_path": "__notebook__.ipynb",
   "output_path": "__notebook__.ipynb",
   "parameters": {},
   "start_time": "2024-10-17T04:40:47.515362",
   "version": "2.6.0"
  }
 },
 "nbformat": 4,
 "nbformat_minor": 5
}
