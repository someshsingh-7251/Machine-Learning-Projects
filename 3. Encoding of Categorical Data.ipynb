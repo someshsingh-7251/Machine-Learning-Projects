{
 "cells": [
  {
   "cell_type": "markdown",
   "id": "ef1d08dc",
   "metadata": {
    "papermill": {
     "duration": 0.003908,
     "end_time": "2024-10-17T04:41:07.439037",
     "exception": false,
     "start_time": "2024-10-17T04:41:07.435129",
     "status": "completed"
    },
    "tags": []
   },
   "source": [
    "# Lab Sheet 3"
   ]
  },
  {
   "cell_type": "markdown",
   "id": "8eac3d14",
   "metadata": {
    "papermill": {
     "duration": 0.00308,
     "end_time": "2024-10-17T04:41:07.445705",
     "exception": false,
     "start_time": "2024-10-17T04:41:07.442625",
     "status": "completed"
    },
    "tags": []
   },
   "source": [
    "**For a given set of training data examples stored in a .CSV file, implement and demonstrate the conversion of categorical data to numeric of Tips.csv file using python libraries.**\n",
    "\n",
    "**Dataset: https://www.kaggle.com/datasets/hnazari8665/tipscsv** "
   ]
  },
  {
   "cell_type": "code",
   "execution_count": 1,
   "id": "82edff34",
   "metadata": {
    "execution": {
     "iopub.execute_input": "2024-10-17T04:41:07.454267Z",
     "iopub.status.busy": "2024-10-17T04:41:07.453727Z",
     "iopub.status.idle": "2024-10-17T04:41:09.770991Z",
     "shell.execute_reply": "2024-10-17T04:41:09.769851Z"
    },
    "papermill": {
     "duration": 2.324553,
     "end_time": "2024-10-17T04:41:09.773621",
     "exception": false,
     "start_time": "2024-10-17T04:41:07.449068",
     "status": "completed"
    },
    "tags": []
   },
   "outputs": [],
   "source": [
    "import pandas as pd\n",
    "import numpy as np\n",
    "from sklearn.preprocessing import LabelEncoder , OneHotEncoder\n"
   ]
  },
  {
   "cell_type": "code",
   "execution_count": 2,
   "id": "e2384a64",
   "metadata": {
    "execution": {
     "iopub.execute_input": "2024-10-17T04:41:09.783810Z",
     "iopub.status.busy": "2024-10-17T04:41:09.783267Z",
     "iopub.status.idle": "2024-10-17T04:41:09.828558Z",
     "shell.execute_reply": "2024-10-17T04:41:09.826837Z"
    },
    "papermill": {
     "duration": 0.05399,
     "end_time": "2024-10-17T04:41:09.831275",
     "exception": false,
     "start_time": "2024-10-17T04:41:09.777285",
     "status": "completed"
    },
    "tags": []
   },
   "outputs": [
    {
     "name": "stdout",
     "output_type": "stream",
     "text": [
      "   total_bill   tip     sex smoker  day    time  size  price_per_person  \\\n",
      "0       16.99  1.01  Female     No  Sun  Dinner     2              8.49   \n",
      "1       10.34  1.66    Male     No  Sun  Dinner     3              3.45   \n",
      "2       21.01  3.50    Male     No  Sun  Dinner     3              7.00   \n",
      "3       23.68  3.31    Male     No  Sun  Dinner     2             11.84   \n",
      "4       24.59  3.61  Female     No  Sun  Dinner     4              6.15   \n",
      "\n",
      "           Payer Name         CC Number Payment ID  \n",
      "0  Christy Cunningham  3560325168603410    Sun2959  \n",
      "1      Douglas Tucker  4478071379779230    Sun4608  \n",
      "2      Travis Walters  6011812112971322    Sun4458  \n",
      "3    Nathaniel Harris  4676137647685994    Sun5260  \n",
      "4        Tonya Carter  4832732618637221    Sun2251  \n"
     ]
    }
   ],
   "source": [
    "# Load the dataset\n",
    "df = pd.read_csv('/kaggle/input/categorical-data/tips.csv')\n",
    "\n",
    "#Display the first few rows of the dataframe to understand ther structure\n",
    "print(df.head())"
   ]
  },
  {
   "cell_type": "markdown",
   "id": "c29bb06b",
   "metadata": {
    "papermill": {
     "duration": 0.003154,
     "end_time": "2024-10-17T04:41:09.838054",
     "exception": false,
     "start_time": "2024-10-17T04:41:09.834900",
     "status": "completed"
    },
    "tags": []
   },
   "source": [
    "# Identify Catagorical Columns\n",
    "\n",
    "**To proceed, you need to identify which columns are catagorical. Usually, catagorical data can be strings or objects in a dataframe**"
   ]
  },
  {
   "cell_type": "code",
   "execution_count": 3,
   "id": "9077ba12",
   "metadata": {
    "execution": {
     "iopub.execute_input": "2024-10-17T04:41:09.847594Z",
     "iopub.status.busy": "2024-10-17T04:41:09.846483Z",
     "iopub.status.idle": "2024-10-17T04:41:09.855234Z",
     "shell.execute_reply": "2024-10-17T04:41:09.853887Z"
    },
    "papermill": {
     "duration": 0.016326,
     "end_time": "2024-10-17T04:41:09.857839",
     "exception": false,
     "start_time": "2024-10-17T04:41:09.841513",
     "status": "completed"
    },
    "tags": []
   },
   "outputs": [
    {
     "name": "stdout",
     "output_type": "stream",
     "text": [
      "total_bill          float64\n",
      "tip                 float64\n",
      "sex                  object\n",
      "smoker               object\n",
      "day                  object\n",
      "time                 object\n",
      "size                  int64\n",
      "price_per_person    float64\n",
      "Payer Name           object\n",
      "CC Number             int64\n",
      "Payment ID           object\n",
      "dtype: object\n"
     ]
    }
   ],
   "source": [
    "# Display column types to find which ones are catagorical\n",
    "print(df.dtypes)\n",
    "\n",
    "# Alternatively, you can manually list the columns\n",
    "catagorical_columns = ['sex', 'smoker', 'day', 'time'] #Example of tips dataset"
   ]
  },
  {
   "cell_type": "markdown",
   "id": "260e2ca1",
   "metadata": {
    "papermill": {
     "duration": 0.003197,
     "end_time": "2024-10-17T04:41:09.864603",
     "exception": false,
     "start_time": "2024-10-17T04:41:09.861406",
     "status": "completed"
    },
    "tags": []
   },
   "source": [
    "# Convert Catagorical Data to Numeric"
   ]
  },
  {
   "cell_type": "markdown",
   "id": "b550c2ae",
   "metadata": {
    "papermill": {
     "duration": 0.003294,
     "end_time": "2024-10-17T04:41:09.871412",
     "exception": false,
     "start_time": "2024-10-17T04:41:09.868118",
     "status": "completed"
    },
    "tags": []
   },
   "source": [
    "**There are two common methods for converting data to numeric:**\n",
    "\n",
    "**Label Encoding: Converts categories into integers (useful for ordinary categories). One Hot Encoding: Converts "
   ]
  },
  {
   "cell_type": "markdown",
   "id": "fb1ad8ca",
   "metadata": {
    "papermill": {
     "duration": 0.003354,
     "end_time": "2024-10-17T04:41:09.878912",
     "exception": false,
     "start_time": "2024-10-17T04:41:09.875558",
     "status": "completed"
    },
    "tags": []
   },
   "source": [
    "# Label Encoding for Ordinal Catagories\n",
    "\n",
    "**Label Encoding is useful when the categoeical values have a natural order(for example, low, medium, high)**"
   ]
  },
  {
   "cell_type": "code",
   "execution_count": 4,
   "id": "9dc4ae46",
   "metadata": {
    "execution": {
     "iopub.execute_input": "2024-10-17T04:41:09.887547Z",
     "iopub.status.busy": "2024-10-17T04:41:09.887163Z",
     "iopub.status.idle": "2024-10-17T04:41:09.901124Z",
     "shell.execute_reply": "2024-10-17T04:41:09.899825Z"
    },
    "papermill": {
     "duration": 0.021143,
     "end_time": "2024-10-17T04:41:09.903570",
     "exception": false,
     "start_time": "2024-10-17T04:41:09.882427",
     "status": "completed"
    },
    "tags": []
   },
   "outputs": [
    {
     "name": "stdout",
     "output_type": "stream",
     "text": [
      "   total_bill   tip  sex  smoker  day  time  size  price_per_person  \\\n",
      "0       16.99  1.01    0       0    2     0     2              8.49   \n",
      "1       10.34  1.66    1       0    2     0     3              3.45   \n",
      "2       21.01  3.50    1       0    2     0     3              7.00   \n",
      "3       23.68  3.31    1       0    2     0     2             11.84   \n",
      "4       24.59  3.61    0       0    2     0     4              6.15   \n",
      "\n",
      "           Payer Name         CC Number Payment ID  \n",
      "0  Christy Cunningham  3560325168603410    Sun2959  \n",
      "1      Douglas Tucker  4478071379779230    Sun4608  \n",
      "2      Travis Walters  6011812112971322    Sun4458  \n",
      "3    Nathaniel Harris  4676137647685994    Sun5260  \n",
      "4        Tonya Carter  4832732618637221    Sun2251  \n"
     ]
    }
   ],
   "source": [
    "# Apply Label Encoding\n",
    "label_encoder = LabelEncoder()\n",
    "\n",
    "df['sex'] = label_encoder.fit_transform(df['sex'])\n",
    "df['smoker'] = label_encoder.fit_transform(df['smoker'])\n",
    "df['day'] = label_encoder.fit_transform(df['day'])\n",
    "df['time'] = label_encoder.fit_transform(df['time'])\n",
    "\n",
    "# Display the transformed dataframe\n",
    "print(df.head())\n"
   ]
  },
  {
   "cell_type": "markdown",
   "id": "c7cc5949",
   "metadata": {
    "papermill": {
     "duration": 0.003301,
     "end_time": "2024-10-17T04:41:09.910521",
     "exception": false,
     "start_time": "2024-10-17T04:41:09.907220",
     "status": "completed"
    },
    "tags": []
   },
   "source": [
    "# One-Hot Encoding for Nominal Categories\n",
    "\n",
    "**One-Hot Encoding is useful when the cateforical values don't have any natural order (for example, 'male', 'female').**"
   ]
  },
  {
   "cell_type": "code",
   "execution_count": 5,
   "id": "d74ae3d1",
   "metadata": {
    "execution": {
     "iopub.execute_input": "2024-10-17T04:41:09.920708Z",
     "iopub.status.busy": "2024-10-17T04:41:09.920192Z",
     "iopub.status.idle": "2024-10-17T04:41:09.949018Z",
     "shell.execute_reply": "2024-10-17T04:41:09.947909Z"
    },
    "papermill": {
     "duration": 0.037538,
     "end_time": "2024-10-17T04:41:09.951664",
     "exception": false,
     "start_time": "2024-10-17T04:41:09.914126",
     "status": "completed"
    },
    "tags": []
   },
   "outputs": [
    {
     "name": "stdout",
     "output_type": "stream",
     "text": [
      "   total_bill   tip  size  price_per_person          Payer Name  \\\n",
      "0       16.99  1.01     2              8.49  Christy Cunningham   \n",
      "1       10.34  1.66     3              3.45      Douglas Tucker   \n",
      "2       21.01  3.50     3              7.00      Travis Walters   \n",
      "3       23.68  3.31     2             11.84    Nathaniel Harris   \n",
      "4       24.59  3.61     4              6.15        Tonya Carter   \n",
      "\n",
      "          CC Number Payment ID  sex_1  smoker_1  day_1  day_2  day_3  time_1  \n",
      "0  3560325168603410    Sun2959  False     False  False   True  False   False  \n",
      "1  4478071379779230    Sun4608   True     False  False   True  False   False  \n",
      "2  6011812112971322    Sun4458   True     False  False   True  False   False  \n",
      "3  4676137647685994    Sun5260   True     False  False   True  False   False  \n",
      "4  4832732618637221    Sun2251  False     False  False   True  False   False  \n"
     ]
    }
   ],
   "source": [
    "# Apply One-Hot Encoding\n",
    "df_encoded  = pd.get_dummies(df,columns=['sex', 'smoker', 'day', 'time'], drop_first=True)\n",
    "\n",
    "#display the transformed dataframe\n",
    "print(df_encoded.head())"
   ]
  }
 ],
 "metadata": {
  "kaggle": {
   "accelerator": "none",
   "dataSources": [
    {
     "datasetId": 5683715,
     "sourceId": 9371441,
     "sourceType": "datasetVersion"
    }
   ],
   "dockerImageVersionId": 30761,
   "isGpuEnabled": false,
   "isInternetEnabled": true,
   "language": "python",
   "sourceType": "notebook"
  },
  "kernelspec": {
   "display_name": "Python 3",
   "language": "python",
   "name": "python3"
  },
  "language_info": {
   "codemirror_mode": {
    "name": "ipython",
    "version": 3
   },
   "file_extension": ".py",
   "mimetype": "text/x-python",
   "name": "python",
   "nbconvert_exporter": "python",
   "pygments_lexer": "ipython3",
   "version": "3.10.14"
  },
  "papermill": {
   "default_parameters": {},
   "duration": 6.071445,
   "end_time": "2024-10-17T04:41:10.579300",
   "environment_variables": {},
   "exception": null,
   "input_path": "__notebook__.ipynb",
   "output_path": "__notebook__.ipynb",
   "parameters": {},
   "start_time": "2024-10-17T04:41:04.507855",
   "version": "2.6.0"
  }
 },
 "nbformat": 4,
 "nbformat_minor": 5
}
