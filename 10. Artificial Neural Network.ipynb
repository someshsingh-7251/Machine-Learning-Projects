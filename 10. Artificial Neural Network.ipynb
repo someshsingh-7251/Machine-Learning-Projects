{
 "cells": [
  {
   "cell_type": "markdown",
   "id": "c0892d07",
   "metadata": {
    "papermill": {
     "duration": 0.007046,
     "end_time": "2024-11-21T14:29:15.582159",
     "exception": false,
     "start_time": "2024-11-21T14:29:15.575113",
     "status": "completed"
    },
    "tags": []
   },
   "source": [
    "# Lab Sheet 7"
   ]
  },
  {
   "cell_type": "markdown",
   "id": "d79f5be7",
   "metadata": {
    "papermill": {
     "duration": 0.005759,
     "end_time": "2024-11-21T14:29:15.594296",
     "exception": false,
     "start_time": "2024-11-21T14:29:15.588537",
     "status": "completed"
    },
    "tags": []
   },
   "source": [
    "# Build an Artificial Neural Network by implementing the Back-propagationalgorithm and test the same using appropriate data sets"
   ]
  },
  {
   "cell_type": "markdown",
   "id": "f310a5f5",
   "metadata": {
    "papermill": {
     "duration": 0.005917,
     "end_time": "2024-11-21T14:29:15.606323",
     "exception": false,
     "start_time": "2024-11-21T14:29:15.600406",
     "status": "completed"
    },
    "tags": []
   },
   "source": [
    "# Import all necessary librariess"
   ]
  },
  {
   "cell_type": "code",
   "execution_count": 1,
   "id": "ae2b8c51",
   "metadata": {
    "_cell_guid": "b1076dfc-b9ad-4769-8c92-a6c4dae69d19",
    "_uuid": "8f2839f25d086af736a60e9eeb907d3b93b6e0e5",
    "execution": {
     "iopub.execute_input": "2024-11-21T14:29:15.620815Z",
     "iopub.status.busy": "2024-11-21T14:29:15.619939Z",
     "iopub.status.idle": "2024-11-21T14:29:15.628715Z",
     "shell.execute_reply": "2024-11-21T14:29:15.627861Z"
    },
    "papermill": {
     "duration": 0.018293,
     "end_time": "2024-11-21T14:29:15.630751",
     "exception": false,
     "start_time": "2024-11-21T14:29:15.612458",
     "status": "completed"
    },
    "tags": []
   },
   "outputs": [],
   "source": [
    "import random\n",
    "from math import exp\n",
    "from random import seed"
   ]
  },
  {
   "cell_type": "markdown",
   "id": "b318b39d",
   "metadata": {
    "papermill": {
     "duration": 0.005896,
     "end_time": "2024-11-21T14:29:15.644002",
     "exception": false,
     "start_time": "2024-11-21T14:29:15.638106",
     "status": "completed"
    },
    "tags": []
   },
   "source": [
    "# Initialize a networkk"
   ]
  },
  {
   "cell_type": "code",
   "execution_count": 2,
   "id": "2cf96579",
   "metadata": {
    "execution": {
     "iopub.execute_input": "2024-11-21T14:29:15.658024Z",
     "iopub.status.busy": "2024-11-21T14:29:15.657648Z",
     "iopub.status.idle": "2024-11-21T14:29:15.664441Z",
     "shell.execute_reply": "2024-11-21T14:29:15.663411Z"
    },
    "papermill": {
     "duration": 0.016175,
     "end_time": "2024-11-21T14:29:15.666436",
     "exception": false,
     "start_time": "2024-11-21T14:29:15.650261",
     "status": "completed"
    },
    "tags": []
   },
   "outputs": [],
   "source": [
    "def initialize_network(n_inputs, n_hidden, n_outputs):\n",
    "    network = list()\n",
    "    hidden_layer = [{'weights':[random.uniform(-0.5,0.5) for i in range(n_inputs + 1)]} for i in range(n_hidden)]\n",
    "    network.append(hidden_layer)\n",
    "    output_layer = [{'weights':[random.uniform(-0.5,0.5) for i in range(n_hidden + 1)]} for i in range(n_outputs)]\n",
    "    network.append(output_layer)\n",
    "    i= 1\n",
    "    print(\"\\n The initialised Neural Network:\\n\")\n",
    "    for layer in network:\n",
    "        j=1\n",
    "        for sub in layer:\n",
    "            print(\"\\n Layer[%d] Node[%d]:\\n\" %(i,j),sub)\n",
    "            j=j+1\n",
    "        i=i+1\n",
    "    return network"
   ]
  },
  {
   "cell_type": "markdown",
   "id": "d6a5046f",
   "metadata": {
    "papermill": {
     "duration": 0.005995,
     "end_time": "2024-11-21T14:29:15.678764",
     "exception": false,
     "start_time": "2024-11-21T14:29:15.672769",
     "status": "completed"
    },
    "tags": []
   },
   "source": [
    "# Calculate neuron activation (net) for an input"
   ]
  },
  {
   "cell_type": "code",
   "execution_count": 3,
   "id": "7f1ff409",
   "metadata": {
    "execution": {
     "iopub.execute_input": "2024-11-21T14:29:15.692428Z",
     "iopub.status.busy": "2024-11-21T14:29:15.692079Z",
     "iopub.status.idle": "2024-11-21T14:29:15.697337Z",
     "shell.execute_reply": "2024-11-21T14:29:15.696359Z"
    },
    "papermill": {
     "duration": 0.014749,
     "end_time": "2024-11-21T14:29:15.699589",
     "exception": false,
     "start_time": "2024-11-21T14:29:15.684840",
     "status": "completed"
    },
    "tags": []
   },
   "outputs": [],
   "source": [
    "def activate(weights, inputs):\n",
    "    activation = weights[-1]\n",
    "    for i in range(len(weights)-1):\n",
    "        activation += weights[i] * inputs[i]\n",
    "    return activation"
   ]
  },
  {
   "cell_type": "markdown",
   "id": "715004e8",
   "metadata": {
    "papermill": {
     "duration": 0.005978,
     "end_time": "2024-11-21T14:29:15.711822",
     "exception": false,
     "start_time": "2024-11-21T14:29:15.705844",
     "status": "completed"
    },
    "tags": []
   },
   "source": [
    "# Transfer neuron activation to sigmoid function"
   ]
  },
  {
   "cell_type": "code",
   "execution_count": 4,
   "id": "c523ad3a",
   "metadata": {
    "execution": {
     "iopub.execute_input": "2024-11-21T14:29:15.725689Z",
     "iopub.status.busy": "2024-11-21T14:29:15.725301Z",
     "iopub.status.idle": "2024-11-21T14:29:15.730150Z",
     "shell.execute_reply": "2024-11-21T14:29:15.729161Z"
    },
    "papermill": {
     "duration": 0.014331,
     "end_time": "2024-11-21T14:29:15.732283",
     "exception": false,
     "start_time": "2024-11-21T14:29:15.717952",
     "status": "completed"
    },
    "tags": []
   },
   "outputs": [],
   "source": [
    "def transfer(activation):\n",
    "    return 1.0 / (1.0 + exp(-activation))"
   ]
  },
  {
   "cell_type": "markdown",
   "id": "6b062d15",
   "metadata": {
    "papermill": {
     "duration": 0.005985,
     "end_time": "2024-11-21T14:29:15.744664",
     "exception": false,
     "start_time": "2024-11-21T14:29:15.738679",
     "status": "completed"
    },
    "tags": []
   },
   "source": [
    "# Forward propagate input to a network output"
   ]
  },
  {
   "cell_type": "code",
   "execution_count": 5,
   "id": "22a7a6a9",
   "metadata": {
    "execution": {
     "iopub.execute_input": "2024-11-21T14:29:15.758421Z",
     "iopub.status.busy": "2024-11-21T14:29:15.758056Z",
     "iopub.status.idle": "2024-11-21T14:29:15.763952Z",
     "shell.execute_reply": "2024-11-21T14:29:15.762730Z"
    },
    "papermill": {
     "duration": 0.015238,
     "end_time": "2024-11-21T14:29:15.766038",
     "exception": false,
     "start_time": "2024-11-21T14:29:15.750800",
     "status": "completed"
    },
    "tags": []
   },
   "outputs": [],
   "source": [
    "def forward_propagate(network, row):\n",
    "    inputs = row\n",
    "    for layer in network:\n",
    "        new_inputs = []\n",
    "        for neuron in layer:\n",
    "            activation = activate(neuron['weights'], inputs)\n",
    "            neuron['output'] = transfer(activation)\n",
    "            new_inputs.append(neuron['output'])\n",
    "        inputs = new_inputs\n",
    "    return inputs"
   ]
  },
  {
   "cell_type": "markdown",
   "id": "f9c1eee8",
   "metadata": {
    "papermill": {
     "duration": 0.005919,
     "end_time": "2024-11-21T14:29:15.778150",
     "exception": false,
     "start_time": "2024-11-21T14:29:15.772231",
     "status": "completed"
    },
    "tags": []
   },
   "source": [
    "# Calculate the derivative of an neuron output"
   ]
  },
  {
   "cell_type": "code",
   "execution_count": 6,
   "id": "76bc6818",
   "metadata": {
    "execution": {
     "iopub.execute_input": "2024-11-21T14:29:15.792785Z",
     "iopub.status.busy": "2024-11-21T14:29:15.791653Z",
     "iopub.status.idle": "2024-11-21T14:29:15.796820Z",
     "shell.execute_reply": "2024-11-21T14:29:15.795757Z"
    },
    "papermill": {
     "duration": 0.014477,
     "end_time": "2024-11-21T14:29:15.798821",
     "exception": false,
     "start_time": "2024-11-21T14:29:15.784344",
     "status": "completed"
    },
    "tags": []
   },
   "outputs": [],
   "source": [
    "def transfer_derivative(output):\n",
    "    return output * (1.0 - output)"
   ]
  },
  {
   "cell_type": "markdown",
   "id": "515852df",
   "metadata": {
    "papermill": {
     "duration": 0.005979,
     "end_time": "2024-11-21T14:29:15.810977",
     "exception": false,
     "start_time": "2024-11-21T14:29:15.804998",
     "status": "completed"
    },
    "tags": []
   },
   "source": [
    "# Backpropagate error and store in neurons"
   ]
  },
  {
   "cell_type": "code",
   "execution_count": 7,
   "id": "39ac7c18",
   "metadata": {
    "execution": {
     "iopub.execute_input": "2024-11-21T14:29:15.825005Z",
     "iopub.status.busy": "2024-11-21T14:29:15.824282Z",
     "iopub.status.idle": "2024-11-21T14:29:15.831986Z",
     "shell.execute_reply": "2024-11-21T14:29:15.830808Z"
    },
    "papermill": {
     "duration": 0.017167,
     "end_time": "2024-11-21T14:29:15.834149",
     "exception": false,
     "start_time": "2024-11-21T14:29:15.816982",
     "status": "completed"
    },
    "tags": []
   },
   "outputs": [],
   "source": [
    "def backward_propagate_error(network, expected):\n",
    "    for i in reversed(range(len(network))):\n",
    "        layer = network[i]\n",
    "        errors = list()\n",
    "        \n",
    "        if i != len(network)-1:\n",
    "            for j in range(len(layer)):\n",
    "                error = 0.0\n",
    "                for neuron in network[i + 1]:\n",
    "                    error += (neuron['weights'][j] * neuron['delta'])\n",
    "                errors.append(error)\n",
    "        else:\n",
    "            for j in range(len(layer)):\n",
    "                neuron = layer[j]\n",
    "                errors.append(expected[j] - neuron['output'])\n",
    "        \n",
    "        for j in range(len(layer)):\n",
    "            neuron = layer[j]\n",
    "            neuron['delta'] = errors[j] * transfer_derivative(neuron['output'])"
   ]
  },
  {
   "cell_type": "markdown",
   "id": "0d7fc05d",
   "metadata": {
    "papermill": {
     "duration": 0.005908,
     "end_time": "2024-11-21T14:29:15.846335",
     "exception": false,
     "start_time": "2024-11-21T14:29:15.840427",
     "status": "completed"
    },
    "tags": []
   },
   "source": [
    "# Update network weights with error"
   ]
  },
  {
   "cell_type": "code",
   "execution_count": 8,
   "id": "42328b89",
   "metadata": {
    "execution": {
     "iopub.execute_input": "2024-11-21T14:29:15.860182Z",
     "iopub.status.busy": "2024-11-21T14:29:15.859789Z",
     "iopub.status.idle": "2024-11-21T14:29:15.865744Z",
     "shell.execute_reply": "2024-11-21T14:29:15.864753Z"
    },
    "papermill": {
     "duration": 0.015316,
     "end_time": "2024-11-21T14:29:15.867746",
     "exception": false,
     "start_time": "2024-11-21T14:29:15.852430",
     "status": "completed"
    },
    "tags": []
   },
   "outputs": [],
   "source": [
    "def update_weights(network, row, l_rate):\n",
    "    for i in range(len(network)):\n",
    "        inputs = row[:-1]\n",
    "        if i != 0:\n",
    "            inputs = [neuron['output'] for neuron in network[i - 1]]\n",
    "        for neuron in network[i]:\n",
    "            for j in range(len(inputs)):\n",
    "                neuron['weights'][j] += l_rate * neuron['delta'] * inputs[j]\n",
    "            neuron['weights'][-1] += l_rate * neuron['delta']\n",
    " "
   ]
  },
  {
   "cell_type": "markdown",
   "id": "aa71209c",
   "metadata": {
    "papermill": {
     "duration": 0.005895,
     "end_time": "2024-11-21T14:29:15.879807",
     "exception": false,
     "start_time": "2024-11-21T14:29:15.873912",
     "status": "completed"
    },
    "tags": []
   },
   "source": [
    "# Train a network for a fixed number of epochs"
   ]
  },
  {
   "cell_type": "code",
   "execution_count": 9,
   "id": "82f85834",
   "metadata": {
    "execution": {
     "iopub.execute_input": "2024-11-21T14:29:15.894443Z",
     "iopub.status.busy": "2024-11-21T14:29:15.894031Z",
     "iopub.status.idle": "2024-11-21T14:29:15.901067Z",
     "shell.execute_reply": "2024-11-21T14:29:15.899956Z"
    },
    "papermill": {
     "duration": 0.016742,
     "end_time": "2024-11-21T14:29:15.903195",
     "exception": false,
     "start_time": "2024-11-21T14:29:15.886453",
     "status": "completed"
    },
    "tags": []
   },
   "outputs": [],
   "source": [
    "def train_network(network, train, l_rate, n_epoch, n_outputs):\n",
    "   \n",
    "    print(\"\\n Network Training Begins:\\n\")\n",
    "    \n",
    "    for epoch in range(n_epoch):\n",
    "        sum_error = 0\n",
    "        for row in train:\n",
    "            outputs = forward_propagate(network, row)\n",
    "            expected = [0 for i in range(n_outputs)]\n",
    "            expected[row[-1]] = 1\n",
    "            sum_error += sum([(expected[i]-outputs[i])**2 for i in range(len(expected))])\n",
    "            backward_propagate_error(network, expected)\n",
    "            update_weights(network, row, l_rate)\n",
    "        print('>epoch=%d, lrate=%.3f, error=%.3f' % (epoch, l_rate, sum_error))\n",
    "    \n",
    "    print(\"\\n Network Training Ends:\\n\")"
   ]
  },
  {
   "cell_type": "markdown",
   "id": "d3f36c80",
   "metadata": {
    "papermill": {
     "duration": 0.005954,
     "end_time": "2024-11-21T14:29:15.915827",
     "exception": false,
     "start_time": "2024-11-21T14:29:15.909873",
     "status": "completed"
    },
    "tags": []
   },
   "source": [
    "# Test training backprop algorithm"
   ]
  },
  {
   "cell_type": "code",
   "execution_count": 10,
   "id": "1d3a7505",
   "metadata": {
    "execution": {
     "iopub.execute_input": "2024-11-21T14:29:15.930962Z",
     "iopub.status.busy": "2024-11-21T14:29:15.930108Z",
     "iopub.status.idle": "2024-11-21T14:29:15.937732Z",
     "shell.execute_reply": "2024-11-21T14:29:15.936668Z"
    },
    "papermill": {
     "duration": 0.018007,
     "end_time": "2024-11-21T14:29:15.939798",
     "exception": false,
     "start_time": "2024-11-21T14:29:15.921791",
     "status": "completed"
    },
    "tags": []
   },
   "outputs": [
    {
     "name": "stdout",
     "output_type": "stream",
     "text": [
      "\n",
      " The input Data Set :\n",
      " [[2.7810836, 2.550537003, 0], [1.465489372, 2.362125076, 0], [3.396561688, 4.400293529, 0], [1.38807019, 1.850220317, 0], [3.06407232, 3.005305973, 0], [7.627531214, 2.759262235, 1], [5.332441248, 2.088626775, 1], [6.922596716, 1.77106367, 1], [8.675418651, -0.242068655, 1], [7.673756466, 3.508563011, 1]]\n",
      "\n",
      " Number of Inputs :\n",
      " 2\n",
      "\n",
      " Number of Outputs :\n",
      " 2\n"
     ]
    }
   ],
   "source": [
    "seed(2) \n",
    "dataset = [[2.7810836,2.550537003,0],\n",
    "    [1.465489372,2.362125076,0],\n",
    "    [3.396561688,4.400293529,0],\n",
    "    [1.38807019,1.850220317,0],\n",
    "    [3.06407232,3.005305973,0],\n",
    "    [7.627531214,2.759262235,1],\n",
    "    [5.332441248,2.088626775,1],\n",
    "    [6.922596716,1.77106367,1],\n",
    "    [8.675418651,-0.242068655,1],\n",
    "    [7.673756466,3.508563011,1]]\n",
    "\n",
    "print(\"\\n The input Data Set :\\n\",dataset)\n",
    "n_inputs = len(dataset[0]) - 1\n",
    "print(\"\\n Number of Inputs :\\n\",n_inputs)\n",
    "n_outputs = len(set([row[-1] for row in dataset]))\n",
    "print(\"\\n Number of Outputs :\\n\",n_outputs)"
   ]
  },
  {
   "cell_type": "markdown",
   "id": "79854037",
   "metadata": {
    "papermill": {
     "duration": 0.005858,
     "end_time": "2024-11-21T14:29:15.952106",
     "exception": false,
     "start_time": "2024-11-21T14:29:15.946248",
     "status": "completed"
    },
    "tags": []
   },
   "source": [
    "# Network Initialization"
   ]
  },
  {
   "cell_type": "code",
   "execution_count": 11,
   "id": "edee86e6",
   "metadata": {
    "execution": {
     "iopub.execute_input": "2024-11-21T14:29:15.966425Z",
     "iopub.status.busy": "2024-11-21T14:29:15.965530Z",
     "iopub.status.idle": "2024-11-21T14:29:15.970877Z",
     "shell.execute_reply": "2024-11-21T14:29:15.969887Z"
    },
    "papermill": {
     "duration": 0.014753,
     "end_time": "2024-11-21T14:29:15.972901",
     "exception": false,
     "start_time": "2024-11-21T14:29:15.958148",
     "status": "completed"
    },
    "tags": []
   },
   "outputs": [
    {
     "name": "stdout",
     "output_type": "stream",
     "text": [
      "\n",
      " The initialised Neural Network:\n",
      "\n",
      "\n",
      " Layer[1] Node[1]:\n",
      " {'weights': [0.4560342718892494, 0.4478274870593494, -0.4434486322731913]}\n",
      "\n",
      " Layer[1] Node[2]:\n",
      " {'weights': [-0.41512800484107837, 0.33549887812944956, 0.2359699890685233]}\n",
      "\n",
      " Layer[2] Node[1]:\n",
      " {'weights': [0.1697304014402209, -0.1918635424108558, 0.10594416567846243]}\n",
      "\n",
      " Layer[2] Node[2]:\n",
      " {'weights': [0.10680173364083789, 0.08120401711200309, -0.3416171297451944]}\n"
     ]
    }
   ],
   "source": [
    "network = initialize_network(n_inputs, 2, n_outputs)"
   ]
  },
  {
   "cell_type": "markdown",
   "id": "d3cab37e",
   "metadata": {
    "papermill": {
     "duration": 0.007258,
     "end_time": "2024-11-21T14:29:15.986348",
     "exception": false,
     "start_time": "2024-11-21T14:29:15.979090",
     "status": "completed"
    },
    "tags": []
   },
   "source": [
    "# Training the Network"
   ]
  },
  {
   "cell_type": "code",
   "execution_count": 12,
   "id": "0dec335f",
   "metadata": {
    "execution": {
     "iopub.execute_input": "2024-11-21T14:29:16.001918Z",
     "iopub.status.busy": "2024-11-21T14:29:16.001526Z",
     "iopub.status.idle": "2024-11-21T14:29:16.010797Z",
     "shell.execute_reply": "2024-11-21T14:29:16.009726Z"
    },
    "papermill": {
     "duration": 0.019589,
     "end_time": "2024-11-21T14:29:16.013707",
     "exception": false,
     "start_time": "2024-11-21T14:29:15.994118",
     "status": "completed"
    },
    "tags": []
   },
   "outputs": [
    {
     "name": "stdout",
     "output_type": "stream",
     "text": [
      "\n",
      " Network Training Begins:\n",
      "\n",
      ">epoch=0, lrate=0.500, error=5.278\n",
      ">epoch=1, lrate=0.500, error=5.122\n",
      ">epoch=2, lrate=0.500, error=5.006\n",
      ">epoch=3, lrate=0.500, error=4.875\n",
      ">epoch=4, lrate=0.500, error=4.700\n",
      ">epoch=5, lrate=0.500, error=4.466\n",
      ">epoch=6, lrate=0.500, error=4.176\n",
      ">epoch=7, lrate=0.500, error=3.838\n",
      ">epoch=8, lrate=0.500, error=3.469\n",
      ">epoch=9, lrate=0.500, error=3.089\n",
      ">epoch=10, lrate=0.500, error=2.716\n",
      ">epoch=11, lrate=0.500, error=2.367\n",
      ">epoch=12, lrate=0.500, error=2.054\n",
      ">epoch=13, lrate=0.500, error=1.780\n",
      ">epoch=14, lrate=0.500, error=1.546\n",
      ">epoch=15, lrate=0.500, error=1.349\n",
      ">epoch=16, lrate=0.500, error=1.184\n",
      ">epoch=17, lrate=0.500, error=1.045\n",
      ">epoch=18, lrate=0.500, error=0.929\n",
      ">epoch=19, lrate=0.500, error=0.831\n",
      "\n",
      " Network Training Ends:\n",
      "\n",
      "\n",
      " Final Neural Network :\n",
      "\n",
      " Layer[1] Node[1]:\n",
      " {'weights': [0.8642508164347664, -0.8497601716670761, -0.8668929014392035], 'output': 0.9295587965836384, 'delta': 0.005645382825629247}\n",
      "\n",
      " Layer[1] Node[2]:\n",
      " {'weights': [-1.2934302410111027, 1.7109363237151511, 0.7125327507327331], 'output': 0.04760703296164143, 'delta': -0.005928559978815065}\n",
      "\n",
      " Layer[2] Node[1]:\n",
      " {'weights': [-1.3098359335096292, 2.16462207144596, -0.3079052288835877], 'output': 0.1989556395205846, 'delta': -0.03170801648036036}\n",
      "\n",
      " Layer[2] Node[2]:\n",
      " {'weights': [1.5506793402414165, -2.11315950446121, 0.1333585709422027], 'output': 0.8095042653312078, 'delta': 0.029375796661413225}\n"
     ]
    }
   ],
   "source": [
    "train_network(network, dataset, 0.5, 20, n_outputs)\n",
    "\n",
    "\n",
    "print(\"\\n Final Neural Network :\")\n",
    "    \n",
    "i= 1\n",
    "for layer in network:\n",
    "    j=1\n",
    "    for sub in layer:\n",
    "        print(\"\\n Layer[%d] Node[%d]:\\n\" %(i,j),sub)\n",
    "        j=j+1\n",
    "    i=i+1"
   ]
  },
  {
   "cell_type": "markdown",
   "id": "acd57482",
   "metadata": {
    "papermill": {
     "duration": 0.006613,
     "end_time": "2024-11-21T14:29:16.028532",
     "exception": false,
     "start_time": "2024-11-21T14:29:16.021919",
     "status": "completed"
    },
    "tags": []
   },
   "source": [
    "# Predict"
   ]
  },
  {
   "cell_type": "code",
   "execution_count": 13,
   "id": "43370cb8",
   "metadata": {
    "execution": {
     "iopub.execute_input": "2024-11-21T14:29:16.042667Z",
     "iopub.status.busy": "2024-11-21T14:29:16.042256Z",
     "iopub.status.idle": "2024-11-21T14:29:16.047640Z",
     "shell.execute_reply": "2024-11-21T14:29:16.046568Z"
    },
    "papermill": {
     "duration": 0.015018,
     "end_time": "2024-11-21T14:29:16.049816",
     "exception": false,
     "start_time": "2024-11-21T14:29:16.034798",
     "status": "completed"
    },
    "tags": []
   },
   "outputs": [],
   "source": [
    "from math import exp"
   ]
  },
  {
   "cell_type": "code",
   "execution_count": 14,
   "id": "72debefb",
   "metadata": {
    "execution": {
     "iopub.execute_input": "2024-11-21T14:29:16.064409Z",
     "iopub.status.busy": "2024-11-21T14:29:16.064019Z",
     "iopub.status.idle": "2024-11-21T14:29:16.069591Z",
     "shell.execute_reply": "2024-11-21T14:29:16.068607Z"
    },
    "papermill": {
     "duration": 0.015342,
     "end_time": "2024-11-21T14:29:16.071722",
     "exception": false,
     "start_time": "2024-11-21T14:29:16.056380",
     "status": "completed"
    },
    "tags": []
   },
   "outputs": [],
   "source": [
    "def activate(weights, inputs):\n",
    "    activation = weights[-1]\n",
    "    for i in range(len(weights)-1):\n",
    "        activation += weights[i] * inputs[i]\n",
    "    return activation"
   ]
  },
  {
   "cell_type": "markdown",
   "id": "2fce0c60",
   "metadata": {
    "papermill": {
     "duration": 0.006749,
     "end_time": "2024-11-21T14:29:16.085154",
     "exception": false,
     "start_time": "2024-11-21T14:29:16.078405",
     "status": "completed"
    },
    "tags": []
   },
   "source": [
    "# Transfer Neuron Activation"
   ]
  },
  {
   "cell_type": "code",
   "execution_count": 15,
   "id": "31fbc705",
   "metadata": {
    "execution": {
     "iopub.execute_input": "2024-11-21T14:29:16.099420Z",
     "iopub.status.busy": "2024-11-21T14:29:16.099046Z",
     "iopub.status.idle": "2024-11-21T14:29:16.103780Z",
     "shell.execute_reply": "2024-11-21T14:29:16.102833Z"
    },
    "papermill": {
     "duration": 0.014171,
     "end_time": "2024-11-21T14:29:16.105754",
     "exception": false,
     "start_time": "2024-11-21T14:29:16.091583",
     "status": "completed"
    },
    "tags": []
   },
   "outputs": [],
   "source": [
    "def transfer(activation):\n",
    "    return 1.0 / (1.0 + exp(-activation))"
   ]
  },
  {
   "cell_type": "markdown",
   "id": "192c2857",
   "metadata": {
    "papermill": {
     "duration": 0.006064,
     "end_time": "2024-11-21T14:29:16.118484",
     "exception": false,
     "start_time": "2024-11-21T14:29:16.112420",
     "status": "completed"
    },
    "tags": []
   },
   "source": [
    "# Forward propagate input to a network output"
   ]
  },
  {
   "cell_type": "code",
   "execution_count": 16,
   "id": "116ae616",
   "metadata": {
    "execution": {
     "iopub.execute_input": "2024-11-21T14:29:16.132664Z",
     "iopub.status.busy": "2024-11-21T14:29:16.132268Z",
     "iopub.status.idle": "2024-11-21T14:29:16.137645Z",
     "shell.execute_reply": "2024-11-21T14:29:16.136714Z"
    },
    "papermill": {
     "duration": 0.014951,
     "end_time": "2024-11-21T14:29:16.139676",
     "exception": false,
     "start_time": "2024-11-21T14:29:16.124725",
     "status": "completed"
    },
    "tags": []
   },
   "outputs": [],
   "source": [
    "def forward_propagate(network, row):\n",
    "    inputs = row\n",
    "    for layer in network:\n",
    "        new_inputs = []\n",
    "        for neuron in layer:\n",
    "            activation = activate(neuron['weights'], inputs)\n",
    "            neuron['output'] = transfer(activation)\n",
    "            new_inputs.append(neuron['output'])\n",
    "        inputs = new_inputs\n",
    "    return inputs"
   ]
  },
  {
   "cell_type": "markdown",
   "id": "daa9dbae",
   "metadata": {
    "papermill": {
     "duration": 0.006216,
     "end_time": "2024-11-21T14:29:16.152390",
     "exception": false,
     "start_time": "2024-11-21T14:29:16.146174",
     "status": "completed"
    },
    "tags": []
   },
   "source": [
    "# Make a Prediction with a Networkk"
   ]
  },
  {
   "cell_type": "code",
   "execution_count": 17,
   "id": "95e41bd9",
   "metadata": {
    "execution": {
     "iopub.execute_input": "2024-11-21T14:29:16.167287Z",
     "iopub.status.busy": "2024-11-21T14:29:16.166336Z",
     "iopub.status.idle": "2024-11-21T14:29:16.171285Z",
     "shell.execute_reply": "2024-11-21T14:29:16.170330Z"
    },
    "papermill": {
     "duration": 0.014397,
     "end_time": "2024-11-21T14:29:16.173227",
     "exception": false,
     "start_time": "2024-11-21T14:29:16.158830",
     "status": "completed"
    },
    "tags": []
   },
   "outputs": [],
   "source": [
    "def predict(network, row):\n",
    "    outputs = forward_propagate(network, row)\n",
    "    return outputs.index(max(outputs))"
   ]
  },
  {
   "cell_type": "markdown",
   "id": "be184b22",
   "metadata": {
    "papermill": {
     "duration": 0.00614,
     "end_time": "2024-11-21T14:29:16.185759",
     "exception": false,
     "start_time": "2024-11-21T14:29:16.179619",
     "status": "completed"
    },
    "tags": []
   },
   "source": [
    "# Test making predictions with the network"
   ]
  },
  {
   "cell_type": "code",
   "execution_count": 18,
   "id": "064d34f3",
   "metadata": {
    "execution": {
     "iopub.execute_input": "2024-11-21T14:29:16.200151Z",
     "iopub.status.busy": "2024-11-21T14:29:16.199449Z",
     "iopub.status.idle": "2024-11-21T14:29:16.205233Z",
     "shell.execute_reply": "2024-11-21T14:29:16.204275Z"
    },
    "papermill": {
     "duration": 0.015257,
     "end_time": "2024-11-21T14:29:16.207305",
     "exception": false,
     "start_time": "2024-11-21T14:29:16.192048",
     "status": "completed"
    },
    "tags": []
   },
   "outputs": [],
   "source": [
    "dataset = [[2.7810836,2.550537003,0],\n",
    "    [1.465489372,2.362125076,0],\n",
    "    [3.396561688,4.400293529,0],\n",
    "    [1.38807019,1.850220317,0],\n",
    "    [3.06407232,3.005305973,0],\n",
    "    [7.627531214,2.759262235,1],\n",
    "    [5.332441248,2.088626775,1],\n",
    "    [6.922596716,1.77106367,1],\n",
    "    [8.675418651,-0.242068655,1],\n",
    "    [7.673756466,3.508563011,1]]"
   ]
  },
  {
   "cell_type": "code",
   "execution_count": 19,
   "id": "5ad2b816",
   "metadata": {
    "execution": {
     "iopub.execute_input": "2024-11-21T14:29:16.222347Z",
     "iopub.status.busy": "2024-11-21T14:29:16.221391Z",
     "iopub.status.idle": "2024-11-21T14:29:16.227013Z",
     "shell.execute_reply": "2024-11-21T14:29:16.225898Z"
    },
    "papermill": {
     "duration": 0.015406,
     "end_time": "2024-11-21T14:29:16.229297",
     "exception": false,
     "start_time": "2024-11-21T14:29:16.213891",
     "status": "completed"
    },
    "tags": []
   },
   "outputs": [
    {
     "name": "stdout",
     "output_type": "stream",
     "text": [
      "Expected=0, Got=0\n",
      "Expected=0, Got=0\n",
      "Expected=0, Got=0\n",
      "Expected=0, Got=0\n",
      "Expected=0, Got=0\n",
      "Expected=1, Got=1\n",
      "Expected=1, Got=1\n",
      "Expected=1, Got=1\n",
      "Expected=1, Got=1\n",
      "Expected=1, Got=1\n"
     ]
    }
   ],
   "source": [
    "for row in dataset:\n",
    "    prediction = predict(network, row)\n",
    "    print('Expected=%d, Got=%d' % (row[-1], prediction))"
   ]
  }
 ],
 "metadata": {
  "kaggle": {
   "accelerator": "none",
   "dataSources": [],
   "dockerImageVersionId": 30786,
   "isGpuEnabled": false,
   "isInternetEnabled": true,
   "language": "python",
   "sourceType": "notebook"
  },
  "kernelspec": {
   "display_name": "Python 3",
   "language": "python",
   "name": "python3"
  },
  "language_info": {
   "codemirror_mode": {
    "name": "ipython",
    "version": 3
   },
   "file_extension": ".py",
   "mimetype": "text/x-python",
   "name": "python",
   "nbconvert_exporter": "python",
   "pygments_lexer": "ipython3",
   "version": "3.10.14"
  },
  "papermill": {
   "default_parameters": {},
   "duration": 3.567244,
   "end_time": "2024-11-21T14:29:16.554576",
   "environment_variables": {},
   "exception": null,
   "input_path": "__notebook__.ipynb",
   "output_path": "__notebook__.ipynb",
   "parameters": {},
   "start_time": "2024-11-21T14:29:12.987332",
   "version": "2.6.0"
  }
 },
 "nbformat": 4,
 "nbformat_minor": 5
}
