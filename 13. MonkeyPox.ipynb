{
 "cells": [
  {
   "cell_type": "code",
   "execution_count": 1,
   "id": "c90dd385",
   "metadata": {
    "execution": {
     "iopub.execute_input": "2025-02-09T15:18:28.798012Z",
     "iopub.status.busy": "2025-02-09T15:18:28.797599Z",
     "iopub.status.idle": "2025-02-09T15:18:31.592737Z",
     "shell.execute_reply": "2025-02-09T15:18:31.591895Z"
    },
    "papermill": {
     "duration": 2.803621,
     "end_time": "2025-02-09T15:18:31.594598",
     "exception": false,
     "start_time": "2025-02-09T15:18:28.790977",
     "status": "completed"
    },
    "tags": []
   },
   "outputs": [],
   "source": [
    "import pandas as pd\n",
    "import numpy as np\n",
    "from sklearn.model_selection import train_test_split\n",
    "from sklearn.preprocessing import StandardScaler, LabelEncoder\n",
    "from sklearn.ensemble import RandomForestClassifier\n",
    "from sklearn.metrics import accuracy_score\n",
    "from sklearn.model_selection import GridSearchCV\n",
    "from sklearn.ensemble import GradientBoostingClassifier"
   ]
  },
  {
   "cell_type": "markdown",
   "id": "28daf552",
   "metadata": {
    "papermill": {
     "duration": 0.0046,
     "end_time": "2025-02-09T15:18:31.604528",
     "exception": false,
     "start_time": "2025-02-09T15:18:31.599928",
     "status": "completed"
    },
    "tags": []
   },
   "source": [
    "**Load the dataset**"
   ]
  },
  {
   "cell_type": "code",
   "execution_count": 2,
   "id": "3e6acd61",
   "metadata": {
    "execution": {
     "iopub.execute_input": "2025-02-09T15:18:31.615691Z",
     "iopub.status.busy": "2025-02-09T15:18:31.615134Z",
     "iopub.status.idle": "2025-02-09T15:18:31.665041Z",
     "shell.execute_reply": "2025-02-09T15:18:31.663917Z"
    },
    "papermill": {
     "duration": 0.057739,
     "end_time": "2025-02-09T15:18:31.667056",
     "exception": false,
     "start_time": "2025-02-09T15:18:31.609317",
     "status": "completed"
    },
    "tags": []
   },
   "outputs": [],
   "source": [
    "file_path = \"/kaggle/input/dataset-monkeypox/MonkeyPox.csv\"  \n",
    "df = pd.read_csv(file_path)"
   ]
  },
  {
   "cell_type": "markdown",
   "id": "f64cd512",
   "metadata": {
    "papermill": {
     "duration": 0.004672,
     "end_time": "2025-02-09T15:18:31.677011",
     "exception": false,
     "start_time": "2025-02-09T15:18:31.672339",
     "status": "completed"
    },
    "tags": []
   },
   "source": [
    "**Display basic information**"
   ]
  },
  {
   "cell_type": "code",
   "execution_count": 3,
   "id": "aa275c2e",
   "metadata": {
    "execution": {
     "iopub.execute_input": "2025-02-09T15:18:31.688446Z",
     "iopub.status.busy": "2025-02-09T15:18:31.688061Z",
     "iopub.status.idle": "2025-02-09T15:18:31.712470Z",
     "shell.execute_reply": "2025-02-09T15:18:31.711342Z"
    },
    "papermill": {
     "duration": 0.032489,
     "end_time": "2025-02-09T15:18:31.714417",
     "exception": false,
     "start_time": "2025-02-09T15:18:31.681928",
     "status": "completed"
    },
    "tags": []
   },
   "outputs": [
    {
     "data": {
      "text/html": [
       "<div>\n",
       "<style scoped>\n",
       "    .dataframe tbody tr th:only-of-type {\n",
       "        vertical-align: middle;\n",
       "    }\n",
       "\n",
       "    .dataframe tbody tr th {\n",
       "        vertical-align: top;\n",
       "    }\n",
       "\n",
       "    .dataframe thead th {\n",
       "        text-align: right;\n",
       "    }\n",
       "</style>\n",
       "<table border=\"1\" class=\"dataframe\">\n",
       "  <thead>\n",
       "    <tr style=\"text-align: right;\">\n",
       "      <th></th>\n",
       "      <th>Systemic Illness</th>\n",
       "      <th>Rectal Pain</th>\n",
       "      <th>Sore Throat</th>\n",
       "      <th>Penile Oedema</th>\n",
       "      <th>Oral Lesions</th>\n",
       "      <th>Solitary Lesion</th>\n",
       "      <th>Swollen Tonsils</th>\n",
       "      <th>HIV Infection</th>\n",
       "      <th>Sexually Transmitted Infection</th>\n",
       "      <th>MonkeyPox</th>\n",
       "    </tr>\n",
       "  </thead>\n",
       "  <tbody>\n",
       "    <tr>\n",
       "      <th>0</th>\n",
       "      <td>1</td>\n",
       "      <td>0</td>\n",
       "      <td>1</td>\n",
       "      <td>1</td>\n",
       "      <td>1</td>\n",
       "      <td>0</td>\n",
       "      <td>1</td>\n",
       "      <td>0</td>\n",
       "      <td>0</td>\n",
       "      <td>0</td>\n",
       "    </tr>\n",
       "    <tr>\n",
       "      <th>1</th>\n",
       "      <td>2</td>\n",
       "      <td>1</td>\n",
       "      <td>0</td>\n",
       "      <td>1</td>\n",
       "      <td>1</td>\n",
       "      <td>0</td>\n",
       "      <td>0</td>\n",
       "      <td>1</td>\n",
       "      <td>0</td>\n",
       "      <td>1</td>\n",
       "    </tr>\n",
       "    <tr>\n",
       "      <th>2</th>\n",
       "      <td>2</td>\n",
       "      <td>0</td>\n",
       "      <td>1</td>\n",
       "      <td>1</td>\n",
       "      <td>0</td>\n",
       "      <td>0</td>\n",
       "      <td>0</td>\n",
       "      <td>1</td>\n",
       "      <td>0</td>\n",
       "      <td>1</td>\n",
       "    </tr>\n",
       "    <tr>\n",
       "      <th>3</th>\n",
       "      <td>1</td>\n",
       "      <td>1</td>\n",
       "      <td>0</td>\n",
       "      <td>0</td>\n",
       "      <td>0</td>\n",
       "      <td>1</td>\n",
       "      <td>1</td>\n",
       "      <td>1</td>\n",
       "      <td>0</td>\n",
       "      <td>1</td>\n",
       "    </tr>\n",
       "    <tr>\n",
       "      <th>4</th>\n",
       "      <td>3</td>\n",
       "      <td>1</td>\n",
       "      <td>1</td>\n",
       "      <td>1</td>\n",
       "      <td>0</td>\n",
       "      <td>0</td>\n",
       "      <td>1</td>\n",
       "      <td>1</td>\n",
       "      <td>0</td>\n",
       "      <td>1</td>\n",
       "    </tr>\n",
       "  </tbody>\n",
       "</table>\n",
       "</div>"
      ],
      "text/plain": [
       "   Systemic Illness  Rectal Pain  Sore Throat  Penile Oedema  Oral Lesions  \\\n",
       "0                 1            0            1              1             1   \n",
       "1                 2            1            0              1             1   \n",
       "2                 2            0            1              1             0   \n",
       "3                 1            1            0              0             0   \n",
       "4                 3            1            1              1             0   \n",
       "\n",
       "   Solitary Lesion  Swollen Tonsils  HIV Infection  \\\n",
       "0                0                1              0   \n",
       "1                0                0              1   \n",
       "2                0                0              1   \n",
       "3                1                1              1   \n",
       "4                0                1              1   \n",
       "\n",
       "   Sexually Transmitted Infection  MonkeyPox  \n",
       "0                               0          0  \n",
       "1                               0          1  \n",
       "2                               0          1  \n",
       "3                               0          1  \n",
       "4                               0          1  "
      ]
     },
     "metadata": {},
     "output_type": "display_data"
    }
   ],
   "source": [
    "display(df.head()) "
   ]
  },
  {
   "cell_type": "code",
   "execution_count": 4,
   "id": "b7e4f7c7",
   "metadata": {
    "execution": {
     "iopub.execute_input": "2025-02-09T15:18:31.726251Z",
     "iopub.status.busy": "2025-02-09T15:18:31.725837Z",
     "iopub.status.idle": "2025-02-09T15:18:31.755043Z",
     "shell.execute_reply": "2025-02-09T15:18:31.753486Z"
    },
    "papermill": {
     "duration": 0.037686,
     "end_time": "2025-02-09T15:18:31.757360",
     "exception": false,
     "start_time": "2025-02-09T15:18:31.719674",
     "status": "completed"
    },
    "tags": []
   },
   "outputs": [
    {
     "name": "stdout",
     "output_type": "stream",
     "text": [
      "<class 'pandas.core.frame.DataFrame'>\n",
      "RangeIndex: 25000 entries, 0 to 24999\n",
      "Data columns (total 10 columns):\n",
      " #   Column                          Non-Null Count  Dtype\n",
      "---  ------                          --------------  -----\n",
      " 0   Systemic Illness                25000 non-null  int64\n",
      " 1   Rectal Pain                     25000 non-null  int64\n",
      " 2   Sore Throat                     25000 non-null  int64\n",
      " 3   Penile Oedema                   25000 non-null  int64\n",
      " 4   Oral Lesions                    25000 non-null  int64\n",
      " 5   Solitary Lesion                 25000 non-null  int64\n",
      " 6   Swollen Tonsils                 25000 non-null  int64\n",
      " 7   HIV Infection                   25000 non-null  int64\n",
      " 8   Sexually Transmitted Infection  25000 non-null  int64\n",
      " 9   MonkeyPox                       25000 non-null  int64\n",
      "dtypes: int64(10)\n",
      "memory usage: 1.9 MB\n",
      "None\n"
     ]
    }
   ],
   "source": [
    "print(df.info())"
   ]
  },
  {
   "cell_type": "code",
   "execution_count": 5,
   "id": "de8e313c",
   "metadata": {
    "execution": {
     "iopub.execute_input": "2025-02-09T15:18:31.770180Z",
     "iopub.status.busy": "2025-02-09T15:18:31.769767Z",
     "iopub.status.idle": "2025-02-09T15:18:31.778769Z",
     "shell.execute_reply": "2025-02-09T15:18:31.777688Z"
    },
    "papermill": {
     "duration": 0.017204,
     "end_time": "2025-02-09T15:18:31.780446",
     "exception": false,
     "start_time": "2025-02-09T15:18:31.763242",
     "status": "completed"
    },
    "tags": []
   },
   "outputs": [
    {
     "name": "stdout",
     "output_type": "stream",
     "text": [
      "Systemic Illness                  0\n",
      "Rectal Pain                       0\n",
      "Sore Throat                       0\n",
      "Penile Oedema                     0\n",
      "Oral Lesions                      0\n",
      "Solitary Lesion                   0\n",
      "Swollen Tonsils                   0\n",
      "HIV Infection                     0\n",
      "Sexually Transmitted Infection    0\n",
      "MonkeyPox                         0\n",
      "dtype: int64\n"
     ]
    }
   ],
   "source": [
    "print(df.isnull().sum())"
   ]
  },
  {
   "cell_type": "code",
   "execution_count": 6,
   "id": "3bf889cd",
   "metadata": {
    "execution": {
     "iopub.execute_input": "2025-02-09T15:18:31.792647Z",
     "iopub.status.busy": "2025-02-09T15:18:31.792266Z",
     "iopub.status.idle": "2025-02-09T15:18:31.800279Z",
     "shell.execute_reply": "2025-02-09T15:18:31.798929Z"
    },
    "papermill": {
     "duration": 0.016194,
     "end_time": "2025-02-09T15:18:31.802290",
     "exception": false,
     "start_time": "2025-02-09T15:18:31.786096",
     "status": "completed"
    },
    "tags": []
   },
   "outputs": [
    {
     "name": "stdout",
     "output_type": "stream",
     "text": [
      "MonkeyPox\n",
      "1    15909\n",
      "0     9091\n",
      "Name: count, dtype: int64\n"
     ]
    }
   ],
   "source": [
    "print(df['MonkeyPox'].value_counts()) "
   ]
  },
  {
   "cell_type": "markdown",
   "id": "8c530ee0",
   "metadata": {
    "papermill": {
     "duration": 0.005071,
     "end_time": "2025-02-09T15:18:31.812914",
     "exception": false,
     "start_time": "2025-02-09T15:18:31.807843",
     "status": "completed"
    },
    "tags": []
   },
   "source": [
    "**Handle missing values**"
   ]
  },
  {
   "cell_type": "code",
   "execution_count": 7,
   "id": "7c2a024b",
   "metadata": {
    "execution": {
     "iopub.execute_input": "2025-02-09T15:18:31.824601Z",
     "iopub.status.busy": "2025-02-09T15:18:31.824225Z",
     "iopub.status.idle": "2025-02-09T15:18:31.832580Z",
     "shell.execute_reply": "2025-02-09T15:18:31.831317Z"
    },
    "papermill": {
     "duration": 0.01649,
     "end_time": "2025-02-09T15:18:31.834629",
     "exception": false,
     "start_time": "2025-02-09T15:18:31.818139",
     "status": "completed"
    },
    "tags": []
   },
   "outputs": [],
   "source": [
    "df = df.dropna()"
   ]
  },
  {
   "cell_type": "markdown",
   "id": "1c1b8f77",
   "metadata": {
    "papermill": {
     "duration": 0.005251,
     "end_time": "2025-02-09T15:18:31.845732",
     "exception": false,
     "start_time": "2025-02-09T15:18:31.840481",
     "status": "completed"
    },
    "tags": []
   },
   "source": [
    "**Encode categorical columns (if any)**"
   ]
  },
  {
   "cell_type": "code",
   "execution_count": 8,
   "id": "0c1be321",
   "metadata": {
    "execution": {
     "iopub.execute_input": "2025-02-09T15:18:31.857622Z",
     "iopub.status.busy": "2025-02-09T15:18:31.857215Z",
     "iopub.status.idle": "2025-02-09T15:18:31.862369Z",
     "shell.execute_reply": "2025-02-09T15:18:31.861318Z"
    },
    "papermill": {
     "duration": 0.012951,
     "end_time": "2025-02-09T15:18:31.864024",
     "exception": false,
     "start_time": "2025-02-09T15:18:31.851073",
     "status": "completed"
    },
    "tags": []
   },
   "outputs": [],
   "source": [
    "categorical_columns = df.select_dtypes(include=['object']).columns\n",
    "encoder = LabelEncoder()\n",
    "for col in categorical_columns:\n",
    "    df[col] = encoder.fit_transform(df[col])"
   ]
  },
  {
   "cell_type": "markdown",
   "id": "271e20f9",
   "metadata": {
    "papermill": {
     "duration": 0.00517,
     "end_time": "2025-02-09T15:18:31.874771",
     "exception": false,
     "start_time": "2025-02-09T15:18:31.869601",
     "status": "completed"
    },
    "tags": []
   },
   "source": [
    "**Define features and target**"
   ]
  },
  {
   "cell_type": "code",
   "execution_count": 9,
   "id": "5539ea60",
   "metadata": {
    "execution": {
     "iopub.execute_input": "2025-02-09T15:18:31.886703Z",
     "iopub.status.busy": "2025-02-09T15:18:31.886312Z",
     "iopub.status.idle": "2025-02-09T15:18:31.893346Z",
     "shell.execute_reply": "2025-02-09T15:18:31.892223Z"
    },
    "papermill": {
     "duration": 0.01471,
     "end_time": "2025-02-09T15:18:31.894898",
     "exception": false,
     "start_time": "2025-02-09T15:18:31.880188",
     "status": "completed"
    },
    "tags": []
   },
   "outputs": [],
   "source": [
    "X = df.drop(columns=['MonkeyPox'])  \n",
    "y = df['MonkeyPox']"
   ]
  },
  {
   "cell_type": "markdown",
   "id": "28fd87be",
   "metadata": {
    "papermill": {
     "duration": 0.005163,
     "end_time": "2025-02-09T15:18:31.905376",
     "exception": false,
     "start_time": "2025-02-09T15:18:31.900213",
     "status": "completed"
    },
    "tags": []
   },
   "source": [
    "**Split data (90% train, 10% test)**"
   ]
  },
  {
   "cell_type": "code",
   "execution_count": 10,
   "id": "8c119ca7",
   "metadata": {
    "execution": {
     "iopub.execute_input": "2025-02-09T15:18:31.917340Z",
     "iopub.status.busy": "2025-02-09T15:18:31.916936Z",
     "iopub.status.idle": "2025-02-09T15:18:31.929676Z",
     "shell.execute_reply": "2025-02-09T15:18:31.928540Z"
    },
    "papermill": {
     "duration": 0.021181,
     "end_time": "2025-02-09T15:18:31.931866",
     "exception": false,
     "start_time": "2025-02-09T15:18:31.910685",
     "status": "completed"
    },
    "tags": []
   },
   "outputs": [],
   "source": [
    "X_train, X_test, y_train, y_test = train_test_split(X, y, test_size=0.10, random_state=42)"
   ]
  },
  {
   "cell_type": "markdown",
   "id": "01367563",
   "metadata": {
    "papermill": {
     "duration": 0.005229,
     "end_time": "2025-02-09T15:18:31.942493",
     "exception": false,
     "start_time": "2025-02-09T15:18:31.937264",
     "status": "completed"
    },
    "tags": []
   },
   "source": [
    "**Feature Scaling**"
   ]
  },
  {
   "cell_type": "code",
   "execution_count": 11,
   "id": "58aebb81",
   "metadata": {
    "execution": {
     "iopub.execute_input": "2025-02-09T15:18:31.954500Z",
     "iopub.status.busy": "2025-02-09T15:18:31.954112Z",
     "iopub.status.idle": "2025-02-09T15:18:31.991447Z",
     "shell.execute_reply": "2025-02-09T15:18:31.990293Z"
    },
    "papermill": {
     "duration": 0.045381,
     "end_time": "2025-02-09T15:18:31.993294",
     "exception": false,
     "start_time": "2025-02-09T15:18:31.947913",
     "status": "completed"
    },
    "tags": []
   },
   "outputs": [],
   "source": [
    "scaler = StandardScaler()\n",
    "X_train = scaler.fit_transform(X_train)\n",
    "X_test = scaler.transform(X_test)"
   ]
  },
  {
   "cell_type": "markdown",
   "id": "820be57b",
   "metadata": {
    "papermill": {
     "duration": 0.006243,
     "end_time": "2025-02-09T15:18:32.006546",
     "exception": false,
     "start_time": "2025-02-09T15:18:32.000303",
     "status": "completed"
    },
    "tags": []
   },
   "source": [
    "**Train RandomForestClassifier**"
   ]
  },
  {
   "cell_type": "code",
   "execution_count": 12,
   "id": "648f9d12",
   "metadata": {
    "execution": {
     "iopub.execute_input": "2025-02-09T15:18:32.018773Z",
     "iopub.status.busy": "2025-02-09T15:18:32.018398Z",
     "iopub.status.idle": "2025-02-09T15:18:33.082192Z",
     "shell.execute_reply": "2025-02-09T15:18:33.081163Z"
    },
    "papermill": {
     "duration": 1.071752,
     "end_time": "2025-02-09T15:18:33.083886",
     "exception": false,
     "start_time": "2025-02-09T15:18:32.012134",
     "status": "completed"
    },
    "tags": []
   },
   "outputs": [
    {
     "data": {
      "text/html": [
       "<style>#sk-container-id-1 {color: black;background-color: white;}#sk-container-id-1 pre{padding: 0;}#sk-container-id-1 div.sk-toggleable {background-color: white;}#sk-container-id-1 label.sk-toggleable__label {cursor: pointer;display: block;width: 100%;margin-bottom: 0;padding: 0.3em;box-sizing: border-box;text-align: center;}#sk-container-id-1 label.sk-toggleable__label-arrow:before {content: \"▸\";float: left;margin-right: 0.25em;color: #696969;}#sk-container-id-1 label.sk-toggleable__label-arrow:hover:before {color: black;}#sk-container-id-1 div.sk-estimator:hover label.sk-toggleable__label-arrow:before {color: black;}#sk-container-id-1 div.sk-toggleable__content {max-height: 0;max-width: 0;overflow: hidden;text-align: left;background-color: #f0f8ff;}#sk-container-id-1 div.sk-toggleable__content pre {margin: 0.2em;color: black;border-radius: 0.25em;background-color: #f0f8ff;}#sk-container-id-1 input.sk-toggleable__control:checked~div.sk-toggleable__content {max-height: 200px;max-width: 100%;overflow: auto;}#sk-container-id-1 input.sk-toggleable__control:checked~label.sk-toggleable__label-arrow:before {content: \"▾\";}#sk-container-id-1 div.sk-estimator input.sk-toggleable__control:checked~label.sk-toggleable__label {background-color: #d4ebff;}#sk-container-id-1 div.sk-label input.sk-toggleable__control:checked~label.sk-toggleable__label {background-color: #d4ebff;}#sk-container-id-1 input.sk-hidden--visually {border: 0;clip: rect(1px 1px 1px 1px);clip: rect(1px, 1px, 1px, 1px);height: 1px;margin: -1px;overflow: hidden;padding: 0;position: absolute;width: 1px;}#sk-container-id-1 div.sk-estimator {font-family: monospace;background-color: #f0f8ff;border: 1px dotted black;border-radius: 0.25em;box-sizing: border-box;margin-bottom: 0.5em;}#sk-container-id-1 div.sk-estimator:hover {background-color: #d4ebff;}#sk-container-id-1 div.sk-parallel-item::after {content: \"\";width: 100%;border-bottom: 1px solid gray;flex-grow: 1;}#sk-container-id-1 div.sk-label:hover label.sk-toggleable__label {background-color: #d4ebff;}#sk-container-id-1 div.sk-serial::before {content: \"\";position: absolute;border-left: 1px solid gray;box-sizing: border-box;top: 0;bottom: 0;left: 50%;z-index: 0;}#sk-container-id-1 div.sk-serial {display: flex;flex-direction: column;align-items: center;background-color: white;padding-right: 0.2em;padding-left: 0.2em;position: relative;}#sk-container-id-1 div.sk-item {position: relative;z-index: 1;}#sk-container-id-1 div.sk-parallel {display: flex;align-items: stretch;justify-content: center;background-color: white;position: relative;}#sk-container-id-1 div.sk-item::before, #sk-container-id-1 div.sk-parallel-item::before {content: \"\";position: absolute;border-left: 1px solid gray;box-sizing: border-box;top: 0;bottom: 0;left: 50%;z-index: -1;}#sk-container-id-1 div.sk-parallel-item {display: flex;flex-direction: column;z-index: 1;position: relative;background-color: white;}#sk-container-id-1 div.sk-parallel-item:first-child::after {align-self: flex-end;width: 50%;}#sk-container-id-1 div.sk-parallel-item:last-child::after {align-self: flex-start;width: 50%;}#sk-container-id-1 div.sk-parallel-item:only-child::after {width: 0;}#sk-container-id-1 div.sk-dashed-wrapped {border: 1px dashed gray;margin: 0 0.4em 0.5em 0.4em;box-sizing: border-box;padding-bottom: 0.4em;background-color: white;}#sk-container-id-1 div.sk-label label {font-family: monospace;font-weight: bold;display: inline-block;line-height: 1.2em;}#sk-container-id-1 div.sk-label-container {text-align: center;}#sk-container-id-1 div.sk-container {/* jupyter's `normalize.less` sets `[hidden] { display: none; }` but bootstrap.min.css set `[hidden] { display: none !important; }` so we also need the `!important` here to be able to override the default hidden behavior on the sphinx rendered scikit-learn.org. See: https://github.com/scikit-learn/scikit-learn/issues/21755 */display: inline-block !important;position: relative;}#sk-container-id-1 div.sk-text-repr-fallback {display: none;}</style><div id=\"sk-container-id-1\" class=\"sk-top-container\"><div class=\"sk-text-repr-fallback\"><pre>RandomForestClassifier(random_state=42)</pre><b>In a Jupyter environment, please rerun this cell to show the HTML representation or trust the notebook. <br />On GitHub, the HTML representation is unable to render, please try loading this page with nbviewer.org.</b></div><div class=\"sk-container\" hidden><div class=\"sk-item\"><div class=\"sk-estimator sk-toggleable\"><input class=\"sk-toggleable__control sk-hidden--visually\" id=\"sk-estimator-id-1\" type=\"checkbox\" checked><label for=\"sk-estimator-id-1\" class=\"sk-toggleable__label sk-toggleable__label-arrow\">RandomForestClassifier</label><div class=\"sk-toggleable__content\"><pre>RandomForestClassifier(random_state=42)</pre></div></div></div></div></div>"
      ],
      "text/plain": [
       "RandomForestClassifier(random_state=42)"
      ]
     },
     "execution_count": 12,
     "metadata": {},
     "output_type": "execute_result"
    }
   ],
   "source": [
    "model = RandomForestClassifier(n_estimators=100, random_state=42)\n",
    "model.fit(X_train, y_train)"
   ]
  },
  {
   "cell_type": "markdown",
   "id": "e9542cd2",
   "metadata": {
    "papermill": {
     "duration": 0.005507,
     "end_time": "2025-02-09T15:18:33.095119",
     "exception": false,
     "start_time": "2025-02-09T15:18:33.089612",
     "status": "completed"
    },
    "tags": []
   },
   "source": [
    "**Predict and evaluate**"
   ]
  },
  {
   "cell_type": "code",
   "execution_count": 13,
   "id": "0735ae3b",
   "metadata": {
    "execution": {
     "iopub.execute_input": "2025-02-09T15:18:33.108095Z",
     "iopub.status.busy": "2025-02-09T15:18:33.107507Z",
     "iopub.status.idle": "2025-02-09T15:18:33.165530Z",
     "shell.execute_reply": "2025-02-09T15:18:33.164480Z"
    },
    "papermill": {
     "duration": 0.066214,
     "end_time": "2025-02-09T15:18:33.167160",
     "exception": false,
     "start_time": "2025-02-09T15:18:33.100946",
     "status": "completed"
    },
    "tags": []
   },
   "outputs": [
    {
     "name": "stdout",
     "output_type": "stream",
     "text": [
      "Test Accuracy: 68.76%\n"
     ]
    }
   ],
   "source": [
    "y_pred = model.predict(X_test)\n",
    "accuracy = accuracy_score(y_test, y_pred)\n",
    "print(f\"Test Accuracy: {accuracy * 100:.2f}%\")"
   ]
  },
  {
   "cell_type": "markdown",
   "id": "7503ff12",
   "metadata": {
    "papermill": {
     "duration": 0.005478,
     "end_time": "2025-02-09T15:18:33.178419",
     "exception": false,
     "start_time": "2025-02-09T15:18:33.172941",
     "status": "completed"
    },
    "tags": []
   },
   "source": [
    "**Hyperparameter Tuning**"
   ]
  },
  {
   "cell_type": "code",
   "execution_count": 14,
   "id": "92dba83b",
   "metadata": {
    "execution": {
     "iopub.execute_input": "2025-02-09T15:18:33.190803Z",
     "iopub.status.busy": "2025-02-09T15:18:33.190448Z",
     "iopub.status.idle": "2025-02-09T15:24:14.858354Z",
     "shell.execute_reply": "2025-02-09T15:24:14.857286Z"
    },
    "papermill": {
     "duration": 341.68182,
     "end_time": "2025-02-09T15:24:14.865846",
     "exception": false,
     "start_time": "2025-02-09T15:18:33.184026",
     "status": "completed"
    },
    "tags": []
   },
   "outputs": [
    {
     "data": {
      "text/html": [
       "<style>#sk-container-id-2 {color: black;background-color: white;}#sk-container-id-2 pre{padding: 0;}#sk-container-id-2 div.sk-toggleable {background-color: white;}#sk-container-id-2 label.sk-toggleable__label {cursor: pointer;display: block;width: 100%;margin-bottom: 0;padding: 0.3em;box-sizing: border-box;text-align: center;}#sk-container-id-2 label.sk-toggleable__label-arrow:before {content: \"▸\";float: left;margin-right: 0.25em;color: #696969;}#sk-container-id-2 label.sk-toggleable__label-arrow:hover:before {color: black;}#sk-container-id-2 div.sk-estimator:hover label.sk-toggleable__label-arrow:before {color: black;}#sk-container-id-2 div.sk-toggleable__content {max-height: 0;max-width: 0;overflow: hidden;text-align: left;background-color: #f0f8ff;}#sk-container-id-2 div.sk-toggleable__content pre {margin: 0.2em;color: black;border-radius: 0.25em;background-color: #f0f8ff;}#sk-container-id-2 input.sk-toggleable__control:checked~div.sk-toggleable__content {max-height: 200px;max-width: 100%;overflow: auto;}#sk-container-id-2 input.sk-toggleable__control:checked~label.sk-toggleable__label-arrow:before {content: \"▾\";}#sk-container-id-2 div.sk-estimator input.sk-toggleable__control:checked~label.sk-toggleable__label {background-color: #d4ebff;}#sk-container-id-2 div.sk-label input.sk-toggleable__control:checked~label.sk-toggleable__label {background-color: #d4ebff;}#sk-container-id-2 input.sk-hidden--visually {border: 0;clip: rect(1px 1px 1px 1px);clip: rect(1px, 1px, 1px, 1px);height: 1px;margin: -1px;overflow: hidden;padding: 0;position: absolute;width: 1px;}#sk-container-id-2 div.sk-estimator {font-family: monospace;background-color: #f0f8ff;border: 1px dotted black;border-radius: 0.25em;box-sizing: border-box;margin-bottom: 0.5em;}#sk-container-id-2 div.sk-estimator:hover {background-color: #d4ebff;}#sk-container-id-2 div.sk-parallel-item::after {content: \"\";width: 100%;border-bottom: 1px solid gray;flex-grow: 1;}#sk-container-id-2 div.sk-label:hover label.sk-toggleable__label {background-color: #d4ebff;}#sk-container-id-2 div.sk-serial::before {content: \"\";position: absolute;border-left: 1px solid gray;box-sizing: border-box;top: 0;bottom: 0;left: 50%;z-index: 0;}#sk-container-id-2 div.sk-serial {display: flex;flex-direction: column;align-items: center;background-color: white;padding-right: 0.2em;padding-left: 0.2em;position: relative;}#sk-container-id-2 div.sk-item {position: relative;z-index: 1;}#sk-container-id-2 div.sk-parallel {display: flex;align-items: stretch;justify-content: center;background-color: white;position: relative;}#sk-container-id-2 div.sk-item::before, #sk-container-id-2 div.sk-parallel-item::before {content: \"\";position: absolute;border-left: 1px solid gray;box-sizing: border-box;top: 0;bottom: 0;left: 50%;z-index: -1;}#sk-container-id-2 div.sk-parallel-item {display: flex;flex-direction: column;z-index: 1;position: relative;background-color: white;}#sk-container-id-2 div.sk-parallel-item:first-child::after {align-self: flex-end;width: 50%;}#sk-container-id-2 div.sk-parallel-item:last-child::after {align-self: flex-start;width: 50%;}#sk-container-id-2 div.sk-parallel-item:only-child::after {width: 0;}#sk-container-id-2 div.sk-dashed-wrapped {border: 1px dashed gray;margin: 0 0.4em 0.5em 0.4em;box-sizing: border-box;padding-bottom: 0.4em;background-color: white;}#sk-container-id-2 div.sk-label label {font-family: monospace;font-weight: bold;display: inline-block;line-height: 1.2em;}#sk-container-id-2 div.sk-label-container {text-align: center;}#sk-container-id-2 div.sk-container {/* jupyter's `normalize.less` sets `[hidden] { display: none; }` but bootstrap.min.css set `[hidden] { display: none !important; }` so we also need the `!important` here to be able to override the default hidden behavior on the sphinx rendered scikit-learn.org. See: https://github.com/scikit-learn/scikit-learn/issues/21755 */display: inline-block !important;position: relative;}#sk-container-id-2 div.sk-text-repr-fallback {display: none;}</style><div id=\"sk-container-id-2\" class=\"sk-top-container\"><div class=\"sk-text-repr-fallback\"><pre>GridSearchCV(cv=5, estimator=RandomForestClassifier(random_state=42),\n",
       "             param_grid={&#x27;max_depth&#x27;: [None, 10, 20, 30],\n",
       "                         &#x27;min_samples_split&#x27;: [2, 5, 10],\n",
       "                         &#x27;n_estimators&#x27;: [100, 200, 300]})</pre><b>In a Jupyter environment, please rerun this cell to show the HTML representation or trust the notebook. <br />On GitHub, the HTML representation is unable to render, please try loading this page with nbviewer.org.</b></div><div class=\"sk-container\" hidden><div class=\"sk-item sk-dashed-wrapped\"><div class=\"sk-label-container\"><div class=\"sk-label sk-toggleable\"><input class=\"sk-toggleable__control sk-hidden--visually\" id=\"sk-estimator-id-2\" type=\"checkbox\" ><label for=\"sk-estimator-id-2\" class=\"sk-toggleable__label sk-toggleable__label-arrow\">GridSearchCV</label><div class=\"sk-toggleable__content\"><pre>GridSearchCV(cv=5, estimator=RandomForestClassifier(random_state=42),\n",
       "             param_grid={&#x27;max_depth&#x27;: [None, 10, 20, 30],\n",
       "                         &#x27;min_samples_split&#x27;: [2, 5, 10],\n",
       "                         &#x27;n_estimators&#x27;: [100, 200, 300]})</pre></div></div></div><div class=\"sk-parallel\"><div class=\"sk-parallel-item\"><div class=\"sk-item\"><div class=\"sk-label-container\"><div class=\"sk-label sk-toggleable\"><input class=\"sk-toggleable__control sk-hidden--visually\" id=\"sk-estimator-id-3\" type=\"checkbox\" ><label for=\"sk-estimator-id-3\" class=\"sk-toggleable__label sk-toggleable__label-arrow\">estimator: RandomForestClassifier</label><div class=\"sk-toggleable__content\"><pre>RandomForestClassifier(random_state=42)</pre></div></div></div><div class=\"sk-serial\"><div class=\"sk-item\"><div class=\"sk-estimator sk-toggleable\"><input class=\"sk-toggleable__control sk-hidden--visually\" id=\"sk-estimator-id-4\" type=\"checkbox\" ><label for=\"sk-estimator-id-4\" class=\"sk-toggleable__label sk-toggleable__label-arrow\">RandomForestClassifier</label><div class=\"sk-toggleable__content\"><pre>RandomForestClassifier(random_state=42)</pre></div></div></div></div></div></div></div></div></div></div>"
      ],
      "text/plain": [
       "GridSearchCV(cv=5, estimator=RandomForestClassifier(random_state=42),\n",
       "             param_grid={'max_depth': [None, 10, 20, 30],\n",
       "                         'min_samples_split': [2, 5, 10],\n",
       "                         'n_estimators': [100, 200, 300]})"
      ]
     },
     "execution_count": 14,
     "metadata": {},
     "output_type": "execute_result"
    }
   ],
   "source": [
    "param_grid = {\n",
    "    'n_estimators': [100, 200, 300],\n",
    "    'max_depth': [None, 10, 20, 30],\n",
    "    'min_samples_split': [2, 5, 10]\n",
    "}\n",
    "grid_search = GridSearchCV(RandomForestClassifier(random_state=42), param_grid, cv=5)\n",
    "grid_search.fit(X_train, y_train)"
   ]
  },
  {
   "cell_type": "markdown",
   "id": "ed98220e",
   "metadata": {
    "papermill": {
     "duration": 0.005506,
     "end_time": "2025-02-09T15:24:14.877297",
     "exception": false,
     "start_time": "2025-02-09T15:24:14.871791",
     "status": "completed"
    },
    "tags": []
   },
   "source": [
    "**Best Model Evaluation**"
   ]
  },
  {
   "cell_type": "code",
   "execution_count": 15,
   "id": "a846dc90",
   "metadata": {
    "execution": {
     "iopub.execute_input": "2025-02-09T15:24:14.890226Z",
     "iopub.status.busy": "2025-02-09T15:24:14.889871Z",
     "iopub.status.idle": "2025-02-09T15:24:14.943733Z",
     "shell.execute_reply": "2025-02-09T15:24:14.942418Z"
    },
    "papermill": {
     "duration": 0.062481,
     "end_time": "2025-02-09T15:24:14.945572",
     "exception": false,
     "start_time": "2025-02-09T15:24:14.883091",
     "status": "completed"
    },
    "tags": []
   },
   "outputs": [
    {
     "name": "stdout",
     "output_type": "stream",
     "text": [
      "Optimized Test Accuracy: 69.20%\n"
     ]
    }
   ],
   "source": [
    "best_model = grid_search.best_estimator_\n",
    "y_pred = best_model.predict(X_test)\n",
    "optimized_accuracy = accuracy_score(y_test, y_pred)\n",
    "print(f\"Optimized Test Accuracy: {optimized_accuracy * 100:.2f}%\")"
   ]
  },
  {
   "cell_type": "code",
   "execution_count": 16,
   "id": "56d7dada",
   "metadata": {
    "execution": {
     "iopub.execute_input": "2025-02-09T15:24:14.958713Z",
     "iopub.status.busy": "2025-02-09T15:24:14.958385Z",
     "iopub.status.idle": "2025-02-09T15:24:14.962492Z",
     "shell.execute_reply": "2025-02-09T15:24:14.961613Z"
    },
    "papermill": {
     "duration": 0.012333,
     "end_time": "2025-02-09T15:24:14.964041",
     "exception": false,
     "start_time": "2025-02-09T15:24:14.951708",
     "status": "completed"
    },
    "tags": []
   },
   "outputs": [],
   "source": [
    "model = RandomForestClassifier(n_estimators=300, max_depth=30, min_samples_split=5, random_state=42)"
   ]
  },
  {
   "cell_type": "code",
   "execution_count": 17,
   "id": "8990ad2d",
   "metadata": {
    "execution": {
     "iopub.execute_input": "2025-02-09T15:24:14.977290Z",
     "iopub.status.busy": "2025-02-09T15:24:14.976929Z",
     "iopub.status.idle": "2025-02-09T15:24:14.981480Z",
     "shell.execute_reply": "2025-02-09T15:24:14.980355Z"
    },
    "papermill": {
     "duration": 0.013057,
     "end_time": "2025-02-09T15:24:14.983106",
     "exception": false,
     "start_time": "2025-02-09T15:24:14.970049",
     "status": "completed"
    },
    "tags": []
   },
   "outputs": [],
   "source": [
    "model = GradientBoostingClassifier(n_estimators=300, learning_rate=0.1, max_depth=5, random_state=42)"
   ]
  }
 ],
 "metadata": {
  "kaggle": {
   "accelerator": "none",
   "dataSources": [
    {
     "datasetId": 6616450,
     "sourceId": 10680484,
     "sourceType": "datasetVersion"
    }
   ],
   "dockerImageVersionId": 30839,
   "isGpuEnabled": false,
   "isInternetEnabled": true,
   "language": "python",
   "sourceType": "notebook"
  },
  "kernelspec": {
   "display_name": "Python 3",
   "language": "python",
   "name": "python3"
  },
  "language_info": {
   "codemirror_mode": {
    "name": "ipython",
    "version": 3
   },
   "file_extension": ".py",
   "mimetype": "text/x-python",
   "name": "python",
   "nbconvert_exporter": "python",
   "pygments_lexer": "ipython3",
   "version": "3.10.12"
  },
  "papermill": {
   "default_parameters": {},
   "duration": 349.749594,
   "end_time": "2025-02-09T15:24:15.709719",
   "environment_variables": {},
   "exception": null,
   "input_path": "__notebook__.ipynb",
   "output_path": "__notebook__.ipynb",
   "parameters": {},
   "start_time": "2025-02-09T15:18:25.960125",
   "version": "2.6.0"
  }
 },
 "nbformat": 4,
 "nbformat_minor": 5
}
